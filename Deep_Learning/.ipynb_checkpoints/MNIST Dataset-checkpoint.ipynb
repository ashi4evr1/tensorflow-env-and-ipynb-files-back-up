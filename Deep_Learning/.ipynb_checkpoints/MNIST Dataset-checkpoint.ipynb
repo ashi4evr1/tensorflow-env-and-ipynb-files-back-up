{
 "cells": [
  {
   "cell_type": "code",
   "execution_count": 1,
   "id": "edf98ee0-3a42-4e87-a89c-efee492144f0",
   "metadata": {},
   "outputs": [],
   "source": [
    "import tensorflow as tf\n",
    "import numpy as np"
   ]
  },
  {
   "cell_type": "code",
   "execution_count": 2,
   "id": "55283cd6-b0e4-4fbf-bcc1-7bfdf29ba5e9",
   "metadata": {},
   "outputs": [
    {
     "name": "stdout",
     "output_type": "stream",
     "text": [
      "Downloading data from https://storage.googleapis.com/tensorflow/tf-keras-datasets/mnist.npz\n",
      "11490434/11490434 [==============================] - 7s 1us/step\n"
     ]
    }
   ],
   "source": [
    "(X_train, y_train), (X_test, y_test) = tf.keras.datasets.mnist.load_data()"
   ]
  },
  {
   "cell_type": "code",
   "execution_count": 3,
   "id": "92bb5f66-5d18-480d-ad4c-bea799c5e931",
   "metadata": {},
   "outputs": [
    {
     "data": {
      "text/plain": [
       "(60000, 28, 28)"
      ]
     },
     "execution_count": 3,
     "metadata": {},
     "output_type": "execute_result"
    }
   ],
   "source": [
    "X_train.shape"
   ]
  },
  {
   "cell_type": "code",
   "execution_count": 4,
   "id": "783007f3-4e97-42c1-8457-108e2d8e0d07",
   "metadata": {},
   "outputs": [],
   "source": [
    "X_train = X_train.reshape(60000, 784).astype('float32')/255 "
   ]
  },
  {
   "cell_type": "code",
   "execution_count": 7,
   "id": "f0af4f05-5e8f-4bc4-8c39-4936ee6e38d6",
   "metadata": {},
   "outputs": [],
   "source": [
    "num_val_samples = 10000\n",
    "X_val = X_train[-num_val_samples:]\n",
    "y_val = y_train[num_val_samples:]\n",
    "X_train = X_train[:-num_val_samples]\n",
    "y_train = y_train[:-num_val_samples]\n",
    "\n"
   ]
  },
  {
   "cell_type": "markdown",
   "id": "33ff3959-8c69-4bc3-b110-b2e50b235eb8",
   "metadata": {},
   "source": [
    "### Designing of Neural Network"
   ]
  },
  {
   "cell_type": "code",
   "execution_count": null,
   "id": "71ab0e05-1967-4391-a6d3-315c452402b0",
   "metadata": {},
   "outputs": [],
   "source": [
    "# Instantiate a simple classification model:\n",
    "\n",
    "\n",
    "model = tf.keras.Sequential([\n",
    "    tf.keras.layers.Dense(512, activation=tf.nn.relu), \n",
    "    tf.keras.layers.Dense(256, activation=tf.nn.tanh), \n",
    "    tf.keras.layers.Dense(128, activation=tf.nn.relu), \n",
    "    tf.keras.layers.Dense(64, activation=tf.nn.relu), \n",
    "    tf.keras.layers.Dense(10)\n",
    "])\n",
    "\n",
    "# Instantiates a loss function that expects integer targets.\n",
    "\n",
    "loss = tf.keras.losses.SparseCategoricalCrossentropy(from_logits=True)\n",
    "\n",
    "# Instantiate an accuracy metric\n",
    "\n"
   ]
  },
  {
   "cell_type": "code",
   "execution_count": null,
   "id": "109aa0d9-3e23-422e-af90-dfb3e5e5846d",
   "metadata": {},
   "outputs": [],
   "source": []
  },
  {
   "cell_type": "code",
   "execution_count": null,
   "id": "5a0e21c4-b80f-42b0-a7e3-05072b94ad04",
   "metadata": {},
   "outputs": [],
   "source": []
  },
  {
   "cell_type": "code",
   "execution_count": null,
   "id": "aac48e1d-6b75-4574-8da9-ee0049b3b61c",
   "metadata": {},
   "outputs": [],
   "source": []
  },
  {
   "cell_type": "code",
   "execution_count": null,
   "id": "eb1e753c-3b30-4162-98fc-90d631536a20",
   "metadata": {},
   "outputs": [],
   "source": []
  },
  {
   "cell_type": "code",
   "execution_count": null,
   "id": "c189686e-ff43-4358-90bd-11b53608f92f",
   "metadata": {},
   "outputs": [],
   "source": []
  }
 ],
 "metadata": {
  "kernelspec": {
   "display_name": "Python 3 (ipykernel)",
   "language": "python",
   "name": "python3"
  },
  "language_info": {
   "codemirror_mode": {
    "name": "ipython",
    "version": 3
   },
   "file_extension": ".py",
   "mimetype": "text/x-python",
   "name": "python",
   "nbconvert_exporter": "python",
   "pygments_lexer": "ipython3",
   "version": "3.9.19"
  }
 },
 "nbformat": 4,
 "nbformat_minor": 5
}
