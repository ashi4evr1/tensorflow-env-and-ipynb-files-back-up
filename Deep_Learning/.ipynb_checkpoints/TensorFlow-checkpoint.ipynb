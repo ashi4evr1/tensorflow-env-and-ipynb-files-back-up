{
 "cells": [
  {
   "cell_type": "code",
   "execution_count": 1,
   "id": "028cfb19-e35b-4d47-b223-187de41e0795",
   "metadata": {},
   "outputs": [],
   "source": [
    "import numpy as np\n",
    "import tensorflow as tf"
   ]
  },
  {
   "cell_type": "code",
   "execution_count": 14,
   "id": "f0e512ac-47ea-4c0e-a364-87435055d897",
   "metadata": {},
   "outputs": [],
   "source": [
    "# pip install \"tensorflow<2.11\""
   ]
  },
  {
   "cell_type": "code",
   "execution_count": 6,
   "id": "f3456c37-e9a7-4aca-b9cc-17c83ebde5e8",
   "metadata": {},
   "outputs": [],
   "source": [
    "# pip install numpy==1.21"
   ]
  },
  {
   "cell_type": "code",
   "execution_count": 7,
   "id": "acfc0595-a81f-4788-8b8d-fc5df4c399e4",
   "metadata": {},
   "outputs": [
    {
     "data": {
      "text/plain": [
       "'1.21.0'"
      ]
     },
     "execution_count": 7,
     "metadata": {},
     "output_type": "execute_result"
    }
   ],
   "source": [
    "np.__version__"
   ]
  },
  {
   "cell_type": "code",
   "execution_count": null,
   "id": "970a2479-1ebe-449d-9256-19b5a2c14231",
   "metadata": {},
   "outputs": [],
   "source": []
  },
  {
   "cell_type": "code",
   "execution_count": null,
   "id": "af04b014-adec-4ff4-8d38-bf82335e7eeb",
   "metadata": {},
   "outputs": [],
   "source": [
    "# pip uninstall tensorflow"
   ]
  },
  {
   "cell_type": "code",
   "execution_count": 15,
   "id": "dcdd18d9-5f1a-422a-bbdb-2895ff4acd8e",
   "metadata": {},
   "outputs": [
    {
     "name": "stdout",
     "output_type": "stream",
     "text": [
      "Is TensorFlow built with CUDA: True\n"
     ]
    }
   ],
   "source": [
    "print(\"Is TensorFlow built with CUDA:\", tf.test.is_built_with_cuda())"
   ]
  },
  {
   "cell_type": "code",
   "execution_count": 16,
   "id": "021c5ba1-05e3-4988-b8cd-7ea2c3b3f0de",
   "metadata": {},
   "outputs": [
    {
     "name": "stdout",
     "output_type": "stream",
     "text": [
      "[PhysicalDevice(name='/physical_device:GPU:0', device_type='GPU')]\n"
     ]
    }
   ],
   "source": [
    "print(tf.config.list_physical_devices('GPU'))"
   ]
  },
  {
   "cell_type": "code",
   "execution_count": 17,
   "id": "04f65950-c37b-40cb-9fdd-d35bdc1afc91",
   "metadata": {},
   "outputs": [
    {
     "name": "stdout",
     "output_type": "stream",
     "text": [
      "Available GPUs:  [PhysicalDevice(name='/physical_device:GPU:0', device_type='GPU')]\n",
      "Device Name: NVIDIA GeForce RTX 2070\n"
     ]
    }
   ],
   "source": [
    "gpus = tf.config.list_physical_devices('GPU')\n",
    "print(\"Available GPUs: \", gpus)\n",
    "\n",
    "for gpu in gpus:\n",
    "    details = tf.config.experimental.get_device_details(gpu)\n",
    "    print(f\"Device Name: {details.get('device_name')}\")"
   ]
  },
  {
   "cell_type": "code",
   "execution_count": 18,
   "id": "9842b373-7c3f-42c8-beb0-6c63ca803dab",
   "metadata": {},
   "outputs": [
    {
     "data": {
      "text/plain": [
       "'2.10.1'"
      ]
     },
     "execution_count": 18,
     "metadata": {},
     "output_type": "execute_result"
    }
   ],
   "source": [
    "tf.__version__"
   ]
  },
  {
   "cell_type": "code",
   "execution_count": 12,
   "id": "4ca8d268-bd78-40c3-acdb-e2443f5ae258",
   "metadata": {},
   "outputs": [
    {
     "name": "stdout",
     "output_type": "stream",
     "text": [
      "WARNING:tensorflow:From C:\\Users\\MSIGE65\\AppData\\Local\\Temp\\ipykernel_13032\\337460670.py:1: is_gpu_available (from tensorflow.python.framework.test_util) is deprecated and will be removed in a future version.\n",
      "Instructions for updating:\n",
      "Use `tf.config.list_physical_devices('GPU')` instead.\n"
     ]
    },
    {
     "data": {
      "text/plain": [
       "True"
      ]
     },
     "execution_count": 12,
     "metadata": {},
     "output_type": "execute_result"
    }
   ],
   "source": [
    "tf.test.is_gpu_available()"
   ]
  },
  {
   "cell_type": "code",
   "execution_count": 13,
   "id": "33bf4fe5-c25d-4171-82e1-fd62eee4df84",
   "metadata": {},
   "outputs": [
    {
     "name": "stdout",
     "output_type": "stream",
     "text": [
      "GPU Name: NVIDIA GeForce RTX 2070\n"
     ]
    }
   ],
   "source": [
    "gpus = tf.config.experimental.list_physical_devices('GPU')\n",
    "\n",
    "# Check if GPUs are available\n",
    "if gpus:\n",
    "    for gpu in gpus:\n",
    "        gpu_name = tf.config.experimental.get_device_details(gpu).get('device_name')\n",
    "        print(f\"GPU Name: {gpu_name}\")\n",
    "else:\n",
    "    print(\"No GPU available\")"
   ]
  },
  {
   "cell_type": "code",
   "execution_count": 14,
   "id": "95afd08f-db28-414b-93db-e2645afa7eef",
   "metadata": {},
   "outputs": [
    {
     "data": {
      "text/plain": [
       "[PhysicalDevice(name='/physical_device:CPU:0', device_type='CPU')]"
      ]
     },
     "execution_count": 14,
     "metadata": {},
     "output_type": "execute_result"
    }
   ],
   "source": [
    "tf.config.list_physical_devices('CPU')"
   ]
  },
  {
   "cell_type": "code",
   "execution_count": 15,
   "id": "78ac5c96-7406-44c7-9a73-125f1caf20d6",
   "metadata": {},
   "outputs": [
    {
     "data": {
      "text/plain": [
       "[PhysicalDevice(name='/physical_device:CPU:0', device_type='CPU'),\n",
       " PhysicalDevice(name='/physical_device:GPU:0', device_type='GPU')]"
      ]
     },
     "execution_count": 15,
     "metadata": {},
     "output_type": "execute_result"
    }
   ],
   "source": [
    "[i for i in tf.config.list_physical_devices()]"
   ]
  },
  {
   "cell_type": "code",
   "execution_count": 44,
   "id": "d5988ab3-1026-4a49-8521-07eb702ef5d4",
   "metadata": {},
   "outputs": [
    {
     "name": "stdout",
     "output_type": "stream",
     "text": [
      "Tue Aug 13 16:09:27 2024       \n",
      "+-----------------------------------------------------------------------------------------+\n",
      "| NVIDIA-SMI 560.81                 Driver Version: 560.81         CUDA Version: 12.6     |\n",
      "|-----------------------------------------+------------------------+----------------------+\n",
      "| GPU  Name                  Driver-Model | Bus-Id          Disp.A | Volatile Uncorr. ECC |\n",
      "| Fan  Temp   Perf          Pwr:Usage/Cap |           Memory-Usage | GPU-Util  Compute M. |\n",
      "|                                         |                        |               MIG M. |\n",
      "|=========================================+========================+======================|\n",
      "|   0  NVIDIA GeForce RTX 2070      WDDM  |   00000000:01:00.0 Off |                  N/A |\n",
      "| N/A   65C    P8              5W /  115W |    6676MiB /   8192MiB |      0%      Default |\n",
      "|                                         |                        |                  N/A |\n",
      "+-----------------------------------------+------------------------+----------------------+\n",
      "                                                                                         \n",
      "+-----------------------------------------------------------------------------------------+\n",
      "| Processes:                                                                              |\n",
      "|  GPU   GI   CI        PID   Type   Process name                              GPU Memory |\n",
      "|        ID   ID                                                               Usage      |\n",
      "|=========================================================================================|\n",
      "|    0   N/A  N/A      1448    C+G   ...64__8wekyb3d8bbwe\\CalculatorApp.exe      N/A      |\n",
      "|    0   N/A  N/A      2300    C+G   C:\\Windows\\System32\\dwm.exe                 N/A      |\n",
      "|    0   N/A  N/A      5472    C+G   ...aam7r\\AcrobatNotificationClient.exe      N/A      |\n",
      "|    0   N/A  N/A     11288    C+G   ...nt.CBS_cw5n1h2txyewy\\SearchHost.exe      N/A      |\n",
      "|    0   N/A  N/A     11320    C+G   ...2txyewy\\StartMenuExperienceHost.exe      N/A      |\n",
      "|    0   N/A  N/A     12132    C+G   ...__8wekyb3d8bbwe\\WindowsTerminal.exe      N/A      |\n",
      "|    0   N/A  N/A     13032      C   ...\\anaconda3\\envs\\ashi_env\\python.exe      N/A      |\n",
      "|    0   N/A  N/A     13600    C+G   ...CBS_cw5n1h2txyewy\\TextInputHost.exe      N/A      |\n",
      "|    0   N/A  N/A     14116    C+G   ...ekyb3d8bbwe\\PhoneExperienceHost.exe      N/A      |\n",
      "|    0   N/A  N/A     16848    C+G   ..._8wekyb3d8bbwe\\Office16\\WINWORD.EXE      N/A      |\n",
      "+-----------------------------------------------------------------------------------------+\n"
     ]
    }
   ],
   "source": [
    "!nvidia-smi"
   ]
  },
  {
   "cell_type": "code",
   "execution_count": 17,
   "id": "478a6fb4-e40b-47fb-b27f-8328f41d657a",
   "metadata": {},
   "outputs": [
    {
     "name": "stdout",
     "output_type": "stream",
     "text": [
      "GPU 0: NVIDIA GeForce RTX 2070 (UUID: GPU-a312207a-f974-2b05-3d75-bcda3f84c528)\n"
     ]
    }
   ],
   "source": [
    "!nvidia-smi -L"
   ]
  },
  {
   "cell_type": "code",
   "execution_count": 18,
   "id": "7ae9b447-c3cc-4631-8038-b819b537f9ea",
   "metadata": {},
   "outputs": [],
   "source": [
    "a = tf.random.normal(shape=(5, 3))"
   ]
  },
  {
   "cell_type": "code",
   "execution_count": 19,
   "id": "353aa540-144b-4098-84e6-c4d9d90b0ffd",
   "metadata": {},
   "outputs": [
    {
     "name": "stdout",
     "output_type": "stream",
     "text": [
      "tf.Tensor(\n",
      "[[-0.18506835 -0.19241688  0.45951548]\n",
      " [ 0.23407519 -1.2242646   0.47013912]\n",
      " [ 0.86041075  0.3933115   0.43257424]\n",
      " [ 1.0048745   0.5622988   1.7013412 ]\n",
      " [-0.04866887 -0.1924072   0.871503  ]], shape=(5, 3), dtype=float32)\n"
     ]
    }
   ],
   "source": [
    "print(a)"
   ]
  },
  {
   "cell_type": "code",
   "execution_count": 58,
   "id": "6581dc8e-f39e-40f9-b374-22d7ce0fbb24",
   "metadata": {},
   "outputs": [
    {
     "data": {
      "text/plain": [
       "TensorShape([5, 3])"
      ]
     },
     "execution_count": 58,
     "metadata": {},
     "output_type": "execute_result"
    }
   ],
   "source": [
    "a.shape"
   ]
  },
  {
   "cell_type": "code",
   "execution_count": 59,
   "id": "df2c1eef-7177-4f3e-b193-fde2f5482655",
   "metadata": {},
   "outputs": [],
   "source": [
    "b = tf.random.normal((100, 100, 100, 3))"
   ]
  },
  {
   "cell_type": "code",
   "execution_count": 61,
   "id": "6dab7507-8b5c-451a-ad8b-22ef40d049e2",
   "metadata": {},
   "outputs": [
    {
     "data": {
      "text/plain": [
       "TensorShape([100, 100, 100, 3])"
      ]
     },
     "execution_count": 61,
     "metadata": {},
     "output_type": "execute_result"
    }
   ],
   "source": [
    "b.shape"
   ]
  },
  {
   "cell_type": "code",
   "execution_count": 62,
   "id": "1d4246af-adef-4786-81fc-64c080fc558b",
   "metadata": {},
   "outputs": [
    {
     "data": {
      "text/plain": [
       "4"
      ]
     },
     "execution_count": 62,
     "metadata": {},
     "output_type": "execute_result"
    }
   ],
   "source": [
    "b.ndim"
   ]
  },
  {
   "cell_type": "code",
   "execution_count": 35,
   "id": "a09aaea1-2829-4cde-b75d-f3a0d74c186f",
   "metadata": {},
   "outputs": [
    {
     "name": "stdout",
     "output_type": "stream",
     "text": [
      "Time took for CPU compute: 0.027492046356201172\n",
      "Time took fro GPU computation: 0.0009989738464355469\n",
      "\n",
      "GPU speed-up over CPU: 27x\n"
     ]
    }
   ],
   "source": [
    "# Using CPU at slot 0\n",
    "\n",
    "with tf.device('/CPU:0'):\n",
    "\n",
    "    # starting a timer\n",
    "    start = time.time() \n",
    "\n",
    "    # Doing operations on CPU\n",
    "    random_image_cpu = tf.random.normal((100, 100, 100, 3))\n",
    "    net_cpu = tf.reduce_sum(random_image_cpu)\n",
    "\n",
    "\n",
    "    # Printing how long it will took for CPU computation:\n",
    "    end_cpu = time.time() - start\n",
    "    print(f'Time took for CPU compute: {end_cpu}')\n",
    "\n",
    "\n",
    "# Using GPU at slot 0\n",
    "\n",
    "with tf.device('/GPU:0'):\n",
    "\n",
    "    # Starting a timer\n",
    "\n",
    "    start = time.time()\n",
    "\n",
    "    random_image_gpu = tf.random.normal((100, 100, 100, 3))\n",
    "    net_gpu = tf.reduce_sum(random_image_gpu)\n",
    "\n",
    "    # Printing how long it took for GPU computation:\n",
    "\n",
    "    end_gpu =  time.time() - start\n",
    "    print(f'Time took fro GPU computation: {end_gpu}')\n",
    "print(f'\\nGPU speed-up over CPU: {int(end_cpu/end_gpu)}x')"
   ]
  },
  {
   "cell_type": "code",
   "execution_count": 24,
   "id": "baa5ee8e-6d53-4ebf-b75c-483b971365ad",
   "metadata": {},
   "outputs": [],
   "source": [
    "tf.debugging.set_log_device_placement(True)\n",
    "\n",
    "# Run a simple operation to see device placements\n",
    "\n",
    "a = tf.constant([[1.0, 2.0, 3.0], [4.0, 5.0, 6.0]])  # Shape (2, 3)\n",
    "b = tf.constant([[1.0, 4.0], [2.0, 5.0], [3.0, 6.0]])  # Shape (3, 2)\n",
    "\n",
    "c = tf.matmul(a, b)  # This is valid and will result in a (2, 2) matrix\n"
   ]
  },
  {
   "cell_type": "code",
   "execution_count": 25,
   "id": "4b151191-3a61-434d-89e7-b92f7f492013",
   "metadata": {},
   "outputs": [
    {
     "name": "stdout",
     "output_type": "stream",
     "text": [
      "[name: \"/device:CPU:0\"\n",
      "device_type: \"CPU\"\n",
      "memory_limit: 268435456\n",
      "locality {\n",
      "}\n",
      "incarnation: 8766766501046127782\n",
      "xla_global_id: -1\n",
      ", name: \"/device:GPU:0\"\n",
      "device_type: \"GPU\"\n",
      "memory_limit: 6272581632\n",
      "locality {\n",
      "  bus_id: 1\n",
      "  links {\n",
      "  }\n",
      "}\n",
      "incarnation: 7030388822160139412\n",
      "physical_device_desc: \"device: 0, name: NVIDIA GeForce RTX 2070, pci bus id: 0000:01:00.0, compute capability: 7.5\"\n",
      "xla_global_id: 416903419\n",
      "]\n"
     ]
    }
   ],
   "source": [
    "from tensorflow.python.client import device_lib\n",
    "\n",
    "print(device_lib.list_local_devices())"
   ]
  },
  {
   "cell_type": "code",
   "execution_count": 26,
   "id": "64c4a2be-af03-4c1d-81ba-9ecc19d46db3",
   "metadata": {},
   "outputs": [
    {
     "name": "stdout",
     "output_type": "stream",
     "text": [
      "Time took fro GPU computation: 0.00101470947265625\n"
     ]
    }
   ],
   "source": [
    "with tf.device('/GPU:0'):\n",
    "\n",
    "    # Starting a timer\n",
    "    \n",
    "    start = time.time()\n",
    "\n",
    "    random_image_gpu = tf.random.normal((1000, 100, 100, 3))\n",
    "    net_gpu = tf.reduce_sum(random_image_gpu)\n",
    "\n",
    "    # Printing how long it took for GPU computation:\n",
    "\n",
    "    end_gpu =  time.time() - start\n",
    "    print(f'Time took fro GPU computation: {end_gpu}')"
   ]
  },
  {
   "cell_type": "code",
   "execution_count": 42,
   "id": "e605187b-12d4-4a49-ab78-1a5fe808be43",
   "metadata": {},
   "outputs": [],
   "source": [
    "# Generate random numbers with uniform distribution:\n",
    "\n",
    "a = tf.random.uniform(shape=[5, 4], minval=3, maxval=10)"
   ]
  },
  {
   "cell_type": "code",
   "execution_count": 43,
   "id": "6576b5bc-4306-4899-b0bd-788a133257eb",
   "metadata": {},
   "outputs": [
    {
     "data": {
      "text/plain": [
       "<tf.Tensor: shape=(5, 4), dtype=float32, numpy=\n",
       "array([[7.9528513, 8.746841 , 7.7886467, 9.117251 ],\n",
       "       [5.737388 , 5.3831954, 3.260429 , 5.5921087],\n",
       "       [8.013907 , 3.066088 , 5.9464293, 8.504319 ],\n",
       "       [9.687214 , 9.705658 , 4.2836094, 9.656082 ],\n",
       "       [3.0962348, 4.5038996, 5.5705786, 9.368619 ]], dtype=float32)>"
      ]
     },
     "execution_count": 43,
     "metadata": {},
     "output_type": "execute_result"
    }
   ],
   "source": [
    "a"
   ]
  },
  {
   "cell_type": "markdown",
   "id": "539cbdf6-a27d-4219-8a2c-5da654475a63",
   "metadata": {},
   "source": [
    "## Constant in Neural Networks"
   ]
  },
  {
   "cell_type": "code",
   "execution_count": 49,
   "id": "1d5cde2c-348b-43c2-98d7-612c53744a1a",
   "metadata": {},
   "outputs": [
    {
     "name": "stdout",
     "output_type": "stream",
     "text": [
      "tf.Tensor(4.0, shape=(), dtype=float64)\n"
     ]
    }
   ],
   "source": [
    "c = tf.constant(4.0, dtype=tf.float64)\n",
    "\n",
    "print(c)"
   ]
  },
  {
   "cell_type": "code",
   "execution_count": 50,
   "id": "20869e88-5db8-46e2-8b89-47315acf33bc",
   "metadata": {},
   "outputs": [
    {
     "data": {
      "text/plain": [
       "dtype('int32')"
      ]
     },
     "execution_count": 50,
     "metadata": {},
     "output_type": "execute_result"
    }
   ],
   "source": [
    "d = np.array([ [1,2,3,], [4,5,6] ])\n",
    "d.dtype"
   ]
  },
  {
   "cell_type": "code",
   "execution_count": 51,
   "id": "3f083881-d242-4e7e-b149-b6e521ec12c5",
   "metadata": {},
   "outputs": [
    {
     "data": {
      "text/plain": [
       "<tf.Tensor: shape=(2, 3), dtype=int32, numpy=\n",
       "array([[1, 2, 3],\n",
       "       [4, 5, 6]])>"
      ]
     },
     "execution_count": 51,
     "metadata": {},
     "output_type": "execute_result"
    }
   ],
   "source": [
    "e = tf.constant(d)\n",
    "e"
   ]
  },
  {
   "cell_type": "code",
   "execution_count": 52,
   "id": "d71640bb-9d82-46bd-a12a-2885ff0863ef",
   "metadata": {},
   "outputs": [
    {
     "data": {
      "text/plain": [
       "tf.int32"
      ]
     },
     "execution_count": 52,
     "metadata": {},
     "output_type": "execute_result"
    }
   ],
   "source": [
    " e.dtype"
   ]
  },
  {
   "cell_type": "code",
   "execution_count": 53,
   "id": "8ba356c9-0644-492b-afd4-4eeea2d9fa26",
   "metadata": {},
   "outputs": [
    {
     "data": {
      "text/plain": [
       "dtype('int32')"
      ]
     },
     "execution_count": 53,
     "metadata": {},
     "output_type": "execute_result"
    }
   ],
   "source": [
    "d.dtype"
   ]
  },
  {
   "cell_type": "code",
   "execution_count": 55,
   "id": "0f1c3cf0-ce2f-4a07-9c39-6d9822cfc237",
   "metadata": {},
   "outputs": [
    {
     "name": "stdout",
     "output_type": "stream",
     "text": [
      "tf.Tensor([1 2 3], shape=(3,), dtype=int32)\n"
     ]
    },
    {
     "data": {
      "text/plain": [
       "<tf.Tensor: shape=(3, 1), dtype=int32, numpy=\n",
       "array([[1],\n",
       "       [2],\n",
       "       [3]])>"
      ]
     },
     "execution_count": 55,
     "metadata": {},
     "output_type": "execute_result"
    }
   ],
   "source": [
    "b = tf.constant([1,2,3])\n",
    "print(b)\n",
    "b = tf.expand_dims(b, 1)\n",
    "b.shape\n",
    "b"
   ]
  },
  {
   "cell_type": "code",
   "execution_count": 69,
   "id": "1b20a387-556e-472e-aeab-f5ebfe6d9f9b",
   "metadata": {},
   "outputs": [
    {
     "data": {
      "text/plain": [
       "TensorShape([1, 3, 1])"
      ]
     },
     "execution_count": 69,
     "metadata": {},
     "output_type": "execute_result"
    }
   ],
   "source": [
    "b=tf.expand_dims(b, 0)\n",
    "b.shape"
   ]
  },
  {
   "cell_type": "code",
   "execution_count": 70,
   "id": "aca434e4-5553-4aeb-8383-2755d583b49f",
   "metadata": {},
   "outputs": [
    {
     "data": {
      "text/plain": [
       "<tf.Tensor: shape=(10, 10), dtype=float32, numpy=\n",
       "array([[-0.3065732 , -0.7604594 ,  0.91884786,  0.37260583, -0.16597532,\n",
       "         0.5475341 , -1.0454128 ,  0.9318304 ,  0.20448226, -0.7084755 ],\n",
       "       [ 1.6374545 ,  0.2779651 , -0.5158457 ,  1.6584864 , -0.211467  ,\n",
       "        -0.7111922 ,  1.0949564 ,  0.58159256,  1.1573575 ,  0.07399148],\n",
       "       [-0.0039513 ,  1.6271445 , -0.7359816 ,  1.0269163 ,  0.56987536,\n",
       "         1.0713485 , -0.7344878 ,  0.86274385,  1.3048829 , -0.4424155 ],\n",
       "       [ 0.31004488, -0.7477227 ,  0.04706642, -0.3992492 , -1.0916581 ,\n",
       "         0.94418305,  0.6261594 ,  0.15015008, -0.4363238 ,  0.65599346],\n",
       "       [-0.86531335, -0.93596864,  0.5927043 ,  1.378649  ,  0.2449582 ,\n",
       "         0.4547065 , -1.3859239 , -0.72049755,  0.07189207,  0.71066433],\n",
       "       [-1.3822883 , -0.31660813, -0.30360582, -1.1852727 ,  0.14529382,\n",
       "         0.39629894, -0.8375262 ,  0.79615533, -1.1971837 , -0.19492777],\n",
       "       [-1.9050646 ,  1.6744578 , -1.6127363 ,  1.1729386 ,  0.3435147 ,\n",
       "         1.2020924 ,  0.00244422,  1.7959571 ,  1.4717696 ,  1.3066226 ],\n",
       "       [-0.6875642 , -0.5353486 ,  0.07240045,  0.31017834,  0.76922417,\n",
       "         1.3136039 ,  0.37163073, -0.9356385 , -1.0511849 , -1.3029852 ],\n",
       "       [-1.1398498 , -1.3470442 ,  0.7570459 ,  0.93636703, -1.020019  ,\n",
       "         1.2345928 , -0.40492404,  1.014917  ,  0.174721  , -0.7955631 ],\n",
       "       [ 0.9802745 ,  0.52008665, -0.31888562, -1.2211673 , -0.00693928,\n",
       "        -0.54998785,  0.074472  ,  0.9800215 ,  0.9003689 ,  1.833618  ]],\n",
       "      dtype=float32)>"
      ]
     },
     "execution_count": 70,
     "metadata": {},
     "output_type": "execute_result"
    }
   ],
   "source": [
    "tf.random.normal(shape=(10, 10), mean=0, stddev=1)"
   ]
  },
  {
   "cell_type": "code",
   "execution_count": 72,
   "id": "17bfc890-5073-4765-a92b-42381f247b7c",
   "metadata": {},
   "outputs": [
    {
     "data": {
      "text/plain": [
       "<tf.Tensor: shape=(10, 10), dtype=int32, numpy=\n",
       "array([[4, 6, 9, 8, 9, 6, 9, 5, 5, 7],\n",
       "       [7, 6, 5, 0, 9, 5, 0, 5, 5, 4],\n",
       "       [6, 5, 3, 1, 1, 1, 7, 4, 5, 5],\n",
       "       [0, 5, 6, 9, 8, 3, 8, 3, 6, 7],\n",
       "       [3, 0, 6, 5, 4, 0, 1, 2, 9, 1],\n",
       "       [7, 6, 2, 1, 1, 8, 6, 8, 5, 4],\n",
       "       [3, 4, 6, 0, 0, 9, 2, 7, 6, 0],\n",
       "       [0, 9, 5, 8, 9, 8, 7, 3, 4, 8],\n",
       "       [1, 3, 0, 6, 2, 0, 4, 1, 9, 6],\n",
       "       [1, 4, 1, 6, 1, 1, 6, 2, 3, 9]])>"
      ]
     },
     "execution_count": 72,
     "metadata": {},
     "output_type": "execute_result"
    }
   ],
   "source": [
    "tf.random.uniform(shape=(10, 10), minval=0, maxval=10, dtype='int32')"
   ]
  },
  {
   "cell_type": "markdown",
   "id": "6f7548c7-b16d-43a9-b2f0-78f76dcc8ace",
   "metadata": {},
   "source": [
    "## Variables in TensorFlow"
   ]
  },
  {
   "cell_type": "code",
   "execution_count": 74,
   "id": "2445a617-7c39-4f26-827f-87890da07a04",
   "metadata": {},
   "outputs": [
    {
     "name": "stdout",
     "output_type": "stream",
     "text": [
      "<tf.Variable 'Variable:0' shape=(1, 5) dtype=float32, numpy=\n",
      "array([[1.2570537 , 0.5540329 , 0.45573652, 0.10030435, 1.9370241 ]],\n",
      "      dtype=float32)>\n"
     ]
    }
   ],
   "source": [
    "init_vals = tf.random.normal((1,5), 0, 1)\n",
    "var = tf.Variable(init_vals)\n",
    "\n",
    "print(var)"
   ]
  },
  {
   "cell_type": "code",
   "execution_count": 19,
   "id": "32b14024-2738-481f-992e-d84788f7c8a5",
   "metadata": {},
   "outputs": [
    {
     "data": {
      "text/plain": [
       "'2.10.1'"
      ]
     },
     "execution_count": 19,
     "metadata": {},
     "output_type": "execute_result"
    }
   ],
   "source": [
    "tf.__version__"
   ]
  },
  {
   "cell_type": "code",
   "execution_count": 20,
   "id": "ff35b89d-4e25-4776-bb9a-9cfa6f48f057",
   "metadata": {},
   "outputs": [
    {
     "name": "stdout",
     "output_type": "stream",
     "text": [
      "Thu Aug 22 19:07:49 2024       \n",
      "+-----------------------------------------------------------------------------------------+\n",
      "| NVIDIA-SMI 560.81                 Driver Version: 560.81         CUDA Version: 12.6     |\n",
      "|-----------------------------------------+------------------------+----------------------+\n",
      "| GPU  Name                  Driver-Model | Bus-Id          Disp.A | Volatile Uncorr. ECC |\n",
      "| Fan  Temp   Perf          Pwr:Usage/Cap |           Memory-Usage | GPU-Util  Compute M. |\n",
      "|                                         |                        |               MIG M. |\n",
      "|=========================================+========================+======================|\n",
      "|   0  NVIDIA GeForce RTX 2070      WDDM  |   00000000:01:00.0 Off |                  N/A |\n",
      "| N/A   64C    P8             10W /  115W |     339MiB /   8192MiB |      1%      Default |\n",
      "|                                         |                        |                  N/A |\n",
      "+-----------------------------------------+------------------------+----------------------+\n",
      "                                                                                         \n",
      "+-----------------------------------------------------------------------------------------+\n",
      "| Processes:                                                                              |\n",
      "|  GPU   GI   CI        PID   Type   Process name                              GPU Memory |\n",
      "|        ID   ID                                                               Usage      |\n",
      "|=========================================================================================|\n",
      "|    0   N/A  N/A      2324    C+G   C:\\Windows\\System32\\dwm.exe                 N/A      |\n",
      "|    0   N/A  N/A     11908    C+G   ...nt.CBS_cw5n1h2txyewy\\SearchHost.exe      N/A      |\n",
      "|    0   N/A  N/A     11932    C+G   ...2txyewy\\StartMenuExperienceHost.exe      N/A      |\n",
      "|    0   N/A  N/A     12464    C+G   ...aam7r\\AcrobatNotificationClient.exe      N/A      |\n",
      "|    0   N/A  N/A     13416    C+G   ...__8wekyb3d8bbwe\\Notepad\\Notepad.exe      N/A      |\n",
      "|    0   N/A  N/A     13932    C+G   ...ekyb3d8bbwe\\PhoneExperienceHost.exe      N/A      |\n",
      "|    0   N/A  N/A     15456    C+G   ...CBS_cw5n1h2txyewy\\TextInputHost.exe      N/A      |\n",
      "|    0   N/A  N/A     16156    C+G   ...elSeries\\GG\\SteelSeriesGGClient.exe      N/A      |\n",
      "|    0   N/A  N/A     17036    C+G   ..._8wekyb3d8bbwe\\Office16\\WINWORD.EXE      N/A      |\n",
      "|    0   N/A  N/A     19368    C+G   ...__8wekyb3d8bbwe\\WindowsTerminal.exe      N/A      |\n",
      "|    0   N/A  N/A     23088    C+G   ...05.0_x64__8wekyb3d8bbwe\\Cortana.exe      N/A      |\n",
      "+-----------------------------------------------------------------------------------------+\n"
     ]
    }
   ],
   "source": [
    "!nvidia-smi"
   ]
  },
  {
   "cell_type": "code",
   "execution_count": 21,
   "id": "229a3f49-7f67-473f-8d22-705a3bb2ca5d",
   "metadata": {},
   "outputs": [],
   "source": [
    "a = tf.constant(7)"
   ]
  },
  {
   "cell_type": "code",
   "execution_count": 22,
   "id": "df85368d-8965-47ae-a473-9b2950c63cb5",
   "metadata": {},
   "outputs": [
    {
     "data": {
      "text/plain": [
       "<tf.Tensor: shape=(), dtype=int32, numpy=7>"
      ]
     },
     "execution_count": 22,
     "metadata": {},
     "output_type": "execute_result"
    }
   ],
   "source": [
    "a"
   ]
  },
  {
   "cell_type": "code",
   "execution_count": 23,
   "id": "2461f3b7-9a8f-45a3-ad97-b84cae61b674",
   "metadata": {},
   "outputs": [],
   "source": [
    "a = tf.constant([1,2,3])"
   ]
  },
  {
   "cell_type": "code",
   "execution_count": 27,
   "id": "fedd3255-dfa3-4dee-b158-8aa8bf6804b8",
   "metadata": {},
   "outputs": [],
   "source": [
    "b=tf.expand_dims(a, 0)"
   ]
  },
  {
   "cell_type": "code",
   "execution_count": 28,
   "id": "993362e1-b9c3-4196-9fb3-3292eddb08da",
   "metadata": {},
   "outputs": [
    {
     "data": {
      "text/plain": [
       "<tf.Tensor: shape=(1, 3), dtype=int32, numpy=array([[1, 2, 3]])>"
      ]
     },
     "execution_count": 28,
     "metadata": {},
     "output_type": "execute_result"
    }
   ],
   "source": [
    "b"
   ]
  },
  {
   "cell_type": "code",
   "execution_count": 29,
   "id": "b59ec609-2b2a-49bb-a8a2-9ed0a044b084",
   "metadata": {},
   "outputs": [
    {
     "data": {
      "text/plain": [
       "<tf.Tensor: shape=(1, 3), dtype=int32, numpy=array([[1, 2, 3]])>"
      ]
     },
     "execution_count": 29,
     "metadata": {},
     "output_type": "execute_result"
    }
   ],
   "source": [
    "b=tf.expand_dims(a, -2)\n",
    "b"
   ]
  },
  {
   "cell_type": "code",
   "execution_count": 31,
   "id": "7deb5feb-242f-41aa-afb6-74b7b0d8427d",
   "metadata": {},
   "outputs": [
    {
     "data": {
      "text/plain": [
       "<tf.Tensor: shape=(3, 1), dtype=int32, numpy=\n",
       "array([[1],\n",
       "       [2],\n",
       "       [3]])>"
      ]
     },
     "execution_count": 31,
     "metadata": {},
     "output_type": "execute_result"
    }
   ],
   "source": [
    "b=tf.expand_dims(a,1)\n",
    "b"
   ]
  },
  {
   "cell_type": "code",
   "execution_count": 32,
   "id": "9ef2b532-90e8-4455-b7a4-951d239602d0",
   "metadata": {},
   "outputs": [
    {
     "data": {
      "text/plain": [
       "<tf.Tensor: shape=(3, 1), dtype=int32, numpy=\n",
       "array([[1],\n",
       "       [2],\n",
       "       [3]])>"
      ]
     },
     "execution_count": 32,
     "metadata": {},
     "output_type": "execute_result"
    }
   ],
   "source": [
    "b=tf.expand_dims(a, -1)\n",
    "b"
   ]
  },
  {
   "cell_type": "code",
   "execution_count": 33,
   "id": "132204f8-8777-435c-b22a-4dbba4f4d685",
   "metadata": {},
   "outputs": [
    {
     "data": {
      "text/plain": [
       "<tf.Tensor: shape=(1, 3), dtype=int32, numpy=array([[1, 2, 3]])>"
      ]
     },
     "execution_count": 33,
     "metadata": {},
     "output_type": "execute_result"
    }
   ],
   "source": [
    "b=tf.expand_dims(a, 0)\n",
    "b"
   ]
  },
  {
   "cell_type": "code",
   "execution_count": 34,
   "id": "8ca6ce29-3824-48f1-acba-a96eb03306ad",
   "metadata": {},
   "outputs": [
    {
     "data": {
      "text/plain": [
       "<tf.Tensor: shape=(1, 3), dtype=int32, numpy=array([[1, 2, 3]])>"
      ]
     },
     "execution_count": 34,
     "metadata": {},
     "output_type": "execute_result"
    }
   ],
   "source": [
    "b=tf.expand_dims(a, -2)\n",
    "b"
   ]
  },
  {
   "cell_type": "code",
   "execution_count": 35,
   "id": "dcfe1f53-1338-479b-b44b-23aa6c85cb37",
   "metadata": {},
   "outputs": [
    {
     "data": {
      "text/plain": [
       "<tf.Variable 'Variable:0' shape=(1, 3) dtype=int32, numpy=array([[1, 2, 3]])>"
      ]
     },
     "execution_count": 35,
     "metadata": {},
     "output_type": "execute_result"
    }
   ],
   "source": [
    "b_var = tf.Variable(b)\n",
    "b_var"
   ]
  },
  {
   "cell_type": "code",
   "execution_count": 36,
   "id": "f4cccc3f-0f2a-49c3-8da4-fd6eeb84ffa4",
   "metadata": {},
   "outputs": [
    {
     "data": {
      "text/plain": [
       "<tf.Variable 'Variable:0' shape=(3, 3) dtype=float32, numpy=\n",
       "array([[1.7  , 2.2  , 8.   ],\n",
       "       [1.09 , 2.11 , 2.65 ],\n",
       "       [1.14 , 2.664, 2.91 ]], dtype=float32)>"
      ]
     },
     "execution_count": 36,
     "metadata": {},
     "output_type": "execute_result"
    }
   ],
   "source": [
    "c_var = tf.Variable([[1.7, 2.2, 8], [1.09, 2.11, 2.65], [1.14, 2.664, 2.91]])\n",
    "c_var"
   ]
  },
  {
   "cell_type": "code",
   "execution_count": 2,
   "id": "cfc4b639-9f80-4975-b1b7-c8980bc685fe",
   "metadata": {},
   "outputs": [
    {
     "data": {
      "text/plain": [
       "<tf.Variable 'Variable:0' shape=(2, 2) dtype=float32, numpy=\n",
       "array([[-0.51494783, -0.52726525],\n",
       "       [-1.0259738 ,  1.4647484 ]], dtype=float32)>"
      ]
     },
     "execution_count": 2,
     "metadata": {},
     "output_type": "execute_result"
    }
   ],
   "source": [
    "initial_value = tf.random.normal((2,2))\n",
    "a = tf.Variable(initial_value)\n",
    "a"
   ]
  },
  {
   "cell_type": "code",
   "execution_count": 3,
   "id": "ef20184a-1663-4f0b-899d-2af29eb586a4",
   "metadata": {},
   "outputs": [
    {
     "data": {
      "text/plain": [
       "<tf.Tensor: shape=(2, 2), dtype=float32, numpy=\n",
       "array([[ 0.6144477 , -0.07983158],\n",
       "       [-1.0530916 ,  0.45682594]], dtype=float32)>"
      ]
     },
     "execution_count": 3,
     "metadata": {},
     "output_type": "execute_result"
    }
   ],
   "source": [
    "new_value = tf.random.normal((2,2))\n",
    "new_value"
   ]
  },
  {
   "cell_type": "code",
   "execution_count": 4,
   "id": "2fe66c1a-3a6a-4900-b400-8207463bd2c4",
   "metadata": {},
   "outputs": [],
   "source": [
    "a.assign(new_value)\n",
    "\n",
    "for i in range(2):\n",
    "    for j in range(2):\n",
    "        assert a[i, j] == new_value[i, j]"
   ]
  },
  {
   "cell_type": "code",
   "execution_count": 5,
   "id": "1d56e8fb-9515-4aa8-a7f6-8928c036e113",
   "metadata": {},
   "outputs": [
    {
     "data": {
      "text/plain": [
       "<tf.Variable 'Variable:0' shape=(2, 2) dtype=float32, numpy=\n",
       "array([[ 0.6144477 , -0.07983158],\n",
       "       [-1.0530916 ,  0.45682594]], dtype=float32)>"
      ]
     },
     "execution_count": 5,
     "metadata": {},
     "output_type": "execute_result"
    }
   ],
   "source": [
    "a"
   ]
  },
  {
   "cell_type": "code",
   "execution_count": 8,
   "id": "c9479031-c82e-44e6-9046-eb8fec689901",
   "metadata": {},
   "outputs": [],
   "source": [
    "added_value = tf.random.normal(shape=(2,2))\n",
    "\n",
    "a.assign_add(added_value)\n",
    "\n",
    "for i in range(2):\n",
    "    for j in range(2):\n",
    "        assert a[i,j] == new_value[i, j] + added_value[i, j]\n",
    "                "
   ]
  },
  {
   "cell_type": "code",
   "execution_count": 9,
   "id": "ed4bc690-ccfc-453f-b236-a6be7befb382",
   "metadata": {},
   "outputs": [
    {
     "data": {
      "text/plain": [
       "<tf.Variable 'Variable:0' shape=(2, 2) dtype=float32, numpy=\n",
       "array([[ 1.6374584 ,  1.1139536 ],\n",
       "       [-0.22202581,  0.80641747]], dtype=float32)>"
      ]
     },
     "execution_count": 9,
     "metadata": {},
     "output_type": "execute_result"
    }
   ],
   "source": [
    "a"
   ]
  },
  {
   "cell_type": "code",
   "execution_count": 10,
   "id": "030c80a0-feef-4aa8-aec6-da9e506f42ce",
   "metadata": {},
   "outputs": [],
   "source": [
    "a = tf.random.normal(shape=(2,2))\n",
    "b = tf.random.normal(shape=(2,2))\n",
    "\n",
    "c = a + b\n",
    "\n",
    "d = tf.square(c)\n",
    "\n",
    "e = tf.exp(d)"
   ]
  },
  {
   "cell_type": "code",
   "execution_count": 11,
   "id": "8276190b-8b4c-476f-a5f0-b8e056ad3258",
   "metadata": {},
   "outputs": [
    {
     "name": "stdout",
     "output_type": "stream",
     "text": [
      "tf.Tensor(\n",
      "[[-0.08599868 -0.5625997 ]\n",
      " [-1.5339816  -1.3930814 ]], shape=(2, 2), dtype=float32) tf.Tensor(\n",
      "[[0.00739577 0.31651846]\n",
      " [2.3530993  1.9406759 ]], shape=(2, 2), dtype=float32) tf.Tensor(\n",
      "[[ 1.0074233  1.3723415]\n",
      " [10.518119   6.9634557]], shape=(2, 2), dtype=float32)\n"
     ]
    }
   ],
   "source": [
    "print(c,d,e)"
   ]
  },
  {
   "cell_type": "markdown",
   "id": "1acf8135-9ffe-4d86-b517-3edf32c4f732",
   "metadata": {},
   "source": [
    "## Concatenation by tf.concatand making tensors by tf.constant"
   ]
  },
  {
   "cell_type": "code",
   "execution_count": 17,
   "id": "7cb828f0-a806-4b15-93ef-f0ee7b17d368",
   "metadata": {},
   "outputs": [
    {
     "name": "stdout",
     "output_type": "stream",
     "text": [
      "Adding B's column to A: \n",
      "[[3 2 9 5]\n",
      " [5 2 1 3]]\n",
      "\n",
      "Adding B's row to A:\n",
      " [[3 2]\n",
      " [5 2]\n",
      " [9 5]\n",
      " [1 3]]\n"
     ]
    }
   ],
   "source": [
    "# Making a constant tensor A, that does not change:\n",
    "\n",
    "A = tf.constant([ [3,2],\n",
    "                  [5, 2] ])\n",
    "\n",
    "# Making a variable tensor VA, which can change. Notice it's a variable.\n",
    "\n",
    "VA = tf.Variable([[3,2], [5,2]])\n",
    "\n",
    "# Making another tensor B\n",
    "\n",
    "B = tf.constant([[9,5], [1,3]])\n",
    "\n",
    "# Concatenate Columns\n",
    "\n",
    "AB_concatenated = tf.concat(values=[A, B], axis=1)\n",
    "print(f\"Adding B's column to A: \\n{AB_concatenated}\")\n",
    "\n",
    "# Concatenate Rows \n",
    "\n",
    "AB_concatenated = tf.concat(values = [A, B], axis=0)\n",
    "print(f\"\\nAdding B's row to A:\\n {AB_concatenated}\")"
   ]
  },
  {
   "cell_type": "code",
   "execution_count": 18,
   "id": "da0a2c8f-4d4e-43e7-9d08-5929a5f584e3",
   "metadata": {},
   "outputs": [
    {
     "data": {
      "text/plain": [
       "<tf.Tensor: shape=(4, 2), dtype=int32, numpy=\n",
       "array([[3, 2],\n",
       "       [5, 2],\n",
       "       [9, 5],\n",
       "       [1, 3]])>"
      ]
     },
     "execution_count": 18,
     "metadata": {},
     "output_type": "execute_result"
    }
   ],
   "source": [
    "AB_concatenated"
   ]
  },
  {
   "cell_type": "markdown",
   "id": "805c2168-0a01-4c29-8572-0aa34679d5a5",
   "metadata": {},
   "source": [
    "## Making tensors using tf.zeros and tf.ones"
   ]
  },
  {
   "cell_type": "code",
   "execution_count": 22,
   "id": "d295bf9d-38d2-43b9-917a-e5c26c200c16",
   "metadata": {},
   "outputs": [
    {
     "name": "stdout",
     "output_type": "stream",
     "text": [
      "Tensor full of zeros having a shape of 3 rows and 4 columns: \n",
      "[[0 0 0 0]\n",
      " [0 0 0 0]\n",
      " [0 0 0 0]]\n",
      "\n",
      "Tensor full of zeros having a shape of 3 rows and 4 columns: \n",
      "[[0. 0. 0. 0.]\n",
      " [0. 0. 0. 0.]\n",
      " [0. 0. 0. 0.]]\n"
     ]
    }
   ],
   "source": [
    "# Making a tensor filled with zeros. shape = [rows, columns]\n",
    "\n",
    "tensor = tf.zeros(shape=[3,4], dtype=tf.int32)\n",
    "\n",
    "print(f\"Tensor full of zeros having a shape of 3 rows and 4 columns: \\n{tensor}\")\n",
    "\n",
    "# Making a tensor filled with zeros with data type of float32\n",
    "\n",
    "tensor = tf.zeros(shape=[3,4], dtype = tf.float64)\n",
    "print(f\"\\nTensor full of zeros having a shape of 3 rows and 4 columns: \\n{tensor}\")"
   ]
  },
  {
   "cell_type": "code",
   "execution_count": 23,
   "id": "24b28824-4838-433b-9d83-854a3d85e678",
   "metadata": {},
   "outputs": [
    {
     "name": "stdout",
     "output_type": "stream",
     "text": [
      "\n",
      "Tensor full of zeros having a shape of 3 rows and 4 columns: \n",
      "[[1. 1. 1. 1.]\n",
      " [1. 1. 1. 1.]\n",
      " [1. 1. 1. 1.]]\n"
     ]
    }
   ],
   "source": [
    "\n",
    "tensor = tf.ones(shape=[3,4], dtype = tf.float64)\n",
    "print(f\"\\nTensor full of zeros having a shape of 3 rows and 4 columns: \\n{tensor}\")"
   ]
  },
  {
   "cell_type": "markdown",
   "id": "4e902a15-738a-4f8b-8d01-fc5dba4bc24e",
   "metadata": {},
   "source": [
    "## Making a tensor for reshapping"
   ]
  },
  {
   "cell_type": "code",
   "execution_count": 39,
   "id": "9286efb9-58a1-43e6-aa23-80eaa56c1f52",
   "metadata": {},
   "outputs": [
    {
     "name": "stdout",
     "output_type": "stream",
     "text": [
      "Tensor before reshapping: \n",
      "[[3 2]\n",
      " [5 2]\n",
      " [9 5]\n",
      " [1 3]]\n",
      "\n",
      "Tensor after reshapping: \n",
      "[[3 2 5 2 9 5 1 3]]\n"
     ]
    }
   ],
   "source": [
    "tensor = tf.constant([[3,2], [5, 2], [9,5], [1, 3]])\n",
    "\n",
    "# Reshapping the tensor into another appropriate shape:\n",
    "\n",
    "reshaped_tensor = tf.reshape(tensor, (1, -1))\n",
    "\n",
    "print(f\"Tensor before reshapping: \\n{tensor}\")\n",
    "print(f\"\\nTensor after reshapping: \\n{reshaped_tensor}\")"
   ]
  },
  {
   "cell_type": "markdown",
   "id": "9558bb83-b9d9-46cd-8051-e1fdad7677c7",
   "metadata": {},
   "source": [
    "## Type Casting in TensorFlow:"
   ]
  },
  {
   "cell_type": "code",
   "execution_count": 46,
   "id": "3f685dd6-f11b-480d-8fec-5b49cf02f9ca",
   "metadata": {},
   "outputs": [
    {
     "name": "stdout",
     "output_type": "stream",
     "text": [
      "Tensor as float: \n",
      "[[3.1 2.8]\n",
      " [5.2 2.3]\n",
      " [9.7 5.5]\n",
      " [1.1 3.4]]\n",
      "\n",
      "Tensor as type-casted int: \n",
      "[[3 2]\n",
      " [5 2]\n",
      " [9 5]\n",
      " [1 3]]\n"
     ]
    }
   ],
   "source": [
    "# Making a tensor\n",
    "\n",
    "tensor = tf.constant([[3.1, 2.8], \n",
    "                     [5.2, 2.3], \n",
    "                     [9.7, 5.5], \n",
    "                     [1.1, 3.4]], \n",
    "                     dtype =tf.float32)\n",
    "\n",
    "tensor_as_int = tf.cast(tensor, tf.int32)\n",
    "\n",
    "print(f\"Tensor as float: \\n{tensor}\")\n",
    "print(f\"\\nTensor as type-casted int: \\n{tensor_as_int}\")"
   ]
  },
  {
   "cell_type": "code",
   "execution_count": null,
   "id": "b8bb045d-4141-469c-8773-7965775feb18",
   "metadata": {},
   "outputs": [],
   "source": []
  }
 ],
 "metadata": {
  "kernelspec": {
   "display_name": "Python 3 (ipykernel)",
   "language": "python",
   "name": "python3"
  },
  "language_info": {
   "codemirror_mode": {
    "name": "ipython",
    "version": 3
   },
   "file_extension": ".py",
   "mimetype": "text/x-python",
   "name": "python",
   "nbconvert_exporter": "python",
   "pygments_lexer": "ipython3",
   "version": "3.9.19"
  }
 },
 "nbformat": 4,
 "nbformat_minor": 5
}
