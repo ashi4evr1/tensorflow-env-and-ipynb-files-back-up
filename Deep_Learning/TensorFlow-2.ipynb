{
 "cells": [
  {
   "cell_type": "code",
   "execution_count": 2,
   "id": "e8eb9846-3598-40d8-8abd-ed0a1eb0ab78",
   "metadata": {},
   "outputs": [],
   "source": [
    "import numpy as np\n",
    "import tensorflow as tf"
   ]
  },
  {
   "cell_type": "code",
   "execution_count": 2,
   "id": "46bb727d-70f2-4b61-a1d3-cad187c4d1eb",
   "metadata": {},
   "outputs": [],
   "source": [
    "a = tf.constant([[1,2], [3,4]])"
   ]
  },
  {
   "cell_type": "code",
   "execution_count": 3,
   "id": "1e125e49-74b8-4d68-9fe4-b4ef9314874e",
   "metadata": {},
   "outputs": [
    {
     "data": {
      "text/plain": [
       "<tf.Tensor: shape=(2, 2), dtype=int32, numpy=\n",
       "array([[1, 2],\n",
       "       [3, 4]])>"
      ]
     },
     "execution_count": 3,
     "metadata": {},
     "output_type": "execute_result"
    }
   ],
   "source": [
    "a"
   ]
  },
  {
   "cell_type": "code",
   "execution_count": 4,
   "id": "8ff84bd6-0735-4e86-a1af-1cb0464700f9",
   "metadata": {},
   "outputs": [
    {
     "data": {
      "text/plain": [
       "<tf.Tensor: shape=(2, 2), dtype=int32, numpy=\n",
       "array([[1, 3],\n",
       "       [2, 4]])>"
      ]
     },
     "execution_count": 4,
     "metadata": {},
     "output_type": "execute_result"
    }
   ],
   "source": [
    "tf.transpose(a)"
   ]
  },
  {
   "cell_type": "markdown",
   "id": "371c241d-1bd6-4410-ade4-b2d10f334697",
   "metadata": {},
   "source": [
    "## Matrix multiplication with tensorflow"
   ]
  },
  {
   "cell_type": "code",
   "execution_count": 44,
   "id": "668b78e5-9b83-48f8-96f1-ece5cc757df5",
   "metadata": {},
   "outputs": [],
   "source": [
    "a = tf.constant([[23,12,34], [12, 0, 1], [54, 98, 32], [0,0,0], [4,4,4]])\n",
    "\n",
    "b = tf.constant([[3,3,3,3,3], [2,2,2,2,2], [5,5,5,5,5]])"
   ]
  },
  {
   "cell_type": "code",
   "execution_count": 6,
   "id": "5c1bb7bb-4197-4478-a173-b12c13c15d29",
   "metadata": {},
   "outputs": [
    {
     "data": {
      "text/plain": [
       "<tf.Tensor: shape=(5, 5), dtype=int32, numpy=\n",
       "array([[263, 263, 263, 263, 263],\n",
       "       [ 41,  41,  41,  41,  41],\n",
       "       [518, 518, 518, 518, 518],\n",
       "       [  0,   0,   0,   0,   0],\n",
       "       [ 40,  40,  40,  40,  40]])>"
      ]
     },
     "execution_count": 6,
     "metadata": {},
     "output_type": "execute_result"
    }
   ],
   "source": [
    "tf.matmul(a,b)"
   ]
  },
  {
   "cell_type": "code",
   "execution_count": 25,
   "id": "ecdfa141-3a55-430b-a56f-14a9f3cd0d25",
   "metadata": {},
   "outputs": [],
   "source": [
    "a = tf.constant([0,1,3,4,14,18,20,23,13,59,99,0], shape=[3,4])"
   ]
  },
  {
   "cell_type": "code",
   "execution_count": 26,
   "id": "ad64ceca-1a8e-4017-b13d-72e1c886cc7b",
   "metadata": {},
   "outputs": [
    {
     "data": {
      "text/plain": [
       "<tf.Tensor: shape=(3, 4), dtype=int32, numpy=\n",
       "array([[ 0,  1,  3,  4],\n",
       "       [14, 18, 20, 23],\n",
       "       [13, 59, 99,  0]])>"
      ]
     },
     "execution_count": 26,
     "metadata": {},
     "output_type": "execute_result"
    }
   ],
   "source": [
    "a"
   ]
  },
  {
   "cell_type": "code",
   "execution_count": 31,
   "id": "ac03f141-e8d7-4b74-8df4-d8aabdfcbd3d",
   "metadata": {},
   "outputs": [],
   "source": [
    "A = tf.constant([3,7,1,9], shape=[2,2])"
   ]
  },
  {
   "cell_type": "code",
   "execution_count": 32,
   "id": "6caad2f0-338e-486a-ab0d-e206244a2c66",
   "metadata": {},
   "outputs": [
    {
     "data": {
      "text/plain": [
       "<tf.Tensor: shape=(2, 2), dtype=int32, numpy=\n",
       "array([[3, 7],\n",
       "       [1, 9]])>"
      ]
     },
     "execution_count": 32,
     "metadata": {},
     "output_type": "execute_result"
    }
   ],
   "source": [
    "A"
   ]
  },
  {
   "cell_type": "code",
   "execution_count": 34,
   "id": "ed827c7a-31a8-4eed-b6f8-43fb0b2f0790",
   "metadata": {},
   "outputs": [
    {
     "data": {
      "text/plain": [
       "<tf.Tensor: shape=(2, 1), dtype=int32, numpy=\n",
       "array([[5],\n",
       "       [2]])>"
      ]
     },
     "execution_count": 34,
     "metadata": {},
     "output_type": "execute_result"
    }
   ],
   "source": [
    "V = tf.constant([5,2], shape=[2,1])\n",
    "\n",
    "V"
   ]
  },
  {
   "cell_type": "code",
   "execution_count": 35,
   "id": "92374676-3479-4593-9c85-01f148713a5b",
   "metadata": {},
   "outputs": [
    {
     "data": {
      "text/plain": [
       "<tf.Tensor: shape=(2, 1), dtype=int32, numpy=\n",
       "array([[29],\n",
       "       [23]])>"
      ]
     },
     "execution_count": 35,
     "metadata": {},
     "output_type": "execute_result"
    }
   ],
   "source": [
    "tf.matmul(A,V)"
   ]
  },
  {
   "cell_type": "markdown",
   "id": "b55707ed-232f-4822-8f74-9d97bb0b1a1a",
   "metadata": {},
   "source": [
    "## Element-wise multiplication"
   ]
  },
  {
   "cell_type": "code",
   "execution_count": 46,
   "id": "f6b7afaf-facf-4fd0-a4fb-26ec3b0a010e",
   "metadata": {},
   "outputs": [
    {
     "data": {
      "text/plain": [
       "<tf.Tensor: shape=(2, 2), dtype=int32, numpy=\n",
       "array([[15, 35],\n",
       "       [ 2, 18]])>"
      ]
     },
     "execution_count": 46,
     "metadata": {},
     "output_type": "execute_result"
    }
   ],
   "source": [
    "tf.math.multiply(A, V)"
   ]
  },
  {
   "cell_type": "code",
   "execution_count": 60,
   "id": "332472ae-3f0b-4758-8cca-1867b5859d2b",
   "metadata": {
    "scrolled": true
   },
   "outputs": [],
   "source": [
    "a = tf.constant([2,3,5,6], shape=[4,1])"
   ]
  },
  {
   "cell_type": "code",
   "execution_count": 61,
   "id": "24a29283-9cba-4a19-bd52-8b3b5a1ccc5a",
   "metadata": {},
   "outputs": [
    {
     "data": {
      "text/plain": [
       "<tf.Tensor: shape=(4, 1), dtype=int32, numpy=\n",
       "array([[2],\n",
       "       [3],\n",
       "       [5],\n",
       "       [6]])>"
      ]
     },
     "execution_count": 61,
     "metadata": {},
     "output_type": "execute_result"
    }
   ],
   "source": [
    "a"
   ]
  },
  {
   "cell_type": "code",
   "execution_count": 54,
   "id": "07c1ed46-7366-42cf-b0c9-af6f81e138aa",
   "metadata": {},
   "outputs": [],
   "source": [
    "b = tf.constant([3,2,4,5,8,12,1,7], shape=[4,2])"
   ]
  },
  {
   "cell_type": "code",
   "execution_count": 55,
   "id": "5f99c5d3-15b4-4dea-bf8b-6897c9ffb728",
   "metadata": {},
   "outputs": [
    {
     "data": {
      "text/plain": [
       "<tf.Tensor: shape=(4, 2), dtype=int32, numpy=\n",
       "array([[ 3,  2],\n",
       "       [ 4,  5],\n",
       "       [ 8, 12],\n",
       "       [ 1,  7]])>"
      ]
     },
     "execution_count": 55,
     "metadata": {},
     "output_type": "execute_result"
    }
   ],
   "source": [
    "b"
   ]
  },
  {
   "cell_type": "code",
   "execution_count": 62,
   "id": "8cf30188-c9f0-470c-b9c2-3a76f70df653",
   "metadata": {},
   "outputs": [
    {
     "data": {
      "text/plain": [
       "<tf.Tensor: shape=(4, 2), dtype=int32, numpy=\n",
       "array([[ 6,  4],\n",
       "       [12, 15],\n",
       "       [40, 60],\n",
       "       [ 6, 42]])>"
      ]
     },
     "execution_count": 62,
     "metadata": {},
     "output_type": "execute_result"
    }
   ],
   "source": [
    "tf.math.multiply(a,b)"
   ]
  },
  {
   "cell_type": "code",
   "execution_count": null,
   "id": "25a6fb7d-70a7-4f7e-91bb-cfb4db5f9298",
   "metadata": {},
   "outputs": [],
   "source": [
    "2,2\n",
    "2,1"
   ]
  },
  {
   "cell_type": "code",
   "execution_count": null,
   "id": "3c51350f-9381-49ab-baec-f715f108f631",
   "metadata": {},
   "outputs": [],
   "source": []
  },
  {
   "cell_type": "code",
   "execution_count": 63,
   "id": "4db86672-4c75-4f11-8c01-2fa51ee67c3f",
   "metadata": {},
   "outputs": [
    {
     "data": {
      "text/plain": [
       "<tf.Tensor: shape=(4, 2), dtype=int32, numpy=\n",
       "array([[ 6,  4],\n",
       "       [12, 15],\n",
       "       [40, 60],\n",
       "       [ 6, 42]])>"
      ]
     },
     "execution_count": 63,
     "metadata": {},
     "output_type": "execute_result"
    }
   ],
   "source": [
    "tf.multiply(a,b)"
   ]
  },
  {
   "cell_type": "code",
   "execution_count": 64,
   "id": "64f3e787-7484-44c3-9ed5-812d29fd0de3",
   "metadata": {},
   "outputs": [
    {
     "data": {
      "text/plain": [
       "<tf.Tensor: shape=(3, 4), dtype=float32, numpy=\n",
       "array([[1., 0., 0., 0.],\n",
       "       [0., 1., 0., 0.],\n",
       "       [0., 0., 1., 0.]], dtype=float32)>"
      ]
     },
     "execution_count": 64,
     "metadata": {},
     "output_type": "execute_result"
    }
   ],
   "source": [
    "tf.eye(3,4)"
   ]
  },
  {
   "cell_type": "code",
   "execution_count": 67,
   "id": "61dca990-35dc-4398-a47e-84205157aae9",
   "metadata": {},
   "outputs": [
    {
     "data": {
      "text/plain": [
       "<tf.Tensor: shape=(3, 4), dtype=int32, numpy=\n",
       "array([[1, 0, 0, 0],\n",
       "       [0, 1, 0, 0],\n",
       "       [0, 0, 1, 0]])>"
      ]
     },
     "execution_count": 67,
     "metadata": {},
     "output_type": "execute_result"
    }
   ],
   "source": [
    "tf.eye(3,4,dtype=tf.int32)"
   ]
  },
  {
   "cell_type": "code",
   "execution_count": 70,
   "id": "76b3d56d-93ab-4eeb-992a-05a9a2f796aa",
   "metadata": {},
   "outputs": [
    {
     "name": "stdout",
     "output_type": "stream",
     "text": [
      "tf.Tensor(\n",
      "[[23 12 45 61]\n",
      " [ 9  0  1  5]\n",
      " [ 6  8  9 12]\n",
      " [43 71 42 17]\n",
      " [82 39  8 20]], shape=(5, 4), dtype=int32) \n",
      "\n",
      " tf.Tensor(\n",
      "[[12 34 86]\n",
      " [ 1  8  0]\n",
      " [23 74 52]\n",
      " [13 49 33]], shape=(4, 3), dtype=int32)\n"
     ]
    }
   ],
   "source": [
    "A = tf.constant([23,12, 45,61,9,0,1,5,6,8,9,12,43,71,42,17,82,39,8,20], shape=[5,4])\n",
    "\n",
    "B = tf.constant([12,34,86,1,8,0,23,74,52,13,49,33], shape=[4,3])\n",
    "\n",
    "print(A, \"\\n\\n\", B)"
   ]
  },
  {
   "cell_type": "code",
   "execution_count": 71,
   "id": "e41941d0-f3e1-4b8e-8d0d-58fed853488a",
   "metadata": {},
   "outputs": [
    {
     "data": {
      "text/plain": [
       "<tf.Tensor: shape=(5, 3), dtype=int32, numpy=\n",
       "array([[2116, 7197, 6331],\n",
       "       [ 196,  625,  991],\n",
       "       [ 443, 1522, 1380],\n",
       "       [1774, 5971, 6443],\n",
       "       [1467, 4672, 8128]])>"
      ]
     },
     "execution_count": 71,
     "metadata": {},
     "output_type": "execute_result"
    }
   ],
   "source": [
    "tf.matmul(A, B)"
   ]
  },
  {
   "cell_type": "code",
   "execution_count": 73,
   "id": "e2e5cfe8-b20c-49ff-8e66-b6c51e575bf7",
   "metadata": {},
   "outputs": [
    {
     "data": {
      "text/plain": [
       "<tf.Tensor: shape=(5, 3), dtype=int32, numpy=\n",
       "array([[2116, 7197, 6331],\n",
       "       [ 196,  625,  991],\n",
       "       [ 443, 1522, 1380],\n",
       "       [1774, 5971, 6443],\n",
       "       [1467, 4672, 8128]])>"
      ]
     },
     "execution_count": 73,
     "metadata": {},
     "output_type": "execute_result"
    }
   ],
   "source": [
    "tf.tensordot(A, B, axes=1)"
   ]
  },
  {
   "cell_type": "markdown",
   "id": "5154a35c-2efa-413d-908a-cd844c68a6f6",
   "metadata": {},
   "source": [
    "## In identity matrix, multiply with anything and we will get the same result"
   ]
  },
  {
   "cell_type": "code",
   "execution_count": 87,
   "id": "bb3ea0d4-05c7-4fe0-8ed4-a350db3857b5",
   "metadata": {},
   "outputs": [],
   "source": [
    "A = tf.constant([9,32,0,12,54,65,12,37,81,11,12,77], shape=[3,4])\n",
    "\n",
    "B = tf.eye(4,4, dtype=tf.int32)\n"
   ]
  },
  {
   "cell_type": "code",
   "execution_count": 81,
   "id": "4c225051-dda4-4723-aca1-5f63f113b915",
   "metadata": {},
   "outputs": [
    {
     "data": {
      "text/plain": [
       "<tf.Tensor: shape=(3, 4), dtype=int32, numpy=\n",
       "array([[ 9, 32,  0, 12],\n",
       "       [54, 65, 12, 37],\n",
       "       [81, 11, 12, 77]])>"
      ]
     },
     "execution_count": 81,
     "metadata": {},
     "output_type": "execute_result"
    }
   ],
   "source": [
    "A"
   ]
  },
  {
   "cell_type": "code",
   "execution_count": 88,
   "id": "0d015167-a886-4090-a7e2-7b1619af91eb",
   "metadata": {},
   "outputs": [
    {
     "data": {
      "text/plain": [
       "<tf.Tensor: shape=(4, 4), dtype=int32, numpy=\n",
       "array([[1, 0, 0, 0],\n",
       "       [0, 1, 0, 0],\n",
       "       [0, 0, 1, 0],\n",
       "       [0, 0, 0, 1]])>"
      ]
     },
     "execution_count": 88,
     "metadata": {},
     "output_type": "execute_result"
    }
   ],
   "source": [
    "B"
   ]
  },
  {
   "cell_type": "code",
   "execution_count": 89,
   "id": "afe6c866-4efc-45a4-b9ee-7cd04f3078c5",
   "metadata": {},
   "outputs": [
    {
     "data": {
      "text/plain": [
       "<tf.Tensor: shape=(3, 4), dtype=int32, numpy=\n",
       "array([[ 9, 32,  0, 12],\n",
       "       [54, 65, 12, 37],\n",
       "       [81, 11, 12, 77]])>"
      ]
     },
     "execution_count": 89,
     "metadata": {},
     "output_type": "execute_result"
    }
   ],
   "source": [
    "tf.matmul(A,B)"
   ]
  },
  {
   "cell_type": "code",
   "execution_count": 84,
   "id": "761fec9f-446f-4c70-8b01-2dcd14c1485b",
   "metadata": {},
   "outputs": [],
   "source": [
    "B = tf.eye(3,4,dtype=tf.int32)"
   ]
  },
  {
   "cell_type": "code",
   "execution_count": 85,
   "id": "9976d1de-ebe9-4497-9817-ac049194cb38",
   "metadata": {},
   "outputs": [
    {
     "data": {
      "text/plain": [
       "<tf.Tensor: shape=(3, 4), dtype=int32, numpy=\n",
       "array([[1, 0, 0, 0],\n",
       "       [0, 1, 0, 0],\n",
       "       [0, 0, 1, 0]])>"
      ]
     },
     "execution_count": 85,
     "metadata": {},
     "output_type": "execute_result"
    }
   ],
   "source": [
    "B"
   ]
  },
  {
   "cell_type": "code",
   "execution_count": 90,
   "id": "23848514-f41d-4f2f-8399-c892cfa9ec5e",
   "metadata": {},
   "outputs": [
    {
     "data": {
      "text/plain": [
       "<tf.Tensor: shape=(3, 3), dtype=int32, numpy=\n",
       "array([[32, 83,  5],\n",
       "       [17, 23, 10],\n",
       "       [75, 39, 52]])>"
      ]
     },
     "execution_count": 90,
     "metadata": {},
     "output_type": "execute_result"
    }
   ],
   "source": [
    "A = tf.constant([32,83, 5, 17, 23, 10, 75, 39, 52], shape=[3,3])\n",
    "\n",
    "A"
   ]
  },
  {
   "cell_type": "code",
   "execution_count": 92,
   "id": "275d1dc9-cff9-4255-8555-09d362678e59",
   "metadata": {},
   "outputs": [
    {
     "data": {
      "text/plain": [
       "<tf.Tensor: shape=(3, 3), dtype=int32, numpy=\n",
       "array([[1, 0, 0],\n",
       "       [0, 1, 0],\n",
       "       [0, 0, 1]])>"
      ]
     },
     "execution_count": 92,
     "metadata": {},
     "output_type": "execute_result"
    }
   ],
   "source": [
    "ident = tf.eye(3,3, dtype=tf.int32)\n",
    "ident"
   ]
  },
  {
   "cell_type": "code",
   "execution_count": 93,
   "id": "21821e14-5b1d-4bbb-a627-32c975e36b41",
   "metadata": {},
   "outputs": [
    {
     "data": {
      "text/plain": [
       "<tf.Tensor: shape=(3, 3), dtype=int32, numpy=\n",
       "array([[32, 83,  5],\n",
       "       [17, 23, 10],\n",
       "       [75, 39, 52]])>"
      ]
     },
     "execution_count": 93,
     "metadata": {},
     "output_type": "execute_result"
    }
   ],
   "source": [
    "tf.matmul(A,ident)"
   ]
  },
  {
   "cell_type": "code",
   "execution_count": 104,
   "id": "53f96a00-a87d-404f-8aad-25d827c1a6d1",
   "metadata": {},
   "outputs": [
    {
     "name": "stdout",
     "output_type": "stream",
     "text": [
      "tf.Tensor(\n",
      "[[-0.57680047 -0.78196603]\n",
      " [-0.27804393  1.1757021 ]], shape=(2, 2), dtype=float32) \n",
      "\n",
      " tf.Tensor(\n",
      "[[1.1133611  0.39968735]\n",
      " [1.1374512  0.16589966]], shape=(2, 2), dtype=float32)\n",
      "\n",
      "\n",
      " tf.Tensor(\n",
      "[[1.2539027 0.8781918]\n",
      " [1.1709414 1.1873492]], shape=(2, 2), dtype=float32)\n",
      "\n",
      "\n",
      " tf.Tensor(\n",
      "[[0.88791674 0.45512533]\n",
      " [0.97139895 0.13972272]], shape=(2, 2), dtype=float32)\n"
     ]
    }
   ],
   "source": [
    "a = tf.random.normal(shape=(2,2))\n",
    "\n",
    "b = tf.random.normal(shape=(2,2))\n",
    "\n",
    "print(a, '\\n\\n', b)\n",
    "\n",
    "with tf.GradientTape() as tape:\n",
    "    tape.watch(a)\n",
    "    tape.watch(b)\n",
    "    c = tf.sqrt(tf.square(a) + tf.square(b))\n",
    "\n",
    "print('\\n\\n', c)\n",
    "\n",
    "# dc_da = tape.gradient(c, a)\n",
    "# print('\\n\\n' ,dc_da)\n",
    "\n",
    "dc_db = tape.gradient(c, b)\n",
    "print('\\n\\n', dc_db)"
   ]
  },
  {
   "cell_type": "code",
   "execution_count": 99,
   "id": "c0d17f0e-8f5b-4d27-bb52-7d0670a7221a",
   "metadata": {},
   "outputs": [],
   "source": [
    "# We know that dc/da = a/sqrt(a^2+b^2)\n",
    "\n",
    "result = a/tf.sqrt(tf.square(a)+tf.square(b))"
   ]
  },
  {
   "cell_type": "code",
   "execution_count": 100,
   "id": "cf834662-fb52-450b-a778-7fce49339100",
   "metadata": {},
   "outputs": [
    {
     "data": {
      "text/plain": [
       "<tf.Tensor: shape=(2, 2), dtype=float32, numpy=\n",
       "array([[-0.4838658 , -0.98244715],\n",
       "       [ 0.9978928 , -0.9999999 ]], dtype=float32)>"
      ]
     },
     "execution_count": 100,
     "metadata": {},
     "output_type": "execute_result"
    }
   ],
   "source": [
    "result"
   ]
  },
  {
   "cell_type": "code",
   "execution_count": 109,
   "id": "64608894-26bf-4909-9bc8-bfada146c61d",
   "metadata": {},
   "outputs": [
    {
     "name": "stdout",
     "output_type": "stream",
     "text": [
      "tf.Tensor(\n",
      "[[0.88791674 0.45512533]\n",
      " [0.97139895 0.13972272]], shape=(2, 2), dtype=float32)\n"
     ]
    }
   ],
   "source": [
    "a = tf.Variable(a)\n",
    "b = tf.Variable(b)\n",
    "\n",
    "with tf.GradientTape() as tape:\n",
    "    c = tf.sqrt(tf.square(a) + tf.square(b))\n",
    "    # dc_da = tape.gradient(c, a)\n",
    "    # print(dc_da)\n",
    "    d_db=tape.gradient(c, b)\n",
    "    print(dc_db)"
   ]
  },
  {
   "cell_type": "code",
   "execution_count": 110,
   "id": "49167a39-f01e-404a-805d-26381d3714c1",
   "metadata": {},
   "outputs": [
    {
     "data": {
      "text/plain": [
       "<tf.Variable 'Variable:0' shape=(2, 2) dtype=float32, numpy=\n",
       "array([[-0.57680047, -0.78196603],\n",
       "       [-0.27804393,  1.1757021 ]], dtype=float32)>"
      ]
     },
     "execution_count": 110,
     "metadata": {},
     "output_type": "execute_result"
    }
   ],
   "source": [
    " a"
   ]
  },
  {
   "cell_type": "code",
   "execution_count": 112,
   "id": "51a0ec58-2555-4557-bcab-768ffb07d47d",
   "metadata": {},
   "outputs": [
    {
     "name": "stdout",
     "output_type": "stream",
     "text": [
      "tf.Tensor(\n",
      "[[0.6287539  0.23587006]\n",
      " [0.80586094 0.01644206]], shape=(2, 2), dtype=float32)\n"
     ]
    }
   ],
   "source": [
    "# we will see here double differentiation\n",
    "\n",
    "with tf.GradientTape() as outer_tape:\n",
    "    with tf.GradientTape() as inner_tape:\n",
    "        c = tf.sqrt(tf.square(a) +tf.square(b))\n",
    "        dc_da = inner_tape.gradient(c, a)\n",
    "    d2c_da2 = outer_tape.gradient(dc_da, a)\n",
    "    print(d2c_da2)"
   ]
  },
  {
   "cell_type": "code",
   "execution_count": 114,
   "id": "126a7fbc-f77d-4f30-bf89-837ee5d6e658",
   "metadata": {},
   "outputs": [
    {
     "data": {
      "text/plain": [
       "<tf.Tensor: shape=(), dtype=float32, numpy=0.9640276>"
      ]
     },
     "execution_count": 114,
     "metadata": {},
     "output_type": "execute_result"
    }
   ],
   "source": [
    "tf.tanh(2.0)"
   ]
  },
  {
   "cell_type": "code",
   "execution_count": 125,
   "id": "2a2dd42d-36f0-499a-8e98-add5d00c99d8",
   "metadata": {},
   "outputs": [
    {
     "name": "stdout",
     "output_type": "stream",
     "text": [
      "Gradient of tanh(x) with x = -4.099999904632568 is: 0.0010978544596582651\n"
     ]
    }
   ],
   "source": [
    "def tanh(x):\n",
    "    return tf.tanh(x)\n",
    "\n",
    "def get_gradient(x, activation_function):\n",
    "    with tf.GradientTape() as gt:\n",
    "        y = activation_function(x)\n",
    "\n",
    "        gradient = gt.gradient(y, x)\n",
    "\n",
    "    return gradient\n",
    "\n",
    "x = tf.Variable(-4.1)\n",
    "gradient = get_gradient(x, tanh)\n",
    "\n",
    "    \n",
    "print(f\"Gradient of tanh(x) with x = {x.numpy()} is: {gradient}\")"
   ]
  },
  {
   "cell_type": "markdown",
   "id": "181857f5-1c00-4310-9435-66d581292a20",
   "metadata": {},
   "source": [
    "## End-to-End Example for TensorFlow - with Linear Regression"
   ]
  },
  {
   "cell_type": "code",
   "execution_count": 3,
   "id": "43fe548e-e782-477b-bf11-f81df870a506",
   "metadata": {},
   "outputs": [],
   "source": [
    "input_dims = 2\n",
    "output_dims = 1\n",
    "learning_rate = 0.01 # Subject to change\n",
    "\n",
    "# This is our weight matrix:\n",
    "\n",
    "w = tf.Variable(tf.random.uniform(shape=(input_dims, output_dims)))     # Paramters equal to theta\n",
    "\n",
    "# This's our bias vector:\n",
    "\n",
    "b = tf.Variable(tf.zeros(shape=(output_dims,)))   # Intercept\n",
    "\n",
    "# Define Hypothesis:\n",
    "\n",
    "def compute_predictions(features):\n",
    "    return tf.matmul(features, w) + b\n",
    "\n",
    "def compute_loss(target, predictions):   # Define MSE\n",
    "    return tf.reduce_mean(tf.square(target-predictions))\n",
    "\n",
    "def train(x, y):      # Training and udating through GD updates\n",
    "    with tf.GradientTape() as tape:\n",
    "        predictions = compute_predictions(x)   # y_prediction or y_hat\n",
    "        loss = compute_loss(y, predictions)    # Loss calculation\n",
    "        dloss_dw, dloss_db = tape.gradient(loss, [w,b])    # Gradient w.r.t. w and b\n",
    "    w.assign_sub(learning_rate*dloss_dw)   # Reassign weights\n",
    "\n",
    "    b.assign_sub(leanirng_rate*dloss_db)   # Reassign bias\n",
    "    return loss\n"
   ]
  },
  {
   "cell_type": "markdown",
   "id": "f3570b59-9d69-4e9d-a9a3-3445fd06f1b8",
   "metadata": {},
   "source": [
    "### Homework\n",
    "\n",
    "#### To generate and utilize the above code to run a simple linear regression\n",
    "\n",
    "## Tolerance = 1e-3\n",
    "\n",
    "#### Write a function for predict()\n",
    "#### Write a R2 and adj R2 score metric\n",
    "#### Write a loop and stop training when tolerance condition is met"
   ]
  },
  {
   "cell_type": "code",
   "execution_count": null,
   "id": "d3eb0fd7-867a-4f39-9f45-a11745218e26",
   "metadata": {},
   "outputs": [],
   "source": [
    "x = tf.random. "
   ]
  },
  {
   "cell_type": "code",
   "execution_count": null,
   "id": "84f467fe-fbd8-488b-ae21-4c5999c1eb40",
   "metadata": {},
   "outputs": [],
   "source": []
  },
  {
   "cell_type": "code",
   "execution_count": null,
   "id": "9cca796c-85a1-4ee5-8f09-9602b43a2473",
   "metadata": {},
   "outputs": [],
   "source": []
  }
 ],
 "metadata": {
  "kernelspec": {
   "display_name": "Python 3 (ipykernel)",
   "language": "python",
   "name": "python3"
  },
  "language_info": {
   "codemirror_mode": {
    "name": "ipython",
    "version": 3
   },
   "file_extension": ".py",
   "mimetype": "text/x-python",
   "name": "python",
   "nbconvert_exporter": "python",
   "pygments_lexer": "ipython3",
   "version": "3.9.19"
  }
 },
 "nbformat": 4,
 "nbformat_minor": 5
}
