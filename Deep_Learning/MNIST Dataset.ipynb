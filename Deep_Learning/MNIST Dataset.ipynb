{
 "cells": [
  {
   "cell_type": "code",
   "execution_count": 92,
   "id": "edf98ee0-3a42-4e87-a89c-efee492144f0",
   "metadata": {},
   "outputs": [],
   "source": [
    "import tensorflow as tf\n",
    "import numpy as np\n",
    "import pandas as pd\n",
    "import matplotlib.pyplot as plt\n",
    "import seaborn as sns\n",
    "from tensorflow.keras.models import Model\n",
    "from tensorflow.keras.layers import Input, Dense, Dropout\n",
    "from tensorflow.keras.models import Sequential"
   ]
  },
  {
   "cell_type": "code",
   "execution_count": 2,
   "id": "55283cd6-b0e4-4fbf-bcc1-7bfdf29ba5e9",
   "metadata": {},
   "outputs": [],
   "source": [
    "(X_train, y_train), (X_test, y_test) = tf.keras.datasets.mnist.load_data()"
   ]
  },
  {
   "cell_type": "code",
   "execution_count": 3,
   "id": "92bb5f66-5d18-480d-ad4c-bea799c5e931",
   "metadata": {},
   "outputs": [
    {
     "data": {
      "text/plain": [
       "(60000, 28, 28)"
      ]
     },
     "execution_count": 3,
     "metadata": {},
     "output_type": "execute_result"
    }
   ],
   "source": [
    "X_train.shape"
   ]
  },
  {
   "cell_type": "code",
   "execution_count": 4,
   "id": "783007f3-4e97-42c1-8457-108e2d8e0d07",
   "metadata": {},
   "outputs": [],
   "source": [
    "X_train = X_train.reshape(60000, 784).astype('float32')/255 "
   ]
  },
  {
   "cell_type": "code",
   "execution_count": 5,
   "id": "f0af4f05-5e8f-4bc4-8c39-4936ee6e38d6",
   "metadata": {},
   "outputs": [],
   "source": [
    "num_val_samples = 10000\n",
    "X_val = X_train[-num_val_samples:]\n",
    "y_val = y_train[-num_val_samples:]\n",
    "X_train = X_train[:-num_val_samples]\n",
    "y_train = y_train[:-num_val_samples]\n",
    "\n"
   ]
  },
  {
   "cell_type": "markdown",
   "id": "33ff3959-8c69-4bc3-b110-b2e50b235eb8",
   "metadata": {},
   "source": [
    "### Designing of Neural Network"
   ]
  },
  {
   "cell_type": "code",
   "execution_count": 6,
   "id": "71ab0e05-1967-4391-a6d3-315c452402b0",
   "metadata": {},
   "outputs": [
    {
     "name": "stdout",
     "output_type": "stream",
     "text": [
      "Epoch 1/10\n",
      "782/782 [==============================] - 4s 3ms/step - loss: 0.2294 - sparse_categorical_accuracy: 0.9301 - val_loss: 0.1131 - val_sparse_categorical_accuracy: 0.9660\n",
      "Epoch 2/10\n",
      "782/782 [==============================] - 3s 4ms/step - loss: 0.0937 - sparse_categorical_accuracy: 0.9715 - val_loss: 0.0928 - val_sparse_categorical_accuracy: 0.9728\n",
      "Epoch 3/10\n",
      "782/782 [==============================] - 3s 4ms/step - loss: 0.0636 - sparse_categorical_accuracy: 0.9803 - val_loss: 0.0943 - val_sparse_categorical_accuracy: 0.9735\n",
      "Epoch 4/10\n",
      "782/782 [==============================] - 3s 3ms/step - loss: 0.0497 - sparse_categorical_accuracy: 0.9837 - val_loss: 0.0851 - val_sparse_categorical_accuracy: 0.9771\n",
      "Epoch 5/10\n",
      "782/782 [==============================] - 3s 4ms/step - loss: 0.0401 - sparse_categorical_accuracy: 0.9868 - val_loss: 0.0904 - val_sparse_categorical_accuracy: 0.9755\n",
      "Epoch 6/10\n",
      "782/782 [==============================] - 3s 3ms/step - loss: 0.0339 - sparse_categorical_accuracy: 0.9892 - val_loss: 0.0837 - val_sparse_categorical_accuracy: 0.9797\n",
      "Epoch 7/10\n",
      "782/782 [==============================] - 3s 3ms/step - loss: 0.0293 - sparse_categorical_accuracy: 0.9905 - val_loss: 0.0874 - val_sparse_categorical_accuracy: 0.9780\n",
      "Epoch 8/10\n",
      "782/782 [==============================] - 3s 3ms/step - loss: 0.0241 - sparse_categorical_accuracy: 0.9925 - val_loss: 0.0887 - val_sparse_categorical_accuracy: 0.9769\n",
      "Epoch 9/10\n",
      "782/782 [==============================] - 3s 4ms/step - loss: 0.0219 - sparse_categorical_accuracy: 0.9928 - val_loss: 0.1076 - val_sparse_categorical_accuracy: 0.9749\n",
      "Epoch 10/10\n",
      "782/782 [==============================] - 3s 4ms/step - loss: 0.0199 - sparse_categorical_accuracy: 0.9937 - val_loss: 0.1014 - val_sparse_categorical_accuracy: 0.9757\n"
     ]
    },
    {
     "data": {
      "text/plain": [
       "<keras.callbacks.History at 0x26c820d2c40>"
      ]
     },
     "execution_count": 6,
     "metadata": {},
     "output_type": "execute_result"
    }
   ],
   "source": [
    "# Instantiate a simple classification model:\n",
    "\n",
    "\n",
    "model = tf.keras.Sequential([\n",
    "    tf.keras.layers.Dense(512, activation=tf.nn.relu), \n",
    "    tf.keras.layers.Dense(256, activation=tf.nn.tanh), \n",
    "    tf.keras.layers.Dense(128, activation=tf.nn.relu), \n",
    "    tf.keras.layers.Dense(64, activation=tf.nn.relu), \n",
    "    tf.keras.layers.Dense(10)\n",
    "])\n",
    "\n",
    "# Instantiates a loss function that expects integer targets.\n",
    "\n",
    "loss = tf.keras.losses.SparseCategoricalCrossentropy(from_logits=True)\n",
    "\n",
    "# Instantiate an accuracy metric\n",
    "\n",
    "accuracy = tf.keras.metrics.SparseCategoricalAccuracy()\n",
    "\n",
    "# recall = tf.keras.metrics.Recall()\n",
    "\n",
    "# Instantiate an optimizer:\n",
    "\n",
    "optimizer =  tf.keras.optimizers.Adam()\n",
    "\n",
    "model.compile(optimizer = optimizer, \n",
    "             loss=loss, \n",
    "             metrics=[accuracy])\n",
    "\n",
    "model.fit(X_train, y_train,\n",
    "         validation_data = (X_val, y_val), \n",
    "         epochs=10, \n",
    "         batch_size=64, verbose=1)"
   ]
  },
  {
   "cell_type": "code",
   "execution_count": 7,
   "id": "e52a707f-0953-415a-821e-302855a8079a",
   "metadata": {},
   "outputs": [
    {
     "name": "stdout",
     "output_type": "stream",
     "text": [
      "Model: \"sequential\"\n",
      "_________________________________________________________________\n",
      " Layer (type)                Output Shape              Param #   \n",
      "=================================================================\n",
      " dense (Dense)               (None, 512)               401920    \n",
      "                                                                 \n",
      " dense_1 (Dense)             (None, 256)               131328    \n",
      "                                                                 \n",
      " dense_2 (Dense)             (None, 128)               32896     \n",
      "                                                                 \n",
      " dense_3 (Dense)             (None, 64)                8256      \n",
      "                                                                 \n",
      " dense_4 (Dense)             (None, 10)                650       \n",
      "                                                                 \n",
      "=================================================================\n",
      "Total params: 575,050\n",
      "Trainable params: 575,050\n",
      "Non-trainable params: 0\n",
      "_________________________________________________________________\n"
     ]
    }
   ],
   "source": [
    "model.summary()"
   ]
  },
  {
   "cell_type": "code",
   "execution_count": 8,
   "id": "7d6de2b3-ec48-424f-b13f-629eb9111514",
   "metadata": {},
   "outputs": [],
   "source": [
    "# pip install visualkeras"
   ]
  },
  {
   "cell_type": "code",
   "execution_count": 9,
   "id": "2f7169da-ebf3-4f08-bc1f-1c6bea4034a3",
   "metadata": {},
   "outputs": [
    {
     "name": "stderr",
     "output_type": "stream",
     "text": [
      "C:\\ProgramData\\anaconda3\\envs\\Deep_Learning\\lib\\site-packages\\visualkeras\\layered.py:86: UserWarning: The legend_text_spacing_offset parameter is deprecated and will be removed in a future release.\n",
      "  warnings.warn(\"The legend_text_spacing_offset parameter is deprecated and will be removed in a future release.\")\n"
     ]
    },
    {
     "data": {
      "image/png": "[encoded data removed]",
      "text/plain": [
       "<PIL.Image.Image image mode=RGBA size=204x27>"
      ]
     },
     "execution_count": 9,
     "metadata": {},
     "output_type": "execute_result"
    }
   ],
   "source": [
    "from visualkeras import layered_view, graph_view\n",
    "layered_view(model)"
   ]
  },
  {
   "cell_type": "code",
   "execution_count": 13,
   "id": "b557ff0e-a259-460c-b28b-3d0523d7507f",
   "metadata": {},
   "outputs": [
    {
     "data": {
      "image/png": "[encoded data removed]",
      "text/plain": [
       "<IPython.core.display.Image object>"
      ]
     },
     "execution_count": 13,
     "metadata": {},
     "output_type": "execute_result"
    }
   ],
   "source": [
    "from tensorflow.keras.utils import plot_model\n",
    "\n",
    "plot_model(model=model, show_shapes=True, to_file='model_plot.png')"
   ]
  },
  {
   "cell_type": "code",
   "execution_count": 11,
   "id": "e8026051-3f0e-472f-9f47-eec2f4787907",
   "metadata": {},
   "outputs": [
    {
     "data": {
      "text/plain": [
       "[<tf.Variable 'dense/kernel:0' shape=(784, 512) dtype=float32, numpy=\n",
       " array([[-0.01223326, -0.00986619,  0.00840023, ..., -0.06607843,\n",
       "          0.03908718, -0.05169004],\n",
       "        [-0.00584602,  0.05322617, -0.03661802, ...,  0.00376686,\n",
       "         -0.01748511, -0.00414421],\n",
       "        [ 0.01294936, -0.036522  , -0.04464415, ..., -0.03807794,\n",
       "          0.03934702, -0.00435738],\n",
       "        ...,\n",
       "        [ 0.05506584,  0.00545627, -0.02051873, ..., -0.00544866,\n",
       "          0.05516034, -0.02286138],\n",
       "        [ 0.05785914, -0.0162734 ,  0.00615703, ..., -0.00752649,\n",
       "          0.00513015, -0.00183715],\n",
       "        [ 0.01752062,  0.06763655,  0.0549439 , ...,  0.03711925,\n",
       "         -0.05826727,  0.0176425 ]], dtype=float32)>,\n",
       " <tf.Variable 'dense/bias:0' shape=(512,) dtype=float32, numpy=\n",
       " array([ 8.35281238e-03, -2.24274099e-02, -1.68406740e-02,  4.50209714e-03,\n",
       "        -4.59548607e-02, -1.96126439e-02, -1.09558422e-02, -1.54485172e-02,\n",
       "        -2.20611412e-02,  1.82725564e-02, -1.02254361e-01,  1.13467919e-02,\n",
       "         2.96720602e-02, -4.37258407e-02,  3.83917615e-02, -6.27542883e-02,\n",
       "        -3.06669306e-02,  6.05339278e-03, -1.62572935e-01,  6.91787247e-03,\n",
       "         1.32449279e-02,  6.44946322e-02,  5.46537004e-02, -1.54767064e-02,\n",
       "        -7.94574842e-02, -1.11246179e-03,  7.97122810e-03,  3.55839394e-02,\n",
       "        -9.18942329e-04, -3.91836315e-02,  6.91067353e-02, -4.87084687e-02,\n",
       "        -7.75406733e-02, -5.27605042e-03, -6.64358586e-02, -4.29729261e-02,\n",
       "        -3.26064299e-03,  3.45122907e-03,  5.78774028e-02, -1.61065534e-02,\n",
       "        -7.29175657e-02, -1.72994118e-02,  4.97154845e-03,  2.15841606e-02,\n",
       "        -1.83363073e-02, -2.31850031e-03, -3.34305391e-02, -2.61681005e-02,\n",
       "        -6.51463717e-02, -2.99320370e-02, -1.05490442e-02,  1.29559042e-03,\n",
       "        -6.75220490e-02, -2.68117357e-02, -6.69619255e-03, -1.05188629e-02,\n",
       "        -9.79106524e-04,  2.80696042e-02, -7.35006034e-02,  2.14604195e-02,\n",
       "        -8.22042022e-03,  3.47270072e-02,  4.44551744e-02, -7.05852881e-02,\n",
       "         2.35848501e-02, -7.05893785e-02, -2.97089778e-02, -3.64894085e-02,\n",
       "         3.45193855e-02, -9.15121846e-03, -2.26225611e-03, -7.74880946e-02,\n",
       "        -2.57297587e-02, -4.42793220e-03, -7.51123950e-02, -2.79231202e-02,\n",
       "        -6.87779561e-02, -1.58235673e-02, -3.49319875e-02, -1.55390855e-02,\n",
       "        -6.63823858e-02, -1.43481093e-02, -1.71387624e-02,  2.17388589e-02,\n",
       "        -8.05838108e-02, -5.77451512e-02, -2.89812870e-02, -1.24159627e-01,\n",
       "        -3.75630781e-02,  2.03878526e-02, -1.04481466e-02,  3.58624272e-02,\n",
       "         5.32293580e-02,  2.87119392e-03, -7.01158866e-02, -4.65025268e-02,\n",
       "        -2.23568939e-02, -4.24045734e-02,  9.03600976e-02, -7.78295770e-02,\n",
       "         1.81974992e-02, -6.72741700e-03, -8.92328797e-04,  3.14537133e-03,\n",
       "        -6.29498214e-02,  3.17055956e-02, -6.27458990e-02, -3.99212427e-02,\n",
       "         1.47905352e-03,  1.56895295e-02,  5.03866635e-02,  4.95079346e-02,\n",
       "        -7.02909753e-02, -5.87249175e-02, -2.91201640e-02, -2.01796852e-02,\n",
       "        -1.12466626e-01,  3.94673049e-02, -3.45888436e-02, -6.26492966e-03,\n",
       "         7.32334852e-02, -2.23376229e-02, -2.87754666e-02, -3.51483896e-02,\n",
       "        -4.00096476e-02, -2.36226469e-02, -3.54203060e-02, -8.25517848e-02,\n",
       "        -5.07360436e-02,  2.58783884e-02, -3.87313068e-02, -3.86265293e-02,\n",
       "         5.71570583e-02, -4.82707806e-02, -5.03718527e-03,  6.02710359e-02,\n",
       "         4.93232831e-02, -4.45037447e-02, -7.67162293e-02, -1.58463349e-03,\n",
       "        -5.40517010e-02,  2.39894409e-02, -5.89575917e-02, -1.50925182e-02,\n",
       "         5.73072843e-02,  4.58892658e-02,  3.13068926e-02,  1.74712967e-02,\n",
       "        -2.28240434e-02, -1.93731915e-02, -9.07084495e-02, -2.92021334e-02,\n",
       "        -3.29573490e-02, -6.14045793e-03, -4.03155982e-02, -3.25868502e-02,\n",
       "        -9.42040887e-03,  8.15999787e-03, -6.27702996e-02, -3.31908353e-02,\n",
       "        -5.01930565e-02, -1.78809732e-03, -8.79832208e-02, -3.58518097e-03,\n",
       "        -5.05605265e-02, -1.92926507e-02, -2.51570940e-02, -1.24095511e-02,\n",
       "         5.61388135e-02,  8.11681598e-02,  1.00077258e-03, -4.24943678e-02,\n",
       "        -2.34868079e-02,  3.81339453e-02, -1.50560305e-01, -3.87559347e-02,\n",
       "         2.37330273e-02, -1.75976381e-02, -1.83751695e-02,  2.17167605e-02,\n",
       "        -3.80319394e-02,  1.57239195e-02, -5.54319285e-02, -2.10941527e-02,\n",
       "         5.43829314e-02,  4.47103083e-02, -3.99032533e-02, -3.27895656e-02,\n",
       "        -3.82488556e-02, -4.29802500e-02, -1.25822416e-02,  7.50382897e-03,\n",
       "        -6.76820502e-02, -5.55842891e-02,  9.29003581e-04, -1.09497182e-01,\n",
       "         3.52315605e-02,  9.90659185e-03, -2.45522223e-02, -6.58885539e-02,\n",
       "        -2.47804243e-02, -2.39775609e-02, -2.72494145e-02, -3.80215831e-02,\n",
       "        -1.09274380e-01,  1.92582831e-02, -3.31350602e-02, -8.48558499e-04,\n",
       "        -3.61917948e-04,  6.80008391e-03,  1.90784056e-02, -6.54995292e-02,\n",
       "        -1.47676496e-02, -3.12491674e-02, -3.34894918e-02, -1.63093079e-02,\n",
       "        -8.92516132e-03, -1.16678458e-02,  6.70028524e-03, -3.70697938e-02,\n",
       "         4.86427359e-03, -5.39485365e-02,  1.08442372e-02, -3.91710103e-02,\n",
       "        -5.95215969e-02, -1.57770619e-01,  3.62569615e-02, -6.37902468e-02,\n",
       "        -2.27625035e-02,  1.43292882e-02, -1.01808775e-02,  2.19568908e-02,\n",
       "         1.44111319e-02, -5.23277856e-02,  2.64281081e-03, -5.52843846e-02,\n",
       "        -2.13622544e-02, -2.73597520e-02, -5.40969009e-03, -6.88169524e-02,\n",
       "         3.00195999e-02,  5.37297055e-02,  8.51820130e-03,  3.32728215e-03,\n",
       "         3.27785127e-02, -5.83909489e-02, -2.86403969e-02, -2.28479970e-02,\n",
       "        -4.30749096e-02, -1.03466094e-01, -8.41277093e-02, -7.64950588e-02,\n",
       "        -2.40459237e-02, -7.30249733e-02, -2.62937732e-02,  6.19041473e-02,\n",
       "        -1.46215530e-02,  2.47225557e-02, -5.30710965e-02,  2.15337961e-03,\n",
       "        -8.16939548e-02, -4.43290621e-02,  3.23859639e-02,  1.92559119e-02,\n",
       "        -1.84898626e-03,  2.45096162e-02, -3.84993036e-03, -5.42722754e-02,\n",
       "        -4.60612252e-02, -1.23827625e-02,  3.77453752e-02, -9.09412652e-02,\n",
       "         4.50658202e-02, -8.57828334e-02, -1.23309111e-02,  6.54718205e-02,\n",
       "        -4.43747081e-02,  9.48747396e-02,  1.50193973e-02, -3.79331447e-02,\n",
       "         9.03755948e-02,  6.76868670e-03, -9.54426359e-03, -4.47542369e-02,\n",
       "         8.89084022e-03,  5.69881964e-03, -1.95334479e-02, -6.48049861e-02,\n",
       "        -5.22292927e-02, -1.17260730e-02, -3.89954932e-02,  1.09446468e-02,\n",
       "        -4.56142575e-02,  7.77178258e-03, -1.26307167e-03, -2.28548013e-02,\n",
       "        -3.97191569e-02,  5.93777187e-03, -2.56688613e-02, -7.12988898e-02,\n",
       "        -3.34228389e-02, -1.40285725e-02,  1.18747409e-02,  6.13815524e-02,\n",
       "        -1.58924498e-02,  4.64294665e-02, -1.63491145e-02,  5.46611361e-02,\n",
       "        -6.05944498e-03, -3.56780291e-02, -3.54961343e-02, -1.68879814e-02,\n",
       "        -4.02733088e-02, -8.75239959e-04, -2.80061457e-02, -6.14927858e-02,\n",
       "        -1.79166347e-02,  4.14555930e-02, -2.29332075e-02,  1.35301864e-02,\n",
       "         5.75371236e-02, -1.19669018e-02,  9.90052894e-03, -1.91444922e-02,\n",
       "        -5.21522295e-03,  3.82060930e-02, -5.53561263e-02, -6.50056750e-02,\n",
       "         8.67547840e-03, -4.69102859e-02, -4.76747938e-03,  8.67429748e-03,\n",
       "        -3.23682767e-03,  8.88378322e-02,  3.19395363e-02,  1.94716081e-02,\n",
       "        -4.84526763e-03, -8.79735723e-02,  3.48062776e-02, -9.18910205e-02,\n",
       "        -4.78296168e-02, -9.98742506e-02,  4.56617102e-02, -3.91826406e-02,\n",
       "        -1.93979423e-02, -4.20155898e-02, -4.02240865e-02,  1.93614196e-02,\n",
       "        -3.00998259e-02, -7.47935399e-02,  3.40519031e-03, -2.84229685e-02,\n",
       "        -3.16847116e-02, -5.65227345e-02,  1.76073499e-02, -1.16770109e-02,\n",
       "        -2.54902039e-02,  5.67514449e-03, -8.65511596e-03,  2.00772341e-02,\n",
       "        -6.05784878e-02,  7.56677100e-03, -4.24373336e-02, -4.17431742e-02,\n",
       "        -1.89717133e-02,  4.79104929e-02, -1.91126317e-02, -2.11340263e-02,\n",
       "         9.14824679e-02,  1.31347235e-02,  1.07196923e-02, -6.44899979e-02,\n",
       "         1.41146658e-02, -4.69890647e-02,  5.50216809e-02, -7.48261958e-02,\n",
       "        -4.72263359e-02, -3.95529758e-04,  2.06741202e-03, -6.27736524e-02,\n",
       "        -1.41691267e-02,  1.66455265e-02,  7.60226836e-03, -4.32540402e-02,\n",
       "         5.98689429e-02,  1.48098404e-03,  2.74483655e-02,  9.14304256e-02,\n",
       "        -2.57107075e-02,  2.77168117e-02, -7.20393434e-02,  1.35987159e-02,\n",
       "        -4.15262170e-02, -7.49015063e-02, -2.40308624e-02, -3.70078199e-02,\n",
       "        -1.75558832e-02,  4.93369950e-03, -3.66162509e-02, -1.40823545e-02,\n",
       "         2.47891061e-02,  2.38462654e-03, -3.25369090e-02, -8.24258551e-02,\n",
       "        -4.02848572e-02, -1.62549205e-02, -4.29784693e-02, -8.38345662e-02,\n",
       "        -2.04658639e-02, -8.55410174e-02, -5.62607422e-02, -2.58407071e-02,\n",
       "        -5.81618249e-02,  3.31933759e-02, -5.40692545e-02,  8.94890726e-03,\n",
       "        -2.90931594e-02,  2.83242296e-02,  2.06002444e-02, -9.07897726e-02,\n",
       "         3.37439752e-03, -3.34978886e-02,  8.07832554e-02,  1.30185336e-02,\n",
       "        -2.86651636e-03,  6.47439137e-02, -6.34269714e-02, -4.73133381e-03,\n",
       "        -5.98091865e-03,  5.51410057e-02,  1.05206314e-02, -5.75702079e-02,\n",
       "         1.51798800e-02, -7.26552820e-03, -6.05806224e-02, -2.18666214e-02,\n",
       "         1.60015058e-02, -2.33200528e-02, -2.54933350e-02,  4.51078406e-04,\n",
       "        -2.92244945e-02, -3.33403982e-03,  3.37880431e-03,  3.80267836e-02,\n",
       "        -2.76949890e-02, -2.86364425e-02, -6.07901327e-02, -6.14717864e-02,\n",
       "        -9.87214521e-02, -3.27362046e-02,  1.36900489e-04, -4.00122590e-02,\n",
       "        -3.23085673e-02, -2.62300316e-02, -1.08460970e-02, -2.46458352e-02,\n",
       "        -4.23209220e-02,  2.20609587e-02, -1.71697364e-04, -1.91641711e-02,\n",
       "        -3.86367133e-03,  8.40884820e-03, -2.96569001e-02,  1.71431676e-02,\n",
       "         7.48251826e-02,  8.12588856e-02, -6.35956414e-03, -4.37166467e-02,\n",
       "        -5.42507805e-02, -4.15297821e-02, -4.35365103e-02, -3.76431867e-02,\n",
       "        -3.52541879e-02, -6.79467842e-02,  4.54257103e-03, -4.36171219e-02,\n",
       "        -3.21473181e-02, -8.79460722e-02,  5.02625713e-03, -3.70119400e-02,\n",
       "        -1.72345210e-02, -3.10413074e-02, -5.45086227e-02, -2.15623584e-02,\n",
       "        -3.56126018e-02,  1.82696749e-02,  4.77518886e-03, -4.89506125e-02,\n",
       "         1.99883897e-02, -2.65020225e-02, -1.89880077e-02, -6.27993122e-02,\n",
       "         6.87106187e-03, -2.70892158e-02, -6.04688525e-02, -3.14412033e-03,\n",
       "         6.66365260e-03,  1.14157964e-02, -6.33726642e-02, -5.86875379e-02,\n",
       "         3.96177359e-03, -7.73839429e-02,  1.68026052e-02, -2.97162086e-02,\n",
       "         2.16704141e-02,  7.93289170e-02, -8.28773454e-02, -1.58148520e-02,\n",
       "        -5.95500655e-02, -3.31479870e-02, -2.72138864e-02, -3.44045497e-02],\n",
       "       dtype=float32)>,\n",
       " <tf.Variable 'dense_1/kernel:0' shape=(512, 256) dtype=float32, numpy=\n",
       " array([[ 0.0735669 , -0.08559475,  0.10717776, ..., -0.09332039,\n",
       "         -0.11789596, -0.00595482],\n",
       "        [-0.02554027,  0.03498854, -0.04297968, ...,  0.14190161,\n",
       "          0.06887286, -0.01560944],\n",
       "        [-0.04570938,  0.04777643,  0.09237034, ...,  0.03597618,\n",
       "         -0.00324637,  0.01316049],\n",
       "        ...,\n",
       "        [ 0.06519455,  0.02803158, -0.11857161, ...,  0.03642494,\n",
       "         -0.03477858,  0.02793565],\n",
       "        [ 0.09211826,  0.04307122,  0.02533863, ..., -0.04558915,\n",
       "          0.04926496,  0.03426462],\n",
       "        [-0.10037283, -0.07231379,  0.05185793, ..., -0.0932161 ,\n",
       "          0.04156233, -0.010009  ]], dtype=float32)>,\n",
       " <tf.Variable 'dense_1/bias:0' shape=(256,) dtype=float32, numpy=\n",
       " array([-0.07081068,  0.09899354,  0.05400137,  0.09430774, -0.09525123,\n",
       "         0.02796123,  0.04588261, -0.03301623, -0.01580416,  0.01360446,\n",
       "         0.15386084,  0.15633042, -0.06373903,  0.0905658 ,  0.04623782,\n",
       "        -0.12435535,  0.01737824,  0.10594978,  0.15303501, -0.07051632,\n",
       "         0.01484292,  0.06441787, -0.05432173,  0.14064161,  0.03700923,\n",
       "         0.03441025,  0.04648474, -0.08244343,  0.10997359, -0.08784799,\n",
       "         0.03281122,  0.08532966, -0.05778415, -0.03768233, -0.1045344 ,\n",
       "         0.03985682,  0.11268377, -0.12390091,  0.02547311, -0.07971115,\n",
       "         0.06054675,  0.0533303 , -0.03577224,  0.00875535, -0.06264741,\n",
       "         0.05285916,  0.02506673,  0.0280559 ,  0.04871862, -0.05927192,\n",
       "        -0.09310406, -0.05753733,  0.1042254 , -0.05116873, -0.10173558,\n",
       "        -0.03987622,  0.02829107, -0.01947264,  0.01493902,  0.01512305,\n",
       "        -0.04090939, -0.06329753,  0.02731233, -0.00832788,  0.05414191,\n",
       "        -0.05083331,  0.04312972, -0.05736794, -0.02294339,  0.00760599,\n",
       "        -0.04459644,  0.09961972, -0.0477096 ,  0.07690267,  0.06132484,\n",
       "        -0.01549784,  0.04081346, -0.0282161 ,  0.03478225, -0.0494164 ,\n",
       "         0.04794447, -0.10089909, -0.01210479,  0.02823858, -0.10245526,\n",
       "        -0.10820246,  0.08764875, -0.07450424, -0.06664211,  0.02226841,\n",
       "         0.02683209,  0.05880992,  0.01237729, -0.07609504,  0.12329504,\n",
       "        -0.03792143,  0.02816247, -0.0655148 , -0.03572895, -0.026114  ,\n",
       "         0.03084073,  0.04300201,  0.06726325, -0.0178416 , -0.14127581,\n",
       "        -0.03907448,  0.04604324,  0.00544597,  0.04539105,  0.11777666,\n",
       "         0.01798775,  0.01046916, -0.08740147, -0.05977111, -0.07714143,\n",
       "        -0.00234405,  0.06150102, -0.00290458,  0.01021765, -0.0773835 ,\n",
       "         0.00293369,  0.07362136,  0.07042226, -0.00317368,  0.06908993,\n",
       "        -0.0926355 ,  0.0570031 ,  0.09621425, -0.04489398, -0.08903232,\n",
       "         0.04979962, -0.10367993, -0.12159699, -0.04779327,  0.01041144,\n",
       "        -0.11803681, -0.02826262,  0.02369644,  0.07702874,  0.08677785,\n",
       "         0.03713982, -0.04608222,  0.12206519, -0.06399884,  0.03888006,\n",
       "        -0.05101127, -0.00239995, -0.10109136, -0.04476544, -0.02444129,\n",
       "        -0.06186131,  0.07549233, -0.10658789,  0.0073257 , -0.09326015,\n",
       "        -0.07924762,  0.00148215,  0.11677752, -0.03539026,  0.02181931,\n",
       "         0.04617018,  0.00733772,  0.02281368,  0.05319556,  0.02060785,\n",
       "        -0.039098  ,  0.00573079,  0.04161899, -0.00854297, -0.03082395,\n",
       "        -0.0746565 , -0.04215109,  0.00452214, -0.03603477,  0.05089506,\n",
       "        -0.02946482,  0.1134222 , -0.03294269,  0.05419433, -0.01123043,\n",
       "         0.09851018,  0.12530735,  0.08617019, -0.05368256,  0.02190361,\n",
       "         0.08782829, -0.03468616, -0.07665648, -0.06766199, -0.07481162,\n",
       "         0.17676798,  0.0473818 , -0.04856532, -0.00476167,  0.01449116,\n",
       "         0.06175751,  0.07120372, -0.09317761, -0.07326528,  0.05827855,\n",
       "         0.08511016,  0.06112094,  0.02751211,  0.13675354,  0.08022393,\n",
       "        -0.04170946, -0.0169092 , -0.04902475,  0.03884908, -0.06295106,\n",
       "         0.10122829, -0.02481717, -0.10128544,  0.12791155, -0.11128579,\n",
       "         0.05142234,  0.03881635,  0.0205    ,  0.07780284,  0.07836597,\n",
       "         0.08107037, -0.03879255, -0.01192696,  0.00749226,  0.0205561 ,\n",
       "        -0.05763327, -0.02557761,  0.03874575, -0.10047917, -0.06317116,\n",
       "         0.03297313,  0.06665968,  0.04953278,  0.0992412 , -0.00192389,\n",
       "        -0.04324294, -0.07924585, -0.10822599,  0.03247144, -0.05181293,\n",
       "         0.01770821,  0.01315907,  0.0241125 , -0.02385436,  0.04853687,\n",
       "        -0.03280782,  0.0440031 ,  0.0466162 , -0.05941681, -0.05050014,\n",
       "        -0.01314071,  0.08912894,  0.10766643,  0.01251073, -0.06527674,\n",
       "         0.03217658], dtype=float32)>,\n",
       " <tf.Variable 'dense_2/kernel:0' shape=(256, 128) dtype=float32, numpy=\n",
       " array([[-0.03450624,  0.0757992 ,  0.01667329, ..., -0.16176154,\n",
       "          0.03853996,  0.13594519],\n",
       "        [-0.12131909,  0.02301699, -0.10788216, ..., -0.130312  ,\n",
       "         -0.10225928,  0.05481629],\n",
       "        [ 0.01463606, -0.11255118,  0.04538321, ..., -0.0096656 ,\n",
       "          0.02280767, -0.1820365 ],\n",
       "        ...,\n",
       "        [-0.07914656,  0.01988045, -0.08127855, ..., -0.08879388,\n",
       "          0.13878348, -0.00676551],\n",
       "        [-0.11258647, -0.05405124,  0.09189281, ..., -0.05437616,\n",
       "          0.07559934,  0.12350866],\n",
       "        [ 0.07901712, -0.11875969, -0.02770943, ...,  0.10978304,\n",
       "         -0.12353655, -0.03004551]], dtype=float32)>,\n",
       " <tf.Variable 'dense_2/bias:0' shape=(128,) dtype=float32, numpy=\n",
       " array([-0.1075295 , -0.02265863, -0.0807071 , -0.13171746, -0.11823055,\n",
       "        -0.04717301, -0.02211458, -0.11116118, -0.01694067, -0.09661154,\n",
       "        -0.03462555, -0.02013895,  0.0136189 ,  0.01609446, -0.06229735,\n",
       "        -0.01335624, -0.05810063, -0.00304869, -0.0101496 , -0.0571981 ,\n",
       "        -0.01491017, -0.08306398, -0.07942557, -0.06940204, -0.00651832,\n",
       "        -0.04899994, -0.06309208,  0.02538915, -0.06617046,  0.02424583,\n",
       "         0.00388265, -0.07503078,  0.01725082, -0.10690336, -0.04014581,\n",
       "         0.01560887, -0.00182101,  0.04798927,  0.01042571, -0.01660443,\n",
       "        -0.04370825, -0.07846425, -0.02578068, -0.03294926,  0.00883892,\n",
       "        -0.04649656, -0.04624555, -0.01404232, -0.08349244, -0.01084732,\n",
       "        -0.06403447,  0.04513634, -0.18843669, -0.00738492, -0.00654006,\n",
       "        -0.03606435, -0.01547026,  0.0158154 , -0.03520863,  0.04365451,\n",
       "        -0.01159181,  0.03563253, -0.04242809, -0.05065165, -0.01621172,\n",
       "         0.00179966, -0.03523238, -0.04202202, -0.09925   , -0.05692689,\n",
       "        -0.14528956, -0.0038837 , -0.07780088, -0.03535042,  0.02312304,\n",
       "        -0.02869113, -0.03070982, -0.04358001, -0.0068236 , -0.06585615,\n",
       "        -0.01989288, -0.06012695, -0.02633036, -0.05639061, -0.12523173,\n",
       "        -0.09094765, -0.09653211, -0.07952636, -0.01906357, -0.06613463,\n",
       "        -0.03523482, -0.04541969, -0.04289556, -0.03987689, -0.05759256,\n",
       "        -0.03514494, -0.00837122, -0.03097886, -0.06119194, -0.09912365,\n",
       "        -0.13981016, -0.03166559, -0.0127937 , -0.11655247, -0.02009696,\n",
       "        -0.02647037, -0.00302942, -0.11281836, -0.07327664, -0.05357255,\n",
       "        -0.00028598, -0.04318057, -0.08143864, -0.02434184,  0.00142878,\n",
       "        -0.07850354, -0.11449174, -0.04720989, -0.07548416,  0.0310121 ,\n",
       "        -0.01539911, -0.13545698, -0.12601227,  0.01514585, -0.02931504,\n",
       "        -0.0559618 , -0.11657099, -0.03191904], dtype=float32)>,\n",
       " <tf.Variable 'dense_3/kernel:0' shape=(128, 64) dtype=float32, numpy=\n",
       " array([[ 0.08941656, -0.13861723,  0.0153958 , ..., -0.15700097,\n",
       "         -0.03712036, -0.15571082],\n",
       "        [ 0.01916187, -0.09241816, -0.03316015, ...,  0.19800243,\n",
       "          0.13088594, -0.12980649],\n",
       "        [ 0.02245783, -0.04985298, -0.00318432, ...,  0.14985082,\n",
       "         -0.07077117,  0.18137994],\n",
       "        ...,\n",
       "        [ 0.06763545, -0.04488606,  0.04926313, ..., -0.00697174,\n",
       "         -0.17950562, -0.15697697],\n",
       "        [-0.1335969 ,  0.00866366, -0.06365591, ..., -0.2021908 ,\n",
       "          0.02382313,  0.04078417],\n",
       "        [-0.01839923,  0.17113946, -0.18913533, ...,  0.07401965,\n",
       "          0.18805568, -0.1885562 ]], dtype=float32)>,\n",
       " <tf.Variable 'dense_3/bias:0' shape=(64,) dtype=float32, numpy=\n",
       " array([ 0.07454797, -0.02298516,  0.03849243,  0.00833752, -0.01594372,\n",
       "         0.02969411, -0.03021225, -0.04500758,  0.03255888, -0.03039776,\n",
       "        -0.04864103, -0.02410728, -0.06021582, -0.00572683,  0.00661349,\n",
       "        -0.0761175 , -0.00373531, -0.02217207, -0.01680433,  0.07388155,\n",
       "         0.05767508, -0.07061087,  0.00108299, -0.07484511, -0.11901709,\n",
       "        -0.01497549,  0.03187226, -0.08061456, -0.02529082,  0.0222285 ,\n",
       "        -0.0093787 , -0.04811694,  0.05142233, -0.00699145, -0.05739331,\n",
       "        -0.01980363, -0.05420872, -0.03106455,  0.02613668, -0.02315811,\n",
       "        -0.08051699, -0.02824642, -0.05262765,  0.02068616, -0.04969214,\n",
       "        -0.02204265,  0.02200373, -0.0073747 , -0.03628064,  0.04009141,\n",
       "        -0.01069176, -0.05219277, -0.00689926,  0.01614363,  0.03534736,\n",
       "        -0.03088361, -0.03109858, -0.05444348,  0.00060786, -0.03617416,\n",
       "         0.04916366, -0.03584726,  0.05924555,  0.00634243], dtype=float32)>,\n",
       " <tf.Variable 'dense_4/kernel:0' shape=(64, 10) dtype=float32, numpy=\n",
       " array([[-2.34538615e-01, -3.04219037e-01, -5.09400479e-02,\n",
       "         -4.62552644e-02,  4.24591303e-02, -2.62269914e-01,\n",
       "         -2.38689005e-01,  1.76602565e-02,  4.75530885e-02,\n",
       "          1.21877417e-01],\n",
       "        [-2.29806975e-01,  5.36349267e-02,  1.31649315e-01,\n",
       "         -2.92146415e-01,  5.78666180e-02, -2.74970382e-01,\n",
       "         -1.85907558e-02, -2.11167112e-01, -4.31632474e-02,\n",
       "         -1.89971298e-01],\n",
       "        [-2.63786823e-01,  1.02751851e-01, -2.37051129e-01,\n",
       "         -2.17212677e-01,  1.36520013e-01, -2.00655997e-01,\n",
       "         -2.74686962e-01, -8.93104300e-02,  1.04345925e-01,\n",
       "          1.83213636e-01],\n",
       "        [-7.08417594e-02,  6.23440929e-02,  5.97530231e-02,\n",
       "         -5.70917390e-02, -2.90622562e-01,  1.05380453e-03,\n",
       "         -2.33313903e-01,  6.86703399e-02, -5.97031903e-04,\n",
       "          1.41547412e-01],\n",
       "        [ 1.19233184e-01, -4.48627919e-02,  4.56415154e-02,\n",
       "         -2.34920904e-01, -1.12674437e-01,  9.89335626e-02,\n",
       "          2.67728806e-01,  2.86057740e-01,  2.29329526e-01,\n",
       "         -1.56345204e-01],\n",
       "        [-2.25552574e-01,  8.90248176e-03, -3.51856977e-01,\n",
       "         -1.72978610e-01, -7.98484236e-02,  7.98534080e-02,\n",
       "          4.20352630e-02, -1.84288368e-01,  9.57098827e-02,\n",
       "         -1.62700657e-03],\n",
       "        [ 5.09787723e-03, -2.20933914e-01, -1.47825360e-01,\n",
       "          2.60618836e-01, -2.26503089e-01,  2.26293266e-01,\n",
       "          1.13693237e-01,  6.97360113e-02, -3.61462235e-02,\n",
       "          1.32048026e-01],\n",
       "        [ 1.71517283e-01, -1.74210861e-01, -2.18932018e-01,\n",
       "         -9.05302167e-02, -2.27210060e-01,  7.86529109e-02,\n",
       "         -3.25426131e-01,  1.49858184e-02, -9.98351276e-02,\n",
       "         -8.08361731e-03],\n",
       "        [-1.53035581e-01,  2.41879359e-01,  2.14768603e-01,\n",
       "          1.66933596e-01, -2.63484240e-01,  8.11377913e-02,\n",
       "         -1.20613545e-01, -2.36152768e-01,  1.42387107e-01,\n",
       "         -6.32251874e-02],\n",
       "        [ 2.65054524e-01,  1.76009908e-01, -6.63597742e-03,\n",
       "         -2.76910335e-01,  2.48981044e-01, -9.02492832e-03,\n",
       "          2.45078757e-01,  2.23365799e-02, -1.24737598e-01,\n",
       "          1.89992830e-01],\n",
       "        [ 6.98018372e-02, -1.28769696e-01,  3.98615785e-02,\n",
       "          6.70865700e-02, -1.78829715e-01,  3.24243419e-02,\n",
       "         -1.10965624e-01,  1.01906620e-01, -1.25306144e-01,\n",
       "         -1.26283050e-01],\n",
       "        [-2.17575744e-01,  1.86680108e-01, -2.87085194e-02,\n",
       "          1.48659557e-01,  2.48594269e-01,  4.25540581e-02,\n",
       "          4.67082970e-02,  1.70067936e-01, -3.89477960e-03,\n",
       "         -3.92720476e-02],\n",
       "        [ 2.67783672e-01,  1.27611563e-01, -1.52203679e-01,\n",
       "          2.49361277e-01,  1.07895367e-01, -2.77609617e-01,\n",
       "         -1.73235670e-01, -2.36698374e-01,  1.16699532e-01,\n",
       "          3.26861367e-02],\n",
       "        [-2.55652696e-01,  7.94521421e-02,  1.88489139e-01,\n",
       "          5.97083420e-02,  1.14208102e-01, -1.16435304e-01,\n",
       "          8.27622414e-02,  4.19578589e-02, -2.56929487e-01,\n",
       "         -6.35150895e-02],\n",
       "        [-2.39606768e-01,  2.55037546e-01, -1.04485393e-01,\n",
       "         -2.39979088e-01, -1.07542224e-01,  3.17755006e-02,\n",
       "         -5.62520102e-02, -6.58584908e-02,  1.89854234e-01,\n",
       "         -1.60431698e-01],\n",
       "        [ 6.84595034e-02, -3.39722484e-01,  6.85935616e-02,\n",
       "          1.01666944e-02, -2.65284479e-01,  1.49556741e-01,\n",
       "          1.05058737e-01,  5.20045273e-02,  5.91318570e-02,\n",
       "          1.16307825e-01],\n",
       "        [-1.96587354e-01,  1.66315213e-02,  7.53620043e-02,\n",
       "          9.30522606e-02, -1.00396901e-01,  5.35403863e-02,\n",
       "          1.99114040e-01, -4.80440399e-03, -2.09867090e-01,\n",
       "          7.31525421e-02],\n",
       "        [ 1.58974186e-01,  2.10566729e-01,  1.70248568e-01,\n",
       "         -8.83460045e-02, -1.27090052e-01,  1.39800191e-01,\n",
       "          3.14809680e-02, -2.07799654e-02, -1.17566168e-01,\n",
       "         -6.92681037e-03],\n",
       "        [-3.39459628e-01,  4.05139029e-02,  1.10258318e-01,\n",
       "          1.62512884e-01, -1.20246954e-01, -2.17383593e-01,\n",
       "         -2.54014403e-01,  3.19921196e-01, -6.27266318e-02,\n",
       "         -7.73998573e-02],\n",
       "        [ 1.69047460e-01, -3.14665318e-01,  1.20331138e-01,\n",
       "          4.90363389e-02, -2.82490641e-01,  3.87142599e-03,\n",
       "          1.07223168e-01, -2.09856048e-01,  2.43159145e-01,\n",
       "         -1.80595577e-01],\n",
       "        [-2.80284919e-02,  2.00660139e-01, -6.92518130e-02,\n",
       "          3.03630769e-01, -4.08899039e-01,  1.38112456e-01,\n",
       "         -2.00841427e-01,  1.53531089e-01,  2.39892527e-01,\n",
       "         -6.87412247e-02],\n",
       "        [-2.47969225e-01, -1.27367064e-01, -2.01129615e-02,\n",
       "         -1.07465468e-01, -8.69767368e-02, -3.92504036e-02,\n",
       "          1.28485024e-01,  4.00874391e-02, -2.49156132e-01,\n",
       "         -3.36783677e-01],\n",
       "        [ 2.13755183e-02, -2.65255332e-01,  1.94983762e-02,\n",
       "          1.20229267e-01,  1.96565464e-01, -2.86970772e-02,\n",
       "          1.00152027e-02,  1.66182265e-01, -1.44542947e-01,\n",
       "          1.73868895e-01],\n",
       "        [ 1.78231344e-01,  2.83826236e-02,  1.58927571e-02,\n",
       "         -2.63848364e-01, -1.16626807e-01,  2.26854607e-01,\n",
       "          4.81859222e-02, -6.91632330e-02, -1.59885764e-01,\n",
       "         -1.47991180e-01],\n",
       "        [-2.07518309e-01, -7.89859667e-02,  7.77317658e-02,\n",
       "         -7.29219243e-02, -9.28976759e-02,  9.51235443e-02,\n",
       "         -5.63207746e-01,  2.14723662e-01, -1.91457327e-02,\n",
       "          2.41386034e-02],\n",
       "        [ 2.26301268e-01, -1.06268570e-01, -1.44954259e-02,\n",
       "          1.04273371e-01, -1.33901864e-01,  4.93163206e-02,\n",
       "          2.25115448e-01, -3.13795626e-01,  7.11621568e-02,\n",
       "         -1.24294408e-01],\n",
       "        [-1.00195251e-01,  1.15374893e-01, -3.00239101e-02,\n",
       "         -4.56091091e-02, -1.94027275e-01, -3.33953053e-01,\n",
       "         -2.32802540e-01, -5.96951246e-02,  1.32281870e-01,\n",
       "          1.89895574e-02],\n",
       "        [ 1.94010705e-01,  2.55724728e-01,  1.11255206e-01,\n",
       "         -1.06705680e-01, -1.10552303e-01,  6.56163245e-02,\n",
       "          2.12352872e-01,  1.18513657e-02, -2.04988196e-01,\n",
       "         -6.92209527e-02],\n",
       "        [-9.74119678e-02, -2.18323320e-01,  1.75144091e-01,\n",
       "         -2.34946996e-01, -1.47771910e-01,  1.80118844e-01,\n",
       "         -1.10358410e-01,  6.15609661e-02, -1.56438947e-01,\n",
       "          6.27563298e-02],\n",
       "        [ 1.27003789e-01, -1.89209148e-01,  1.13948509e-01,\n",
       "          1.45603642e-01, -2.49801487e-01, -2.69456953e-01,\n",
       "         -2.37588063e-01,  4.63132896e-02,  2.16252357e-01,\n",
       "          1.07813999e-02],\n",
       "        [-5.15546128e-02, -3.45897041e-02,  2.12252468e-01,\n",
       "         -7.69832870e-03,  2.73095667e-01, -3.19845766e-01,\n",
       "          4.95123118e-02, -3.58414203e-02,  5.34418821e-02,\n",
       "         -2.76501507e-01],\n",
       "        [-1.23897247e-01, -2.27915272e-01, -1.78248897e-01,\n",
       "          5.29164188e-02, -1.72086164e-01,  1.90959245e-01,\n",
       "         -1.03806227e-01,  5.06975614e-02, -2.00113863e-01,\n",
       "         -2.18800813e-01],\n",
       "        [-1.00256726e-01, -1.14890225e-01, -9.26034451e-02,\n",
       "          2.00770274e-01, -2.55402476e-01, -2.51796514e-01,\n",
       "         -2.84028705e-03, -2.49104455e-01,  2.10184470e-01,\n",
       "         -2.53709495e-01],\n",
       "        [ 2.42372081e-01,  3.25956464e-01,  1.99410856e-01,\n",
       "         -4.31789039e-03,  2.33811513e-01, -5.23104845e-03,\n",
       "         -1.71633959e-02,  9.34230015e-02,  1.54411256e-01,\n",
       "          1.65393651e-01],\n",
       "        [ 9.56953317e-02, -7.60463029e-02, -9.06207878e-03,\n",
       "         -1.23366162e-01,  2.63541862e-02,  1.05489157e-01,\n",
       "          5.94389662e-02, -2.13924363e-01,  1.74214616e-01,\n",
       "         -5.55196591e-02],\n",
       "        [-1.18105195e-01,  2.08900288e-01, -4.17956561e-02,\n",
       "         -1.50346830e-01, -1.74897328e-01,  2.35662684e-01,\n",
       "         -8.31800997e-02, -6.68462142e-02, -1.20220119e-02,\n",
       "          4.80141537e-03],\n",
       "        [-2.07852632e-01, -2.07368195e-01, -2.29991525e-02,\n",
       "          6.68892264e-02, -1.17414556e-01,  5.65254986e-02,\n",
       "         -3.57483506e-01, -2.98045445e-02, -1.08182900e-01,\n",
       "         -1.75507143e-01],\n",
       "        [ 6.01123199e-02,  3.97588275e-02, -1.41908944e-01,\n",
       "          2.40852058e-01, -1.29533961e-01,  1.08748702e-02,\n",
       "          6.53239712e-02,  1.69284135e-01, -3.22864391e-02,\n",
       "          1.32158458e-01],\n",
       "        [ 4.26086895e-02, -2.95114815e-01,  1.10631734e-01,\n",
       "          2.06390455e-01, -1.91192687e-01,  2.07425117e-01,\n",
       "         -1.17357463e-01, -6.48920983e-02,  1.31668717e-01,\n",
       "          2.96342317e-02],\n",
       "        [ 1.22213900e-01, -2.39158541e-01, -7.44745657e-02,\n",
       "         -2.57246532e-02,  7.88065270e-02,  1.04218207e-01,\n",
       "         -1.15263522e-01, -1.75336435e-01, -2.52765149e-01,\n",
       "         -1.12126067e-01],\n",
       "        [-2.12645948e-01,  1.77460849e-01,  2.01823369e-01,\n",
       "         -3.98150235e-02,  1.99497417e-01,  1.95989311e-02,\n",
       "         -2.79520042e-02,  2.07172289e-01,  1.55053645e-01,\n",
       "          1.01380602e-01],\n",
       "        [-2.21630588e-01,  7.64186308e-02, -1.06042527e-01,\n",
       "         -1.74540803e-01,  7.13732019e-02, -1.82218686e-01,\n",
       "         -8.67083147e-02,  2.00955838e-01,  6.47911336e-03,\n",
       "         -2.12332547e-01],\n",
       "        [ 3.12689245e-01,  2.27198988e-01, -1.63950533e-01,\n",
       "         -1.76073119e-01,  4.54034135e-02, -1.33093268e-01,\n",
       "          2.70952970e-01,  2.52147615e-01,  1.16908653e-02,\n",
       "         -2.19386481e-02],\n",
       "        [ 9.61328894e-02, -9.29741412e-02, -6.80886060e-02,\n",
       "          3.28244902e-02,  2.19290510e-01, -1.10612802e-01,\n",
       "          1.23502180e-01, -4.49364372e-02,  2.15666488e-01,\n",
       "          2.95901030e-01],\n",
       "        [ 1.25522301e-01, -3.27238947e-01, -1.89871460e-01,\n",
       "         -3.92625779e-02,  1.23423047e-01,  1.04685478e-01,\n",
       "          1.59032181e-01, -3.65135819e-01, -3.96585874e-02,\n",
       "         -1.52453005e-01],\n",
       "        [-3.91886115e-01, -2.41245255e-01,  3.68720554e-02,\n",
       "          7.46213868e-02,  6.13961630e-02,  8.58422667e-02,\n",
       "         -2.06498653e-01, -2.62217730e-01, -9.43475291e-02,\n",
       "         -1.69292241e-01],\n",
       "        [-2.28330210e-01,  7.61560351e-02, -7.23479688e-02,\n",
       "         -1.71878800e-01,  6.23246394e-02, -2.00491160e-01,\n",
       "         -7.32944012e-01,  1.48131832e-01,  1.15873218e-01,\n",
       "          1.16656274e-01],\n",
       "        [ 2.41876855e-01,  1.54324010e-01, -1.59018070e-01,\n",
       "          1.02225184e-01, -2.08898887e-01, -1.48631539e-02,\n",
       "         -2.69229442e-01, -3.51604037e-02, -2.25060638e-02,\n",
       "          2.77404003e-02],\n",
       "        [ 2.00738132e-01, -1.44910961e-01, -2.57188171e-01,\n",
       "          5.43767586e-03,  7.50813857e-02, -2.57429481e-01,\n",
       "          2.02727064e-01,  1.46201342e-01,  4.97998074e-02,\n",
       "         -1.80151165e-02],\n",
       "        [-2.13900641e-01,  2.62725830e-01,  1.13523394e-01,\n",
       "         -4.84471321e-02,  8.47332105e-02,  1.41187273e-02,\n",
       "          2.57729918e-01, -1.51841342e-01,  5.48888110e-02,\n",
       "          1.78306013e-01],\n",
       "        [-1.42187094e-02, -1.20267332e-01,  2.59804219e-01,\n",
       "         -2.38172978e-01,  1.57911882e-01,  2.28260636e-01,\n",
       "          1.21616714e-01, -9.86123756e-02, -6.01623133e-02,\n",
       "         -1.93579495e-01],\n",
       "        [-2.03078672e-01, -2.34304279e-01,  5.01911491e-02,\n",
       "         -9.35815424e-02,  1.56763598e-01, -2.37983257e-01,\n",
       "          1.41144201e-01, -2.74611831e-01,  3.78156267e-02,\n",
       "         -1.95389446e-02],\n",
       "        [ 7.74428174e-02, -1.72212571e-01,  7.88144320e-02,\n",
       "         -2.25354582e-01,  1.64836779e-01, -2.03664247e-02,\n",
       "         -1.62164658e-01,  1.19833149e-01,  1.45022854e-01,\n",
       "         -5.11837890e-03],\n",
       "        [-1.81264997e-01, -2.79280603e-01, -4.80979085e-02,\n",
       "          1.96013302e-01,  2.70089731e-02,  3.61499004e-02,\n",
       "         -7.10084811e-02,  6.20790683e-02,  2.05308467e-01,\n",
       "         -3.89952213e-01],\n",
       "        [-2.19979733e-01, -2.98691452e-01, -2.04198748e-01,\n",
       "         -1.27680197e-01, -2.57721603e-01,  1.95238411e-01,\n",
       "         -1.41662315e-01, -2.64518529e-01,  8.65605772e-02,\n",
       "         -8.88395160e-02],\n",
       "        [-9.42904204e-02,  7.43485168e-02,  1.96601346e-01,\n",
       "         -2.11652920e-01, -1.57281198e-02, -5.75546324e-02,\n",
       "         -2.98805565e-01,  4.46097925e-02,  2.37793778e-03,\n",
       "          2.01498240e-01],\n",
       "        [ 1.29367322e-01,  7.02631250e-02, -1.64134711e-01,\n",
       "          1.53133780e-01, -3.12459022e-01,  2.50628173e-01,\n",
       "         -1.20137639e-01,  2.77899895e-02, -3.08694392e-01,\n",
       "         -1.00197911e-01],\n",
       "        [-3.80226612e-01,  2.52330959e-01, -3.04421932e-02,\n",
       "         -4.23770882e-02,  9.52013209e-02, -1.20786369e-01,\n",
       "         -1.07163638e-01,  2.35443003e-02, -1.85679987e-01,\n",
       "          6.24414422e-02],\n",
       "        [ 2.31627107e-01, -1.72609255e-01,  1.08347625e-01,\n",
       "         -8.55145901e-02, -1.04502901e-01, -3.02777976e-01,\n",
       "         -1.81141436e-01, -1.73641533e-01, -2.24343777e-01,\n",
       "          9.36180428e-02],\n",
       "        [-3.20568471e-03,  1.40877232e-01, -9.40723196e-02,\n",
       "         -1.87844977e-01,  8.26910585e-02,  1.18096180e-01,\n",
       "          2.14522913e-01,  1.80664390e-01, -1.65397272e-01,\n",
       "          9.91486907e-02],\n",
       "        [-1.96515903e-01, -1.22525111e-01, -5.25182718e-03,\n",
       "          1.40617296e-01,  5.09140082e-02,  2.34150976e-01,\n",
       "          2.94037253e-01, -2.53746271e-01,  3.08215082e-01,\n",
       "         -1.67915091e-01],\n",
       "        [ 4.62756418e-02, -1.75854385e-01, -1.67427175e-02,\n",
       "          1.39993384e-01,  9.83524770e-02, -1.82950705e-01,\n",
       "          2.25683823e-01, -1.04755722e-02, -5.59635088e-02,\n",
       "          1.56776398e-01],\n",
       "        [ 4.70617041e-02, -6.28114864e-02,  2.28417128e-01,\n",
       "         -1.27765492e-01, -6.30802661e-02, -3.34128022e-01,\n",
       "         -2.59946436e-01, -7.54885450e-02,  1.91972300e-01,\n",
       "         -2.12997854e-01],\n",
       "        [ 8.68766531e-02, -1.24563329e-01, -2.27533728e-01,\n",
       "          1.31952018e-01,  2.03147769e-01,  1.30218849e-01,\n",
       "         -1.31702945e-01, -2.60151088e-01, -1.73010573e-01,\n",
       "          2.73299009e-01]], dtype=float32)>,\n",
       " <tf.Variable 'dense_4/bias:0' shape=(10,) dtype=float32, numpy=\n",
       " array([-0.03464127, -0.01169423,  0.01414715,  0.01355805, -0.00873168,\n",
       "        -0.03862887, -0.02992107, -0.01502352,  0.04276978,  0.02242784],\n",
       "       dtype=float32)>]"
      ]
     },
     "execution_count": 11,
     "metadata": {},
     "output_type": "execute_result"
    }
   ],
   "source": [
    "model.weights"
   ]
  },
  {
   "cell_type": "code",
   "execution_count": 12,
   "id": "3ef4f74c-41e1-4f0a-b7b1-5a0656ebfe36",
   "metadata": {},
   "outputs": [
    {
     "name": "stdout",
     "output_type": "stream",
     "text": [
      "313/313 [==============================] - 1s 3ms/step - loss: 0.0908 - sparse_categorical_accuracy: 0.9787\n"
     ]
    },
    {
     "data": {
      "text/plain": [
       "[0.0907643735408783, 0.9786999821662903]"
      ]
     },
     "execution_count": 12,
     "metadata": {},
     "output_type": "execute_result"
    }
   ],
   "source": [
    "model.evaluate(X_test.reshape(10000, 784).astype('float32') / 255, y_test)"
   ]
  },
  {
   "cell_type": "markdown",
   "id": "c98f122b-c626-4d4d-9f5b-24f7640e570b",
   "metadata": {},
   "source": [
    "## Now, let's see a Regression Task"
   ]
  },
  {
   "cell_type": "code",
   "execution_count": 15,
   "id": "c58f518e-6a16-4a79-9874-22330e00f8c7",
   "metadata": {},
   "outputs": [],
   "source": [
    "petrol_cons = pd.read_csv('datasets/petrol_consumption.csv')"
   ]
  },
  {
   "cell_type": "code",
   "execution_count": 16,
   "id": "ffae3c6e-8df7-47f4-bdf0-e21b8476099e",
   "metadata": {},
   "outputs": [
    {
     "data": {
      "text/html": [
       "<div>\n",
       "<style scoped>\n",
       "    .dataframe tbody tr th:only-of-type {\n",
       "        vertical-align: middle;\n",
       "    }\n",
       "\n",
       "    .dataframe tbody tr th {\n",
       "        vertical-align: top;\n",
       "    }\n",
       "\n",
       "    .dataframe thead th {\n",
       "        text-align: right;\n",
       "    }\n",
       "</style>\n",
       "<table border=\"1\" class=\"dataframe\">\n",
       "  <thead>\n",
       "    <tr style=\"text-align: right;\">\n",
       "      <th></th>\n",
       "      <th>Petrol_tax</th>\n",
       "      <th>Average_income</th>\n",
       "      <th>Paved_Highways</th>\n",
       "      <th>Population_Driver_licence(%)</th>\n",
       "      <th>Petrol_Consumption</th>\n",
       "    </tr>\n",
       "  </thead>\n",
       "  <tbody>\n",
       "    <tr>\n",
       "      <th>0</th>\n",
       "      <td>9.0</td>\n",
       "      <td>3571</td>\n",
       "      <td>1976</td>\n",
       "      <td>0.525</td>\n",
       "      <td>541</td>\n",
       "    </tr>\n",
       "    <tr>\n",
       "      <th>1</th>\n",
       "      <td>9.0</td>\n",
       "      <td>4092</td>\n",
       "      <td>1250</td>\n",
       "      <td>0.572</td>\n",
       "      <td>524</td>\n",
       "    </tr>\n",
       "    <tr>\n",
       "      <th>2</th>\n",
       "      <td>9.0</td>\n",
       "      <td>3865</td>\n",
       "      <td>1586</td>\n",
       "      <td>0.580</td>\n",
       "      <td>561</td>\n",
       "    </tr>\n",
       "    <tr>\n",
       "      <th>3</th>\n",
       "      <td>7.5</td>\n",
       "      <td>4870</td>\n",
       "      <td>2351</td>\n",
       "      <td>0.529</td>\n",
       "      <td>414</td>\n",
       "    </tr>\n",
       "    <tr>\n",
       "      <th>4</th>\n",
       "      <td>8.0</td>\n",
       "      <td>4399</td>\n",
       "      <td>431</td>\n",
       "      <td>0.544</td>\n",
       "      <td>410</td>\n",
       "    </tr>\n",
       "  </tbody>\n",
       "</table>\n",
       "</div>"
      ],
      "text/plain": [
       "   Petrol_tax  Average_income  Paved_Highways  Population_Driver_licence(%)  \\\n",
       "0         9.0            3571            1976                         0.525   \n",
       "1         9.0            4092            1250                         0.572   \n",
       "2         9.0            3865            1586                         0.580   \n",
       "3         7.5            4870            2351                         0.529   \n",
       "4         8.0            4399             431                         0.544   \n",
       "\n",
       "   Petrol_Consumption  \n",
       "0                 541  \n",
       "1                 524  \n",
       "2                 561  \n",
       "3                 414  \n",
       "4                 410  "
      ]
     },
     "execution_count": 16,
     "metadata": {},
     "output_type": "execute_result"
    }
   ],
   "source": [
    "petrol_cons.head()"
   ]
  },
  {
   "cell_type": "code",
   "execution_count": 43,
   "id": "5ba11df0-9d3d-4a8b-a3e7-7e395536f752",
   "metadata": {},
   "outputs": [
    {
     "data": {
      "text/plain": [
       "<Axes: xlabel='Population_Driver_licence(%)', ylabel='Petrol_Consumption'>"
      ]
     },
     "execution_count": 43,
     "metadata": {},
     "output_type": "execute_result"
    },
    {
     "data": {
      "image/png": "[encoded data removed]",
      "text/plain": [
       "<Figure size 640x480 with 1 Axes>"
      ]
     },
     "metadata": {},
     "output_type": "display_data"
    }
   ],
   "source": [
    "sns.set_style('whitegrid')\n",
    "sns.scatterplot(data=petrol_cons, x='Population_Driver_licence(%)', y='Petrol_Consumption')"
   ]
  },
  {
   "cell_type": "code",
   "execution_count": 48,
   "id": "4648624b-0d78-4e8a-82da-ec18a6cec974",
   "metadata": {},
   "outputs": [
    {
     "data": {
      "text/plain": [
       "Index(['Petrol_tax', 'Average_income', 'Paved_Highways',\n",
       "       'Population_Driver_licence(%)', 'Petrol_Consumption'],\n",
       "      dtype='object')"
      ]
     },
     "execution_count": 48,
     "metadata": {},
     "output_type": "execute_result"
    }
   ],
   "source": [
    "petrol_cons.columns"
   ]
  },
  {
   "cell_type": "code",
   "execution_count": 50,
   "id": "41a47b5b-489d-4dfc-a03b-d096255daf24",
   "metadata": {},
   "outputs": [],
   "source": [
    "X = petrol_cons.iloc[:, :4].values\n",
    "y = petrol_cons.iloc[:, 4].values\n",
    "\n",
    "from sklearn.model_selection import train_test_split\n",
    "\n",
    "X_train, X_test, y_train, y_test = train_test_split(X, y, test_size=0.2, random_state=17)\n",
    "\n",
    "from sklearn.preprocessing import StandardScaler\n",
    "\n",
    "sc = StandardScaler()\n",
    "\n",
    "X_train_scl = sc.fit_transform(X_train)\n",
    "X_test_scl = sc.transform(X_test)\n",
    "\n"
   ]
  },
  {
   "cell_type": "code",
   "execution_count": 55,
   "id": "f0e11deb-bed7-4a1b-a1bb-732f95effd38",
   "metadata": {},
   "outputs": [
    {
     "data": {
      "text/plain": [
       "array([[-1.14584986, -0.88868457,  0.52617729,  1.08914549],\n",
       "       [-0.21511308,  1.42713343,  2.25627633, -0.77499612],\n",
       "       [ 0.29072213,  0.23948961,  0.72854876, -0.70329837],\n",
       "       [ 0.79655734,  0.46162623, -0.89423619, -0.30896072],\n",
       "       [ 0.29072213, -0.21352917,  0.01984006, -0.09386745],\n",
       "       [-0.72094829,  0.70999946,  0.00349781,  2.79196715],\n",
       "       [-0.72094829,  0.88665929,  0.27995413,  0.10330137],\n",
       "       [ 1.30239255, -0.77849082, -1.17559518,  0.210848  ],\n",
       "       [ 0.79655734,  0.05408424,  0.02937304,  1.94951854],\n",
       "       [-0.72094829, -1.17203995,  0.27314486, -0.90046719],\n",
       "       [ 1.30239255, -0.09109166, -0.33124584, -0.91839163],\n",
       "       [ 1.30239255, -1.29272835, -1.06937059, -0.77499612],\n",
       "       [ 0.29072213, -1.50786854, -0.1370455 , -0.36273403],\n",
       "       [ 2.31406296,  1.8049406 , -1.24450499,  0.04952805],\n",
       "       [-0.72094829, -0.18029613,  0.18462437, -0.41650735],\n",
       "       [-0.72094829,  0.03834227,  0.61469779,  0.71273228],\n",
       "       [-2.74428912, -0.46365151,  3.23572156, -0.04009414],\n",
       "       [ 1.30239255, -1.03036226, -0.3149036 , -0.43443179],\n",
       "       [-0.72094829,  0.35318158,  0.70948281, -0.29103628],\n",
       "       [-0.72094829, -0.01762916, -0.61750751,  0.62311009],\n",
       "       [ 0.29072213, -2.18127483,  0.1693716 ,  0.17499912],\n",
       "       [-0.21511308, -0.81172385,  0.86037621,  0.19292356],\n",
       "       [ 1.30239255,  0.29021372, -0.53388969,  0.04952805],\n",
       "       [-0.21511308,  0.97936198, -0.96723156, -0.70329837],\n",
       "       [ 0.29072213, -1.36793996, -0.65563941, -1.45612479],\n",
       "       [ 0.29072213,  0.1415396 ,  0.01003471, -0.68537393],\n",
       "       [-0.72094829, -1.03560958, -0.32062338, -0.50612954],\n",
       "       [ 1.30239255, -0.38144347, -1.26711176,  0.06745249],\n",
       "       [ 0.29072213,  1.42713343, -1.02524653, -0.27311184],\n",
       "       [-0.72094829,  0.49485927,  0.52617729,  1.6985764 ],\n",
       "       [-0.72094829,  0.06108067, -0.5439674 ,  1.85989635],\n",
       "       [ 0.29072213,  0.15553246, -1.49018341, -0.43443179],\n",
       "       [-0.72094829, -1.70901588,  0.18843756, -0.99008938],\n",
       "       [-1.7326187 ,  1.58280398, -0.98057772,  1.85989635],\n",
       "       [ 1.30239255,  1.02658787, -0.94053922, -1.02593826],\n",
       "       [ 0.29072213,  1.76471113,  1.62492092, -2.10140457],\n",
       "       [-0.72094829,  0.01385477,  1.2087384 ,  0.31839463],\n",
       "       [-0.72094829,  1.21024413,  1.06002397,  0.4438657 ]])"
      ]
     },
     "execution_count": 55,
     "metadata": {},
     "output_type": "execute_result"
    }
   ],
   "source": [
    "X_train_scl"
   ]
  },
  {
   "cell_type": "markdown",
   "id": "2bc92add-6214-426a-85d1-0d5adb14516d",
   "metadata": {},
   "source": [
    "## Designing the Neural Network architecture for Regression Task"
   ]
  },
  {
   "cell_type": "code",
   "execution_count": 61,
   "id": "0299b081-5093-4de4-83bb-efa851ef0777",
   "metadata": {},
   "outputs": [],
   "source": [
    "input_layer = Input(shape=(X.shape[1],))\n",
    "\n",
    "dense_layer_1 = Dense(100, activation='relu', kernel_regularizer = 'l2')(input_layer)\n",
    "dense_layer_2 = Dense(50, activation='relu', kernel_regularizer='l2')(dense_layer_1)\n",
    "dense_layer_3 = Dense(25, activation='relu', kernel_regularizer='l2')(dense_layer_2)\n",
    "output = Dense(1)(dense_layer_3)\n",
    "\n",
    "model = Model(inputs=input_layer, outputs=output)\n",
    "\n",
    "# R2Score = tf.keras.metrics.R2Score()\n",
    "model.compile(loss='mean_squared_error', optimizer='adam', metrics=['mean_squared_error'])"
   ]
  },
  {
   "cell_type": "code",
   "execution_count": 62,
   "id": "1f36f8e4-b9b5-4eab-8322-2756771f11aa",
   "metadata": {},
   "outputs": [
    {
     "name": "stdout",
     "output_type": "stream",
     "text": [
      "Model: \"model_1\"\n",
      "_________________________________________________________________\n",
      " Layer (type)                Output Shape              Param #   \n",
      "=================================================================\n",
      " input_2 (InputLayer)        [(None, 4)]               0         \n",
      "                                                                 \n",
      " dense_9 (Dense)             (None, 100)               500       \n",
      "                                                                 \n",
      " dense_10 (Dense)            (None, 50)                5050      \n",
      "                                                                 \n",
      " dense_11 (Dense)            (None, 25)                1275      \n",
      "                                                                 \n",
      " dense_12 (Dense)            (None, 1)                 26        \n",
      "                                                                 \n",
      "=================================================================\n",
      "Total params: 6,851\n",
      "Trainable params: 6,851\n",
      "Non-trainable params: 0\n",
      "_________________________________________________________________\n"
     ]
    }
   ],
   "source": [
    "model.summary()"
   ]
  },
  {
   "cell_type": "code",
   "execution_count": 63,
   "id": "d13d2517-cc89-484c-b7e9-fa819b2ffc82",
   "metadata": {},
   "outputs": [
    {
     "name": "stdout",
     "output_type": "stream",
     "text": [
      "Epoch 1/50\n",
      "3/3 [==============================] - 1s 105ms/step - loss: 323932.1250 - mean_squared_error: 323931.0000 - val_loss: 379202.2188 - val_mean_squared_error: 379201.1250\n",
      "Epoch 2/50\n",
      "3/3 [==============================] - 0s 23ms/step - loss: 323738.9062 - mean_squared_error: 323737.8125 - val_loss: 378988.8125 - val_mean_squared_error: 378987.7500\n",
      "Epoch 3/50\n",
      "3/3 [==============================] - 0s 23ms/step - loss: 323569.3438 - mean_squared_error: 323568.2812 - val_loss: 378749.2500 - val_mean_squared_error: 378748.1875\n",
      "Epoch 4/50\n",
      "3/3 [==============================] - 0s 28ms/step - loss: 323376.0625 - mean_squared_error: 323375.0312 - val_loss: 378511.5000 - val_mean_squared_error: 378510.4375\n",
      "Epoch 5/50\n",
      "3/3 [==============================] - 0s 23ms/step - loss: 323165.4062 - mean_squared_error: 323164.3438 - val_loss: 378246.4375 - val_mean_squared_error: 378245.3750\n",
      "Epoch 6/50\n",
      "3/3 [==============================] - 0s 26ms/step - loss: 322948.3438 - mean_squared_error: 322947.2812 - val_loss: 377945.6250 - val_mean_squared_error: 377944.5625\n",
      "Epoch 7/50\n",
      "3/3 [==============================] - 0s 23ms/step - loss: 322703.0000 - mean_squared_error: 322701.9375 - val_loss: 377594.0000 - val_mean_squared_error: 377592.9375\n",
      "Epoch 8/50\n",
      "3/3 [==============================] - 0s 24ms/step - loss: 322387.1875 - mean_squared_error: 322386.1562 - val_loss: 377175.5625 - val_mean_squared_error: 377174.5000\n",
      "Epoch 9/50\n",
      "3/3 [==============================] - 0s 23ms/step - loss: 322062.4688 - mean_squared_error: 322061.4062 - val_loss: 376675.5000 - val_mean_squared_error: 376674.4062\n",
      "Epoch 10/50\n",
      "3/3 [==============================] - 0s 22ms/step - loss: 321633.2188 - mean_squared_error: 321632.1250 - val_loss: 376090.7812 - val_mean_squared_error: 376089.6875\n",
      "Epoch 11/50\n",
      "3/3 [==============================] - 0s 23ms/step - loss: 321148.8750 - mean_squared_error: 321147.8125 - val_loss: 375376.9688 - val_mean_squared_error: 375375.8750\n",
      "Epoch 12/50\n",
      "3/3 [==============================] - 0s 25ms/step - loss: 320532.6562 - mean_squared_error: 320531.5625 - val_loss: 374537.2500 - val_mean_squared_error: 374536.1562\n",
      "Epoch 13/50\n",
      "3/3 [==============================] - 0s 24ms/step - loss: 319846.0000 - mean_squared_error: 319844.9062 - val_loss: 373529.5000 - val_mean_squared_error: 373528.4062\n",
      "Epoch 14/50\n",
      "3/3 [==============================] - 0s 25ms/step - loss: 318968.2812 - mean_squared_error: 318967.1875 - val_loss: 372370.0625 - val_mean_squared_error: 372368.9375\n",
      "Epoch 15/50\n",
      "3/3 [==============================] - 0s 29ms/step - loss: 317967.9688 - mean_squared_error: 317966.8438 - val_loss: 371037.3125 - val_mean_squared_error: 371036.1875\n",
      "Epoch 16/50\n",
      "3/3 [==============================] - 0s 27ms/step - loss: 316867.0625 - mean_squared_error: 316865.9688 - val_loss: 369480.5938 - val_mean_squared_error: 369479.4688\n",
      "Epoch 17/50\n",
      "3/3 [==============================] - 0s 24ms/step - loss: 315472.5938 - mean_squared_error: 315471.4688 - val_loss: 367725.4688 - val_mean_squared_error: 367724.3125\n",
      "Epoch 18/50\n",
      "3/3 [==============================] - 0s 23ms/step - loss: 314057.5312 - mean_squared_error: 314056.4062 - val_loss: 365657.7188 - val_mean_squared_error: 365656.5625\n",
      "Epoch 19/50\n",
      "3/3 [==============================] - 0s 23ms/step - loss: 312178.5938 - mean_squared_error: 312177.4688 - val_loss: 363323.3438 - val_mean_squared_error: 363322.1562\n",
      "Epoch 20/50\n",
      "3/3 [==============================] - 0s 23ms/step - loss: 310242.7188 - mean_squared_error: 310241.5312 - val_loss: 360642.8750 - val_mean_squared_error: 360641.6875\n",
      "Epoch 21/50\n",
      "3/3 [==============================] - 0s 24ms/step - loss: 307861.0000 - mean_squared_error: 307859.8125 - val_loss: 357578.3438 - val_mean_squared_error: 357577.1250\n",
      "Epoch 22/50\n",
      "3/3 [==============================] - 0s 23ms/step - loss: 305258.6250 - mean_squared_error: 305257.4062 - val_loss: 354094.6562 - val_mean_squared_error: 354093.4062\n",
      "Epoch 23/50\n",
      "3/3 [==============================] - 0s 24ms/step - loss: 302139.7188 - mean_squared_error: 302138.4688 - val_loss: 350174.3750 - val_mean_squared_error: 350173.1250\n",
      "Epoch 24/50\n",
      "3/3 [==============================] - 0s 24ms/step - loss: 298650.5938 - mean_squared_error: 298649.3125 - val_loss: 345767.3438 - val_mean_squared_error: 345766.0625\n",
      "Epoch 25/50\n",
      "3/3 [==============================] - 0s 23ms/step - loss: 294747.4062 - mean_squared_error: 294746.0625 - val_loss: 340758.8750 - val_mean_squared_error: 340757.5625\n",
      "Epoch 26/50\n",
      "3/3 [==============================] - 0s 23ms/step - loss: 290370.4688 - mean_squared_error: 290369.1250 - val_loss: 335180.7188 - val_mean_squared_error: 335179.3750\n",
      "Epoch 27/50\n",
      "3/3 [==============================] - 0s 23ms/step - loss: 285306.5312 - mean_squared_error: 285305.1562 - val_loss: 329036.4375 - val_mean_squared_error: 329035.0625\n",
      "Epoch 28/50\n",
      "3/3 [==============================] - 0s 23ms/step - loss: 279763.5000 - mean_squared_error: 279762.0625 - val_loss: 322246.6875 - val_mean_squared_error: 322245.2500\n",
      "Epoch 29/50\n",
      "3/3 [==============================] - 0s 22ms/step - loss: 273805.3750 - mean_squared_error: 273803.9375 - val_loss: 314621.7812 - val_mean_squared_error: 314620.3125\n",
      "Epoch 30/50\n",
      "3/3 [==============================] - 0s 26ms/step - loss: 266899.7812 - mean_squared_error: 266898.3125 - val_loss: 306296.6562 - val_mean_squared_error: 306295.1562\n",
      "Epoch 31/50\n",
      "3/3 [==============================] - 0s 23ms/step - loss: 259259.3906 - mean_squared_error: 259257.8594 - val_loss: 297216.0000 - val_mean_squared_error: 297214.4375\n",
      "Epoch 32/50\n",
      "3/3 [==============================] - 0s 25ms/step - loss: 251294.0625 - mean_squared_error: 251292.5000 - val_loss: 287279.1562 - val_mean_squared_error: 287277.5625\n",
      "Epoch 33/50\n",
      "3/3 [==============================] - 0s 39ms/step - loss: 242148.7031 - mean_squared_error: 242147.0781 - val_loss: 276644.3750 - val_mean_squared_error: 276642.7188\n",
      "Epoch 34/50\n",
      "3/3 [==============================] - 0s 28ms/step - loss: 232890.3281 - mean_squared_error: 232888.6719 - val_loss: 265034.5938 - val_mean_squared_error: 265032.9062\n",
      "Epoch 35/50\n",
      "3/3 [==============================] - 0s 30ms/step - loss: 222216.0469 - mean_squared_error: 222214.3281 - val_loss: 252708.6094 - val_mean_squared_error: 252706.8438\n",
      "Epoch 36/50\n",
      "3/3 [==============================] - 0s 28ms/step - loss: 211167.4062 - mean_squared_error: 211165.6406 - val_loss: 239529.3594 - val_mean_squared_error: 239527.5469\n",
      "Epoch 37/50\n",
      "3/3 [==============================] - 0s 24ms/step - loss: 198902.2188 - mean_squared_error: 198900.3594 - val_loss: 225916.5938 - val_mean_squared_error: 225914.7188\n",
      "Epoch 38/50\n",
      "3/3 [==============================] - 0s 23ms/step - loss: 186689.1719 - mean_squared_error: 186687.2656 - val_loss: 211705.3438 - val_mean_squared_error: 211703.4062\n",
      "Epoch 39/50\n",
      "3/3 [==============================] - 0s 23ms/step - loss: 173552.5938 - mean_squared_error: 173550.6406 - val_loss: 197012.6250 - val_mean_squared_error: 197010.6094\n",
      "Epoch 40/50\n",
      "3/3 [==============================] - 0s 22ms/step - loss: 160243.8906 - mean_squared_error: 160241.8438 - val_loss: 181924.6562 - val_mean_squared_error: 181922.5781\n",
      "Epoch 41/50\n",
      "3/3 [==============================] - 0s 22ms/step - loss: 146752.0000 - mean_squared_error: 146749.8906 - val_loss: 166575.7656 - val_mean_squared_error: 166573.6250\n",
      "Epoch 42/50\n",
      "3/3 [==============================] - 0s 21ms/step - loss: 133452.4375 - mean_squared_error: 133450.2500 - val_loss: 151040.5625 - val_mean_squared_error: 151038.3438\n",
      "Epoch 43/50\n",
      "3/3 [==============================] - 0s 25ms/step - loss: 119486.4609 - mean_squared_error: 119484.2188 - val_loss: 135618.6719 - val_mean_squared_error: 135616.3750\n",
      "Epoch 44/50\n",
      "3/3 [==============================] - 0s 24ms/step - loss: 106458.9688 - mean_squared_error: 106456.6484 - val_loss: 120586.9922 - val_mean_squared_error: 120584.6250\n",
      "Epoch 45/50\n",
      "3/3 [==============================] - 0s 23ms/step - loss: 92892.1719 - mean_squared_error: 92889.7812 - val_loss: 106210.7109 - val_mean_squared_error: 106208.2656\n",
      "Epoch 46/50\n",
      "3/3 [==============================] - 0s 22ms/step - loss: 80797.0547 - mean_squared_error: 80794.5859 - val_loss: 92742.3516 - val_mean_squared_error: 92739.8281\n",
      "Epoch 47/50\n",
      "3/3 [==============================] - 0s 24ms/step - loss: 69338.8672 - mean_squared_error: 69336.3203 - val_loss: 80414.7812 - val_mean_squared_error: 80412.1875\n",
      "Epoch 48/50\n",
      "3/3 [==============================] - 0s 24ms/step - loss: 59612.4180 - mean_squared_error: 59609.7969 - val_loss: 69205.6875 - val_mean_squared_error: 69203.0156\n",
      "Epoch 49/50\n",
      "3/3 [==============================] - 0s 34ms/step - loss: 50999.9453 - mean_squared_error: 50997.2461 - val_loss: 59411.5859 - val_mean_squared_error: 59408.8438\n",
      "Epoch 50/50\n",
      "3/3 [==============================] - 0s 22ms/step - loss: 43225.3711 - mean_squared_error: 43222.6055 - val_loss: 51268.0859 - val_mean_squared_error: 51265.2773\n"
     ]
    }
   ],
   "source": [
    "history = model.fit(X_train_scl, y_train, batch_size=10, epochs=50, verbose=1, validation_split=0.2)"
   ]
  },
  {
   "cell_type": "code",
   "execution_count": 64,
   "id": "524bbeb4-3cd7-43dc-9eac-e530dfdc5f35",
   "metadata": {},
   "outputs": [
    {
     "name": "stdout",
     "output_type": "stream",
     "text": [
      "{'loss': [323932.125, 323738.90625, 323569.34375, 323376.0625, 323165.40625, 322948.34375, 322703.0, 322387.1875, 322062.46875, 321633.21875, 321148.875, 320532.65625, 319846.0, 318968.28125, 317967.96875, 316867.0625, 315472.59375, 314057.53125, 312178.59375, 310242.71875, 307861.0, 305258.625, 302139.71875, 298650.59375, 294747.40625, 290370.46875, 285306.53125, 279763.5, 273805.375, 266899.78125, 259259.390625, 251294.0625, 242148.703125, 232890.328125, 222216.046875, 211167.40625, 198902.21875, 186689.171875, 173552.59375, 160243.890625, 146752.0, 133452.4375, 119486.4609375, 106458.96875, 92892.171875, 80797.0546875, 69338.8671875, 59612.41796875, 50999.9453125, 43225.37109375], 'mean_squared_error': [323931.0, 323737.8125, 323568.28125, 323375.03125, 323164.34375, 322947.28125, 322701.9375, 322386.15625, 322061.40625, 321632.125, 321147.8125, 320531.5625, 319844.90625, 318967.1875, 317966.84375, 316865.96875, 315471.46875, 314056.40625, 312177.46875, 310241.53125, 307859.8125, 305257.40625, 302138.46875, 298649.3125, 294746.0625, 290369.125, 285305.15625, 279762.0625, 273803.9375, 266898.3125, 259257.859375, 251292.5, 242147.078125, 232888.671875, 222214.328125, 211165.640625, 198900.359375, 186687.265625, 173550.640625, 160241.84375, 146749.890625, 133450.25, 119484.21875, 106456.6484375, 92889.78125, 80794.5859375, 69336.3203125, 59609.796875, 50997.24609375, 43222.60546875], 'val_loss': [379202.21875, 378988.8125, 378749.25, 378511.5, 378246.4375, 377945.625, 377594.0, 377175.5625, 376675.5, 376090.78125, 375376.96875, 374537.25, 373529.5, 372370.0625, 371037.3125, 369480.59375, 367725.46875, 365657.71875, 363323.34375, 360642.875, 357578.34375, 354094.65625, 350174.375, 345767.34375, 340758.875, 335180.71875, 329036.4375, 322246.6875, 314621.78125, 306296.65625, 297216.0, 287279.15625, 276644.375, 265034.59375, 252708.609375, 239529.359375, 225916.59375, 211705.34375, 197012.625, 181924.65625, 166575.765625, 151040.5625, 135618.671875, 120586.9921875, 106210.7109375, 92742.3515625, 80414.78125, 69205.6875, 59411.5859375, 51268.0859375], 'val_mean_squared_error': [379201.125, 378987.75, 378748.1875, 378510.4375, 378245.375, 377944.5625, 377592.9375, 377174.5, 376674.40625, 376089.6875, 375375.875, 374536.15625, 373528.40625, 372368.9375, 371036.1875, 369479.46875, 367724.3125, 365656.5625, 363322.15625, 360641.6875, 357577.125, 354093.40625, 350173.125, 345766.0625, 340757.5625, 335179.375, 329035.0625, 322245.25, 314620.3125, 306295.15625, 297214.4375, 287277.5625, 276642.71875, 265032.90625, 252706.84375, 239527.546875, 225914.71875, 211703.40625, 197010.609375, 181922.578125, 166573.625, 151038.34375, 135616.375, 120584.625, 106208.265625, 92739.828125, 80412.1875, 69203.015625, 59408.84375, 51265.27734375]}\n"
     ]
    }
   ],
   "source": [
    "print(history.history)"
   ]
  },
  {
   "cell_type": "code",
   "execution_count": 66,
   "id": "61d586b6-763b-49d3-9836-d7b4eb58361f",
   "metadata": {},
   "outputs": [
    {
     "data": {
      "image/png": "[encoded data removed]",
      "text/plain": [
       "<Figure size 640x480 with 1 Axes>"
      ]
     },
     "metadata": {},
     "output_type": "display_data"
    },
    {
     "data": {
      "text/plain": [
       "(<matplotlib.legend.Legend at 0x26ecc140190>, None)"
      ]
     },
     "execution_count": 66,
     "metadata": {},
     "output_type": "execute_result"
    }
   ],
   "source": [
    "plt.plot(history.history['loss'], label='loss')\n",
    "plt.plot(history.history['val_loss'], label='val_loss')\n",
    "plt.legend(), plt.show()"
   ]
  },
  {
   "cell_type": "code",
   "execution_count": 69,
   "id": "c9bbb721-8327-4ac1-99ce-4edd2f61a280",
   "metadata": {},
   "outputs": [
    {
     "name": "stdout",
     "output_type": "stream",
     "text": [
      "2/2 [==============================] - 0s 92ms/step\n",
      "1/1 [==============================] - 0s 20ms/step\n",
      "\n",
      "\n",
      "Root mean square error of train data: 203.5338720610205\n",
      "Root mean square error of test data: 247.8067201566109\n",
      "\n",
      "\n",
      "\n",
      "R2 Score of train data: -1.9122838973999023\n",
      "R2 Score of test data: -19.506031036376953\n"
     ]
    }
   ],
   "source": [
    "# Let's calculate the RMSE of this regression problem:\n",
    "\n",
    "from sklearn.metrics import root_mean_squared_error as rmse, r2_score\n",
    "\n",
    "y_train_pred = model.predict(X_train_scl)\n",
    "\n",
    "y_test_pred = model.predict(X_test_scl)\n",
    "\n",
    "print(f'\\n\\nRoot mean square error of train data: {rmse(y_train, y_train_pred)}')\n",
    "print(f'Root mean square error of test data: {rmse(y_test, y_test_pred)}')\n",
    "\n",
    "print('\\n\\n')\n",
    "\n",
    "print(f'R2 Score of train data: {r2_score(y_train, y_train_pred)}')\n",
    "print(f'R2 Score of test data: {r2_score(y_test, y_test_pred)}')"
   ]
  },
  {
   "cell_type": "code",
   "execution_count": 70,
   "id": "b4f35868-4b25-4182-be65-b306898d5d40",
   "metadata": {},
   "outputs": [
    {
     "data": {
      "text/plain": [
       "(48, 5)"
      ]
     },
     "execution_count": 70,
     "metadata": {},
     "output_type": "execute_result"
    }
   ],
   "source": [
    "petrol_cons.shape"
   ]
  },
  {
   "cell_type": "markdown",
   "id": "2cdea762-640a-436a-a1c6-c3fb49b58dda",
   "metadata": {},
   "source": [
    "## Boston House"
   ]
  },
  {
   "cell_type": "code",
   "execution_count": 71,
   "id": "92fd7c1d-1de6-4a8b-80a2-32856d32194e",
   "metadata": {},
   "outputs": [
    {
     "data": {
      "text/html": [
       "<div>\n",
       "<style scoped>\n",
       "    .dataframe tbody tr th:only-of-type {\n",
       "        vertical-align: middle;\n",
       "    }\n",
       "\n",
       "    .dataframe tbody tr th {\n",
       "        vertical-align: top;\n",
       "    }\n",
       "\n",
       "    .dataframe thead th {\n",
       "        text-align: right;\n",
       "    }\n",
       "</style>\n",
       "<table border=\"1\" class=\"dataframe\">\n",
       "  <thead>\n",
       "    <tr style=\"text-align: right;\">\n",
       "      <th></th>\n",
       "      <th>CRIM</th>\n",
       "      <th>ZN</th>\n",
       "      <th>INDUS</th>\n",
       "      <th>CHAS</th>\n",
       "      <th>NOX</th>\n",
       "      <th>RM</th>\n",
       "      <th>AGE</th>\n",
       "      <th>DIS</th>\n",
       "      <th>RAD</th>\n",
       "      <th>TAX</th>\n",
       "      <th>PTRATIO</th>\n",
       "      <th>B</th>\n",
       "      <th>LSTAT</th>\n",
       "      <th>MEDV</th>\n",
       "    </tr>\n",
       "  </thead>\n",
       "  <tbody>\n",
       "    <tr>\n",
       "      <th>0</th>\n",
       "      <td>0.00632</td>\n",
       "      <td>18.0</td>\n",
       "      <td>2.31</td>\n",
       "      <td>0.0</td>\n",
       "      <td>0.538</td>\n",
       "      <td>6.575</td>\n",
       "      <td>65.2</td>\n",
       "      <td>4.0900</td>\n",
       "      <td>1</td>\n",
       "      <td>296</td>\n",
       "      <td>15.3</td>\n",
       "      <td>396.90</td>\n",
       "      <td>4.98</td>\n",
       "      <td>24.0</td>\n",
       "    </tr>\n",
       "    <tr>\n",
       "      <th>1</th>\n",
       "      <td>0.02731</td>\n",
       "      <td>0.0</td>\n",
       "      <td>7.07</td>\n",
       "      <td>0.0</td>\n",
       "      <td>0.469</td>\n",
       "      <td>6.421</td>\n",
       "      <td>78.9</td>\n",
       "      <td>4.9671</td>\n",
       "      <td>2</td>\n",
       "      <td>242</td>\n",
       "      <td>17.8</td>\n",
       "      <td>396.90</td>\n",
       "      <td>9.14</td>\n",
       "      <td>21.6</td>\n",
       "    </tr>\n",
       "    <tr>\n",
       "      <th>2</th>\n",
       "      <td>0.02729</td>\n",
       "      <td>0.0</td>\n",
       "      <td>7.07</td>\n",
       "      <td>0.0</td>\n",
       "      <td>0.469</td>\n",
       "      <td>7.185</td>\n",
       "      <td>61.1</td>\n",
       "      <td>4.9671</td>\n",
       "      <td>2</td>\n",
       "      <td>242</td>\n",
       "      <td>17.8</td>\n",
       "      <td>392.83</td>\n",
       "      <td>4.03</td>\n",
       "      <td>34.7</td>\n",
       "    </tr>\n",
       "    <tr>\n",
       "      <th>3</th>\n",
       "      <td>0.03237</td>\n",
       "      <td>0.0</td>\n",
       "      <td>2.18</td>\n",
       "      <td>0.0</td>\n",
       "      <td>0.458</td>\n",
       "      <td>6.998</td>\n",
       "      <td>45.8</td>\n",
       "      <td>6.0622</td>\n",
       "      <td>3</td>\n",
       "      <td>222</td>\n",
       "      <td>18.7</td>\n",
       "      <td>394.63</td>\n",
       "      <td>2.94</td>\n",
       "      <td>33.4</td>\n",
       "    </tr>\n",
       "    <tr>\n",
       "      <th>4</th>\n",
       "      <td>0.06905</td>\n",
       "      <td>0.0</td>\n",
       "      <td>2.18</td>\n",
       "      <td>0.0</td>\n",
       "      <td>0.458</td>\n",
       "      <td>7.147</td>\n",
       "      <td>54.2</td>\n",
       "      <td>6.0622</td>\n",
       "      <td>3</td>\n",
       "      <td>222</td>\n",
       "      <td>18.7</td>\n",
       "      <td>396.90</td>\n",
       "      <td>NaN</td>\n",
       "      <td>36.2</td>\n",
       "    </tr>\n",
       "  </tbody>\n",
       "</table>\n",
       "</div>"
      ],
      "text/plain": [
       "      CRIM    ZN  INDUS  CHAS    NOX     RM   AGE     DIS  RAD  TAX  PTRATIO  \\\n",
       "0  0.00632  18.0   2.31   0.0  0.538  6.575  65.2  4.0900    1  296     15.3   \n",
       "1  0.02731   0.0   7.07   0.0  0.469  6.421  78.9  4.9671    2  242     17.8   \n",
       "2  0.02729   0.0   7.07   0.0  0.469  7.185  61.1  4.9671    2  242     17.8   \n",
       "3  0.03237   0.0   2.18   0.0  0.458  6.998  45.8  6.0622    3  222     18.7   \n",
       "4  0.06905   0.0   2.18   0.0  0.458  7.147  54.2  6.0622    3  222     18.7   \n",
       "\n",
       "        B  LSTAT  MEDV  \n",
       "0  396.90   4.98  24.0  \n",
       "1  396.90   9.14  21.6  \n",
       "2  392.83   4.03  34.7  \n",
       "3  394.63   2.94  33.4  \n",
       "4  396.90    NaN  36.2  "
      ]
     },
     "execution_count": 71,
     "metadata": {},
     "output_type": "execute_result"
    }
   ],
   "source": [
    "bos_hs = pd.read_csv('datasets/HousingData.csv')\n",
    "\n",
    "bos_hs.head()"
   ]
  },
  {
   "cell_type": "code",
   "execution_count": 72,
   "id": "07ba79d6-df6d-4daa-9eee-01049426b220",
   "metadata": {},
   "outputs": [
    {
     "data": {
      "text/plain": [
       "(506, 14)"
      ]
     },
     "execution_count": 72,
     "metadata": {},
     "output_type": "execute_result"
    }
   ],
   "source": [
    "bos_hs.shape"
   ]
  },
  {
   "cell_type": "code",
   "execution_count": 74,
   "id": "e50d63e8-352a-4d66-ad4f-7c8bfb53f10b",
   "metadata": {},
   "outputs": [
    {
     "name": "stdout",
     "output_type": "stream",
     "text": [
      "(506, 13) (506,)\n"
     ]
    }
   ],
   "source": [
    "X = bos_hs.iloc[:, :13].values\n",
    "y = bos_hs.iloc[:, 13].values\n",
    "\n",
    "print(X.shape, y.shape)\n",
    "\n",
    "from sklearn.preprocessing import RobustScaler\n",
    "\n",
    "rs = RobustScaler()\n",
    "\n",
    "X_scl = rs.fit_transform(X)\n",
    "\n",
    "X_train, X_test, y_train, y_test = train_test_split(X_scl, y, test_size=0.2, random_state=17)"
   ]
  },
  {
   "cell_type": "code",
   "execution_count": 75,
   "id": "15af3fed-c981-47ac-a7bc-7d4ff86d9bf0",
   "metadata": {},
   "outputs": [
    {
     "data": {
      "text/plain": [
       "(102, 13)"
      ]
     },
     "execution_count": 75,
     "metadata": {},
     "output_type": "execute_result"
    }
   ],
   "source": [
    "X_test.shape"
   ]
  },
  {
   "cell_type": "code",
   "execution_count": 76,
   "id": "3362971e-46b8-40d0-b3f5-a2ec90607641",
   "metadata": {},
   "outputs": [
    {
     "data": {
      "text/plain": [
       "(404, 13)"
      ]
     },
     "execution_count": 76,
     "metadata": {},
     "output_type": "execute_result"
    }
   ],
   "source": [
    "X_train.shape"
   ]
  },
  {
   "cell_type": "code",
   "execution_count": 77,
   "id": "5877fe1e-e294-4dad-a47c-0fb2b2f6684e",
   "metadata": {},
   "outputs": [
    {
     "data": {
      "text/plain": [
       "array([[            nan,  3.60000000e+00, -4.84120837e-01, ...,\n",
       "        -1.37500000e+00, -8.29835712e-02, -6.85656155e-01],\n",
       "       [-6.97900233e-02,  4.40000000e+00, -5.76297444e-01, ...,\n",
       "        -1.33928571e+00,  1.57333014e-01, -3.25534079e-01],\n",
       "       [ 9.88797171e-01,  0.00000000e+00,  6.51432998e-01, ...,\n",
       "         4.10714286e-01, -4.79673822e-04,  3.27568667e-01],\n",
       "       ...,\n",
       "       [-6.04724206e-02,  1.68000000e+00,             nan, ...,\n",
       "        -8.03571429e-01,  1.21357477e-01, -2.03458800e-01],\n",
       "       [-3.39743198e-02,  1.00000000e+00, -2.80402789e-01, ...,\n",
       "        -5.35714286e-02,  2.61901907e-01,  1.68870804e-01],\n",
       "       [            nan,  4.20000000e+00, -3.38497289e-01, ...,\n",
       "        -8.75000000e-01,  2.61901907e-01, -3.89623601e-01]])"
      ]
     },
     "execution_count": 77,
     "metadata": {},
     "output_type": "execute_result"
    }
   ],
   "source": [
    "X_test"
   ]
  },
  {
   "cell_type": "markdown",
   "id": "28a00e04-117e-4f14-8b88-59af95bf1671",
   "metadata": {},
   "source": [
    "## Let's design the architect now"
   ]
  },
  {
   "cell_type": "code",
   "execution_count": 89,
   "id": "22139581-ef88-4f12-b32b-cee5ab05c750",
   "metadata": {},
   "outputs": [
    {
     "name": "stdout",
     "output_type": "stream",
     "text": [
      "Model: \"sequential_6\"\n",
      "_________________________________________________________________\n",
      " Layer (type)                Output Shape              Param #   \n",
      "=================================================================\n",
      " dense_30 (Dense)            (None, 40)                560       \n",
      "                                                                 \n",
      " dense_31 (Dense)            (None, 20)                820       \n",
      "                                                                 \n",
      " dropout_3 (Dropout)         (None, 20)                0         \n",
      "                                                                 \n",
      " dense_32 (Dense)            (None, 10)                210       \n",
      "                                                                 \n",
      " dense_33 (Dense)            (None, 5)                 55        \n",
      "                                                                 \n",
      " dense_34 (Dense)            (None, 1)                 6         \n",
      "                                                                 \n",
      "=================================================================\n",
      "Total params: 1,651\n",
      "Trainable params: 1,651\n",
      "Non-trainable params: 0\n",
      "_________________________________________________________________\n"
     ]
    }
   ],
   "source": [
    "model = Sequential()\n",
    "model.add(Dense(40, input_dim=13, activation='tanh', kernel_regularizer='L2'))\n",
    "model.add(Dense(20, activation='relu', kernel_regularizer='L2'))\n",
    "model.add(Dropout(0.25))\n",
    "model.add(Dense(10, activation='tanh', kernel_regularizer='L2'))\n",
    "model.add(Dense(5, activation='relu'))\n",
    "model.add(Dense(1))\n",
    "\n",
    "model.compile(loss='mean_squared_error', optimizer='adam', metrics=['R2Score'])\n",
    "model.summary()"
   ]
  },
  {
   "cell_type": "code",
   "execution_count": 90,
   "id": "729cdf4c-5343-408c-b50c-1390d1ed9a46",
   "metadata": {},
   "outputs": [
    {
     "name": "stdout",
     "output_type": "stream",
     "text": [
      "Epoch 1/200\n"
     ]
    },
    {
     "ename": "ValueError",
     "evalue": "in user code:\n\n    File \"C:\\ProgramData\\anaconda3\\envs\\Deep_Learning\\lib\\site-packages\\keras\\engine\\training.py\", line 1160, in train_function  *\n        return step_function(self, iterator)\n    File \"C:\\ProgramData\\anaconda3\\envs\\Deep_Learning\\lib\\site-packages\\keras\\engine\\training.py\", line 1146, in step_function  **\n        outputs = model.distribute_strategy.run(run_step, args=(data,))\n    File \"C:\\ProgramData\\anaconda3\\envs\\Deep_Learning\\lib\\site-packages\\keras\\engine\\training.py\", line 1135, in run_step  **\n        outputs = model.train_step(data)\n    File \"C:\\ProgramData\\anaconda3\\envs\\Deep_Learning\\lib\\site-packages\\keras\\engine\\training.py\", line 998, in train_step\n        return self.compute_metrics(x, y, y_pred, sample_weight)\n    File \"C:\\ProgramData\\anaconda3\\envs\\Deep_Learning\\lib\\site-packages\\keras\\engine\\training.py\", line 1092, in compute_metrics\n        self.compiled_metrics.update_state(y, y_pred, sample_weight)\n    File \"C:\\ProgramData\\anaconda3\\envs\\Deep_Learning\\lib\\site-packages\\keras\\engine\\compile_utils.py\", line 577, in update_state\n        self.build(y_pred, y_true)\n    File \"C:\\ProgramData\\anaconda3\\envs\\Deep_Learning\\lib\\site-packages\\keras\\engine\\compile_utils.py\", line 483, in build\n        self._metrics = tf.__internal__.nest.map_structure_up_to(\n    File \"C:\\ProgramData\\anaconda3\\envs\\Deep_Learning\\lib\\site-packages\\keras\\engine\\compile_utils.py\", line 631, in _get_metric_objects\n        return [self._get_metric_object(m, y_t, y_p) for m in metrics]\n    File \"C:\\ProgramData\\anaconda3\\envs\\Deep_Learning\\lib\\site-packages\\keras\\engine\\compile_utils.py\", line 631, in <listcomp>\n        return [self._get_metric_object(m, y_t, y_p) for m in metrics]\n    File \"C:\\ProgramData\\anaconda3\\envs\\Deep_Learning\\lib\\site-packages\\keras\\engine\\compile_utils.py\", line 650, in _get_metric_object\n        metric_obj = metrics_mod.get(metric)\n    File \"C:\\ProgramData\\anaconda3\\envs\\Deep_Learning\\lib\\site-packages\\keras\\metrics\\__init__.py\", line 181, in get\n        return deserialize(str(identifier))\n    File \"C:\\ProgramData\\anaconda3\\envs\\Deep_Learning\\lib\\site-packages\\keras\\metrics\\__init__.py\", line 136, in deserialize\n        return deserialize_keras_object(\n    File \"C:\\ProgramData\\anaconda3\\envs\\Deep_Learning\\lib\\site-packages\\keras\\utils\\generic_utils.py\", line 769, in deserialize_keras_object\n        raise ValueError(\n\n    ValueError: Unknown metric function: R2Score. Please ensure this object is passed to the `custom_objects` argument. See https://www.tensorflow.org/guide/keras/save_and_serialize#registering_the_custom_object for details.\n",
     "output_type": "error",
     "traceback": [
      "\u001b[1;31m---------------------------------------------------------------------------\u001b[0m",
      "\u001b[1;31mValueError\u001b[0m                                Traceback (most recent call last)",
      "Cell \u001b[1;32mIn[90], line 1\u001b[0m\n\u001b[1;32m----> 1\u001b[0m history \u001b[38;5;241m=\u001b[39m \u001b[43mmodel\u001b[49m\u001b[38;5;241;43m.\u001b[39;49m\u001b[43mfit\u001b[49m\u001b[43m(\u001b[49m\u001b[43mX_train\u001b[49m\u001b[43m,\u001b[49m\u001b[43m \u001b[49m\u001b[43my_train\u001b[49m\u001b[43m,\u001b[49m\u001b[43m \u001b[49m\u001b[43mvalidation_split\u001b[49m\u001b[38;5;241;43m=\u001b[39;49m\u001b[38;5;241;43m0.2\u001b[39;49m\u001b[43m,\u001b[49m\u001b[43m \u001b[49m\u001b[43mepochs\u001b[49m\u001b[38;5;241;43m=\u001b[39;49m\u001b[38;5;241;43m200\u001b[39;49m\u001b[43m,\u001b[49m\u001b[43m \u001b[49m\u001b[43mbatch_size\u001b[49m\u001b[38;5;241;43m=\u001b[39;49m\u001b[38;5;241;43m32\u001b[39;49m\u001b[43m,\u001b[49m\u001b[43m \u001b[49m\u001b[43mverbose\u001b[49m\u001b[38;5;241;43m=\u001b[39;49m\u001b[38;5;241;43m1\u001b[39;49m\u001b[43m)\u001b[49m\n\u001b[0;32m      3\u001b[0m scores \u001b[38;5;241m=\u001b[39m model\u001b[38;5;241m.\u001b[39mevaluate(X_train, y_train, batch_size\u001b[38;5;241m=\u001b[39m\u001b[38;5;241m32\u001b[39m)\n\u001b[0;32m      4\u001b[0m \u001b[38;5;28mprint\u001b[39m(scores)\n",
      "File \u001b[1;32mC:\\ProgramData\\anaconda3\\envs\\Deep_Learning\\lib\\site-packages\\keras\\utils\\traceback_utils.py:70\u001b[0m, in \u001b[0;36mfilter_traceback.<locals>.error_handler\u001b[1;34m(*args, **kwargs)\u001b[0m\n\u001b[0;32m     67\u001b[0m     filtered_tb \u001b[38;5;241m=\u001b[39m _process_traceback_frames(e\u001b[38;5;241m.\u001b[39m__traceback__)\n\u001b[0;32m     68\u001b[0m     \u001b[38;5;66;03m# To get the full stack trace, call:\u001b[39;00m\n\u001b[0;32m     69\u001b[0m     \u001b[38;5;66;03m# `tf.debugging.disable_traceback_filtering()`\u001b[39;00m\n\u001b[1;32m---> 70\u001b[0m     \u001b[38;5;28;01mraise\u001b[39;00m e\u001b[38;5;241m.\u001b[39mwith_traceback(filtered_tb) \u001b[38;5;28;01mfrom\u001b[39;00m \u001b[38;5;28;01mNone\u001b[39;00m\n\u001b[0;32m     71\u001b[0m \u001b[38;5;28;01mfinally\u001b[39;00m:\n\u001b[0;32m     72\u001b[0m     \u001b[38;5;28;01mdel\u001b[39;00m filtered_tb\n",
      "File \u001b[1;32m~\\AppData\\Local\\Temp\\__autograph_generated_filehe4tupfo.py:15\u001b[0m, in \u001b[0;36mouter_factory.<locals>.inner_factory.<locals>.tf__train_function\u001b[1;34m(iterator)\u001b[0m\n\u001b[0;32m     13\u001b[0m \u001b[38;5;28;01mtry\u001b[39;00m:\n\u001b[0;32m     14\u001b[0m     do_return \u001b[38;5;241m=\u001b[39m \u001b[38;5;28;01mTrue\u001b[39;00m\n\u001b[1;32m---> 15\u001b[0m     retval_ \u001b[38;5;241m=\u001b[39m ag__\u001b[38;5;241m.\u001b[39mconverted_call(ag__\u001b[38;5;241m.\u001b[39mld(step_function), (ag__\u001b[38;5;241m.\u001b[39mld(\u001b[38;5;28mself\u001b[39m), ag__\u001b[38;5;241m.\u001b[39mld(iterator)), \u001b[38;5;28;01mNone\u001b[39;00m, fscope)\n\u001b[0;32m     16\u001b[0m \u001b[38;5;28;01mexcept\u001b[39;00m:\n\u001b[0;32m     17\u001b[0m     do_return \u001b[38;5;241m=\u001b[39m \u001b[38;5;28;01mFalse\u001b[39;00m\n",
      "\u001b[1;31mValueError\u001b[0m: in user code:\n\n    File \"C:\\ProgramData\\anaconda3\\envs\\Deep_Learning\\lib\\site-packages\\keras\\engine\\training.py\", line 1160, in train_function  *\n        return step_function(self, iterator)\n    File \"C:\\ProgramData\\anaconda3\\envs\\Deep_Learning\\lib\\site-packages\\keras\\engine\\training.py\", line 1146, in step_function  **\n        outputs = model.distribute_strategy.run(run_step, args=(data,))\n    File \"C:\\ProgramData\\anaconda3\\envs\\Deep_Learning\\lib\\site-packages\\keras\\engine\\training.py\", line 1135, in run_step  **\n        outputs = model.train_step(data)\n    File \"C:\\ProgramData\\anaconda3\\envs\\Deep_Learning\\lib\\site-packages\\keras\\engine\\training.py\", line 998, in train_step\n        return self.compute_metrics(x, y, y_pred, sample_weight)\n    File \"C:\\ProgramData\\anaconda3\\envs\\Deep_Learning\\lib\\site-packages\\keras\\engine\\training.py\", line 1092, in compute_metrics\n        self.compiled_metrics.update_state(y, y_pred, sample_weight)\n    File \"C:\\ProgramData\\anaconda3\\envs\\Deep_Learning\\lib\\site-packages\\keras\\engine\\compile_utils.py\", line 577, in update_state\n        self.build(y_pred, y_true)\n    File \"C:\\ProgramData\\anaconda3\\envs\\Deep_Learning\\lib\\site-packages\\keras\\engine\\compile_utils.py\", line 483, in build\n        self._metrics = tf.__internal__.nest.map_structure_up_to(\n    File \"C:\\ProgramData\\anaconda3\\envs\\Deep_Learning\\lib\\site-packages\\keras\\engine\\compile_utils.py\", line 631, in _get_metric_objects\n        return [self._get_metric_object(m, y_t, y_p) for m in metrics]\n    File \"C:\\ProgramData\\anaconda3\\envs\\Deep_Learning\\lib\\site-packages\\keras\\engine\\compile_utils.py\", line 631, in <listcomp>\n        return [self._get_metric_object(m, y_t, y_p) for m in metrics]\n    File \"C:\\ProgramData\\anaconda3\\envs\\Deep_Learning\\lib\\site-packages\\keras\\engine\\compile_utils.py\", line 650, in _get_metric_object\n        metric_obj = metrics_mod.get(metric)\n    File \"C:\\ProgramData\\anaconda3\\envs\\Deep_Learning\\lib\\site-packages\\keras\\metrics\\__init__.py\", line 181, in get\n        return deserialize(str(identifier))\n    File \"C:\\ProgramData\\anaconda3\\envs\\Deep_Learning\\lib\\site-packages\\keras\\metrics\\__init__.py\", line 136, in deserialize\n        return deserialize_keras_object(\n    File \"C:\\ProgramData\\anaconda3\\envs\\Deep_Learning\\lib\\site-packages\\keras\\utils\\generic_utils.py\", line 769, in deserialize_keras_object\n        raise ValueError(\n\n    ValueError: Unknown metric function: R2Score. Please ensure this object is passed to the `custom_objects` argument. See https://www.tensorflow.org/guide/keras/save_and_serialize#registering_the_custom_object for details.\n"
     ]
    }
   ],
   "source": [
    "history = model.fit(X_train, y_train, validation_split=0.2, epochs=200, batch_size=32, verbose=1)\n",
    "\n",
    "scores = model.evaluate(X_train, y_train, batch_size=32)\n",
    "print(scores)\n",
    "\n",
    "scores = model.evaluate(X_test, y_test, batch_size32)\n",
    "print(scores)"
   ]
  },
  {
   "cell_type": "code",
   "execution_count": 93,
   "id": "5ec3d1fe-6363-4496-be7b-4994a7e0a1fd",
   "metadata": {},
   "outputs": [
    {
     "data": {
      "text/plain": [
       "'2.10.1'"
      ]
     },
     "execution_count": 93,
     "metadata": {},
     "output_type": "execute_result"
    }
   ],
   "source": [
    "tf.__version__"
   ]
  },
  {
   "cell_type": "code",
   "execution_count": null,
   "id": "2cc2f166-f431-48df-9b7e-c905c7183a72",
   "metadata": {},
   "outputs": [],
   "source": [
    "print('Changes have been done to the file')"
   ]
  }
 ],
 "metadata": {
  "kernelspec": {
   "display_name": "Python 3 (ipykernel)",
   "language": "python",
   "name": "python3"
  },
  "language_info": {
   "codemirror_mode": {
    "name": "ipython",
    "version": 3
   },
   "file_extension": ".py",
   "mimetype": "text/x-python",
   "name": "python",
   "nbconvert_exporter": "python",
   "pygments_lexer": "ipython3",
   "version": "3.9.19"
  }
 },
 "nbformat": 4,
 "nbformat_minor": 5
}
