{
 "cells": [
  {
   "cell_type": "code",
   "execution_count": 10,
   "id": "08aec9e2-7345-4726-b8f2-579d021ebdca",
   "metadata": {},
   "outputs": [
    {
     "data": {
      "text/plain": [
       "'0o21'"
      ]
     },
     "execution_count": 10,
     "metadata": {},
     "output_type": "execute_result"
    }
   ],
   "source": [
    "oct(17)"
   ]
  },
  {
   "cell_type": "code",
   "execution_count": 14,
   "id": "e08d5e13-3a9d-4efa-bc2d-8ecd247e46bf",
   "metadata": {},
   "outputs": [
    {
     "data": {
      "text/plain": [
       "'0x10'"
      ]
     },
     "execution_count": 14,
     "metadata": {},
     "output_type": "execute_result"
    }
   ],
   "source": [
    "hex(16)"
   ]
  },
  {
   "cell_type": "code",
   "execution_count": 3,
   "id": "e380f9b7-1cb4-4b04-8250-a5b3f92f84f2",
   "metadata": {},
   "outputs": [
    {
     "data": {
      "text/plain": [
       "'0b10001'"
      ]
     },
     "execution_count": 3,
     "metadata": {},
     "output_type": "execute_result"
    }
   ],
   "source": [
    "bin(17)"
   ]
  },
  {
   "cell_type": "code",
   "execution_count": 4,
   "id": "4281748d-38ca-433b-a1dc-e4bda3a63f66",
   "metadata": {},
   "outputs": [
    {
     "data": {
      "text/plain": [
       "17.0"
      ]
     },
     "execution_count": 4,
     "metadata": {},
     "output_type": "execute_result"
    }
   ],
   "source": [
    "float(17)"
   ]
  },
  {
   "cell_type": "code",
   "execution_count": 2,
   "id": "17d46203-6e97-4295-bef4-d80f02706992",
   "metadata": {},
   "outputs": [],
   "source": [
    "number = 17"
   ]
  },
  {
   "cell_type": "code",
   "execution_count": 15,
   "id": "db8b56b4-4ebb-40e3-87f6-0bcfbf6f4cf5",
   "metadata": {},
   "outputs": [
    {
     "name": "stdout",
     "output_type": "stream",
     "text": [
      "1 1 1 1\n",
      "2 2 2 10\n",
      "3 3 3 11\n",
      "4 4 4 100\n",
      "5 5 5 101\n",
      "6 6 6 110\n",
      "7 7 7 111\n",
      "8 10 8 1000\n",
      "9 11 9 1001\n",
      "10 12 A 1010\n",
      "11 13 B 1011\n",
      "12 14 C 1100\n",
      "13 15 D 1101\n",
      "14 16 E 1110\n",
      "15 17 F 1111\n",
      "16 20 10 10000\n",
      "17 21 11 10001\n"
     ]
    }
   ],
   "source": [
    "for i in range(1, number+1):\n",
    "    decimal = str(i)\n",
    "    octal = re.search(r'0o(\\d+)', oct(i)).group(1)\n",
    "    hexa = re.search(r'0x([0-9a-zA-Z]+)', hex(i)).group(1).upper()\n",
    "    binary = re.search(r'0b(\\d+)', bin(i)).group(1)\n",
    "        \n",
    "    print(decimal, octal, hexa, binary)"
   ]
  },
  {
   "cell_type": "code",
   "execution_count": 1,
   "id": "d41a4978-eddf-45a6-9daa-3cf8e0d8035a",
   "metadata": {},
   "outputs": [],
   "source": [
    "import re"
   ]
  },
  {
   "cell_type": "code",
   "execution_count": 23,
   "id": "e73d84f0-eb47-4b7f-b330-c356b071b358",
   "metadata": {},
   "outputs": [
    {
     "data": {
      "text/plain": [
       "'17'"
      ]
     },
     "execution_count": 23,
     "metadata": {},
     "output_type": "execute_result"
    }
   ],
   "source": [
    "re.search(r'^\\d+', decimal).group()"
   ]
  },
  {
   "cell_type": "code",
   "execution_count": 38,
   "id": "09f2e3f1-86ba-456f-a248-4eeda95f074b",
   "metadata": {},
   "outputs": [
    {
     "data": {
      "text/plain": [
       "'21'"
      ]
     },
     "execution_count": 38,
     "metadata": {},
     "output_type": "execute_result"
    }
   ],
   "source": [
    "re.search(r'(?:0o|0x|0b)(\\d+)', octal).group(1)"
   ]
  },
  {
   "cell_type": "code",
   "execution_count": 20,
   "id": "c2a28ee9-dd78-42cf-ba07-c776476246c2",
   "metadata": {},
   "outputs": [],
   "source": [
    "def print_formatted(number):\n",
    "    # your code goes here\n",
    "    max_width = len(hex(number))-2\n",
    "    import re\n",
    "    for i in range(1, number+1):\n",
    "        decimal = str(i)\n",
    "        octal = re.search(r'(?:0o|0x|0b)(\\d+)', oct(i)).group(1)\n",
    "        hexa = re.search(r'(?:0o|0x|0b)([0-9a-zA-Z]+)', hex(i)).group(1).upper()\n",
    "        binary = re.search(r'(?:0o|0x|0b)(\\d+)', bin(i)).group(1)\n",
    "        \n",
    "        print(f\"{decimal:>{max_width}} {octal:>{max_width}} {hexa:>{max_width}} {binary:>{max_width}}\")"
   ]
  },
  {
   "cell_type": "code",
   "execution_count": 21,
   "id": "46e95d58-2bcb-486e-b127-06689dc621c7",
   "metadata": {},
   "outputs": [
    {
     "name": "stdout",
     "output_type": "stream",
     "text": [
      " 1  1  1  1\n",
      " 2  2  2 10\n",
      " 3  3  3 11\n",
      " 4  4  4 100\n",
      " 5  5  5 101\n",
      " 6  6  6 110\n",
      " 7  7  7 111\n",
      " 8 10  8 1000\n",
      " 9 11  9 1001\n",
      "10 12  A 1010\n",
      "11 13  B 1011\n",
      "12 14  C 1100\n",
      "13 15  D 1101\n",
      "14 16  E 1110\n",
      "15 17  F 1111\n",
      "16 20 10 10000\n",
      "17 21 11 10001\n"
     ]
    }
   ],
   "source": [
    "n = 17\n",
    "\n",
    "print_formatted(n)"
   ]
  },
  {
   "cell_type": "code",
   "execution_count": 1,
   "id": "e3a3ad3f-d636-4861-8b14-92c9dbf56934",
   "metadata": {},
   "outputs": [],
   "source": [
    "import tensorflow as tf\n",
    "import numpy as np"
   ]
  },
  {
   "cell_type": "code",
   "execution_count": 5,
   "id": "3033c5c1-82e8-4af5-936b-742b02418bdc",
   "metadata": {},
   "outputs": [],
   "source": [
    "w = tf.random_normal_initializer()\n",
    "\n",
    "weight = tf.Variable(w(shape=(10,5), dtype='float32'))"
   ]
  },
  {
   "cell_type": "code",
   "execution_count": 6,
   "id": "974b2731-2c23-4362-8ae7-e3c75de61382",
   "metadata": {},
   "outputs": [
    {
     "data": {
      "text/plain": [
       "<tf.Variable 'Variable:0' shape=(10, 5) dtype=float32, numpy=\n",
       "array([[-0.07848272, -0.0010432 , -0.00449087, -0.03631294, -0.01411171],\n",
       "       [-0.04582233, -0.00971841,  0.03130106,  0.09042657,  0.00272496],\n",
       "       [-0.0834529 , -0.05595988, -0.02828383, -0.0244865 , -0.01302333],\n",
       "       [ 0.06334302,  0.03670342, -0.00982061,  0.06437252, -0.00425696],\n",
       "       [-0.07817055, -0.01622769,  0.02670814,  0.04475186,  0.04060686],\n",
       "       [ 0.02372946, -0.07453542, -0.01281731, -0.08541553,  0.03972657],\n",
       "       [-0.07448411, -0.04794458, -0.00473542, -0.01951828,  0.06859373],\n",
       "       [-0.01408468, -0.01314176, -0.06978231,  0.00890043,  0.02713064],\n",
       "       [-0.00310618,  0.00757171,  0.02108019, -0.05907416, -0.01263871],\n",
       "       [ 0.0040056 , -0.09455604,  0.0598483 ,  0.06892749,  0.05614051]],\n",
       "      dtype=float32)>"
      ]
     },
     "execution_count": 6,
     "metadata": {},
     "output_type": "execute_result"
    }
   ],
   "source": [
    "weight\n"
   ]
  },
  {
   "cell_type": "code",
   "execution_count": null,
   "id": "4aec6c1f-ade9-4932-8861-bcfc083c2feb",
   "metadata": {},
   "outputs": [],
   "source": []
  }
 ],
 "metadata": {
  "kernelspec": {
   "display_name": "Python 3 (ipykernel)",
   "language": "python",
   "name": "python3"
  },
  "language_info": {
   "codemirror_mode": {
    "name": "ipython",
    "version": 3
   },
   "file_extension": ".py",
   "mimetype": "text/x-python",
   "name": "python",
   "nbconvert_exporter": "python",
   "pygments_lexer": "ipython3",
   "version": "3.9.19"
  }
 },
 "nbformat": 4,
 "nbformat_minor": 5
}
